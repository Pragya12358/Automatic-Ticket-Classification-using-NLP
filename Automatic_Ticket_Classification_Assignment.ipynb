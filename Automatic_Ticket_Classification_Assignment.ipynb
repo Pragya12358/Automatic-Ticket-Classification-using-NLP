{
 "cells": [
  {
   "cell_type": "markdown",
   "metadata": {
    "id": "rhR-ZUkwJrFn"
   },
   "source": [
    "## Problem Statement \n",
    "\n",
    "You need to build a model that is able to classify customer complaints based on the products/services. By doing so, you can segregate these tickets into their relevant categories and, therefore, help in the quick resolution of the issue.\n",
    "\n",
    "You will be doing topic modelling on the <b>.json</b> data provided by the company. Since this data is not labelled, you need to apply NMF to analyse patterns and classify tickets into the following five clusters based on their products/services:\n",
    "\n",
    "* Credit card / Prepaid card\n",
    "\n",
    "* Bank account services\n",
    "\n",
    "* Theft/Dispute reporting\n",
    "\n",
    "* Mortgages/loans\n",
    "\n",
    "* Others \n",
    "\n",
    "\n",
    "With the help of topic modelling, you will be able to map each ticket onto its respective department/category. You can then use this data to train any supervised model such as logistic regression, decision tree or random forest. Using this trained model, you can classify any new customer complaint support ticket into its relevant department."
   ]
  },
  {
   "cell_type": "markdown",
   "metadata": {
    "id": "mcgXVNyaLUFS"
   },
   "source": [
    "## Pipelines that needs to be performed:\n",
    "\n",
    "You need to perform the following eight major tasks to complete the assignment:\n",
    "\n",
    "1.  Data loading\n",
    "\n",
    "2. Text preprocessing\n",
    "\n",
    "3. Exploratory data analysis (EDA)\n",
    "\n",
    "4. Feature extraction\n",
    "\n",
    "5. Topic modelling \n",
    "\n",
    "6. Model building using supervised learning\n",
    "\n",
    "7. Model training and evaluation\n",
    "\n",
    "8. Model inference"
   ]
  },
  {
   "cell_type": "markdown",
   "metadata": {
    "id": "JuLFIymAL58u"
   },
   "source": [
    "## Importing the necessary libraries"
   ]
  },
  {
   "cell_type": "code",
   "execution_count": 1,
   "metadata": {
    "id": "O-Q9pqrcJrFr"
   },
   "outputs": [],
   "source": [
    "import json \n",
    "import numpy as np\n",
    "import pandas as pd\n",
    "import re, nltk, spacy, string\n",
    "import en_core_web_sm\n",
    "nlp = en_core_web_sm.load()\n",
    "import seaborn as sns\n",
    "import matplotlib.pyplot as plt\n",
    "%matplotlib inline\n",
    "\n",
    "from plotly.offline import plot\n",
    "import plotly.graph_objects as go\n",
    "import plotly.express as px\n",
    "\n",
    "from sklearn.feature_extraction.text import CountVectorizer, TfidfVectorizer\n",
    "from pprint import pprint"
   ]
  },
  {
   "cell_type": "markdown",
   "metadata": {
    "id": "KtRLCsNVJrFt"
   },
   "source": [
    "## Loading the data\n",
    "\n",
    "The data is in JSON format and we need to convert it to a dataframe."
   ]
  },
  {
   "cell_type": "code",
   "execution_count": 2,
   "metadata": {
    "id": "puVzIf_iJrFt"
   },
   "outputs": [],
   "source": [
    "# Opening JSON file\n",
    "f = open(r'C:\\Users\\91973\\Downloads\\complaints-2021-05-14_08_16.json') \n",
    "  \n",
    "# returns JSON object as  \n",
    "# a dictionary \n",
    "data = json.load(f)\n",
    "df = pd.json_normalize(data)"
   ]
  },
  {
   "cell_type": "markdown",
   "metadata": {
    "id": "_xYpH-sAJrFu"
   },
   "source": [
    "## Data preparation"
   ]
  },
  {
   "cell_type": "code",
   "execution_count": 3,
   "metadata": {
    "id": "Lf8ufHH5JrFu"
   },
   "outputs": [
    {
     "data": {
      "text/plain": [
       "(78313, 22)"
      ]
     },
     "execution_count": 3,
     "metadata": {},
     "output_type": "execute_result"
    }
   ],
   "source": [
    "# Inspect the dataframe to understand the given data.\n",
    "df.shape"
   ]
  },
  {
   "cell_type": "code",
   "execution_count": 4,
   "metadata": {},
   "outputs": [
    {
     "data": {
      "text/html": [
       "<div>\n",
       "<style scoped>\n",
       "    .dataframe tbody tr th:only-of-type {\n",
       "        vertical-align: middle;\n",
       "    }\n",
       "\n",
       "    .dataframe tbody tr th {\n",
       "        vertical-align: top;\n",
       "    }\n",
       "\n",
       "    .dataframe thead th {\n",
       "        text-align: right;\n",
       "    }\n",
       "</style>\n",
       "<table border=\"1\" class=\"dataframe\">\n",
       "  <thead>\n",
       "    <tr style=\"text-align: right;\">\n",
       "      <th></th>\n",
       "      <th>_index</th>\n",
       "      <th>_type</th>\n",
       "      <th>_id</th>\n",
       "      <th>_score</th>\n",
       "      <th>_source.tags</th>\n",
       "      <th>_source.zip_code</th>\n",
       "      <th>_source.complaint_id</th>\n",
       "      <th>_source.issue</th>\n",
       "      <th>_source.date_received</th>\n",
       "      <th>_source.state</th>\n",
       "      <th>...</th>\n",
       "      <th>_source.company_response</th>\n",
       "      <th>_source.company</th>\n",
       "      <th>_source.submitted_via</th>\n",
       "      <th>_source.date_sent_to_company</th>\n",
       "      <th>_source.company_public_response</th>\n",
       "      <th>_source.sub_product</th>\n",
       "      <th>_source.timely</th>\n",
       "      <th>_source.complaint_what_happened</th>\n",
       "      <th>_source.sub_issue</th>\n",
       "      <th>_source.consumer_consent_provided</th>\n",
       "    </tr>\n",
       "  </thead>\n",
       "  <tbody>\n",
       "    <tr>\n",
       "      <th>0</th>\n",
       "      <td>complaint-public-v2</td>\n",
       "      <td>complaint</td>\n",
       "      <td>3211475</td>\n",
       "      <td>0.0</td>\n",
       "      <td>None</td>\n",
       "      <td>90301</td>\n",
       "      <td>3211475</td>\n",
       "      <td>Attempts to collect debt not owed</td>\n",
       "      <td>2019-04-13T12:00:00-05:00</td>\n",
       "      <td>CA</td>\n",
       "      <td>...</td>\n",
       "      <td>Closed with explanation</td>\n",
       "      <td>JPMORGAN CHASE &amp; CO.</td>\n",
       "      <td>Web</td>\n",
       "      <td>2019-04-13T12:00:00-05:00</td>\n",
       "      <td>None</td>\n",
       "      <td>Credit card debt</td>\n",
       "      <td>Yes</td>\n",
       "      <td></td>\n",
       "      <td>Debt is not yours</td>\n",
       "      <td>Consent not provided</td>\n",
       "    </tr>\n",
       "    <tr>\n",
       "      <th>1</th>\n",
       "      <td>complaint-public-v2</td>\n",
       "      <td>complaint</td>\n",
       "      <td>3229299</td>\n",
       "      <td>0.0</td>\n",
       "      <td>Servicemember</td>\n",
       "      <td>319XX</td>\n",
       "      <td>3229299</td>\n",
       "      <td>Written notification about debt</td>\n",
       "      <td>2019-05-01T12:00:00-05:00</td>\n",
       "      <td>GA</td>\n",
       "      <td>...</td>\n",
       "      <td>Closed with explanation</td>\n",
       "      <td>JPMORGAN CHASE &amp; CO.</td>\n",
       "      <td>Web</td>\n",
       "      <td>2019-05-01T12:00:00-05:00</td>\n",
       "      <td>None</td>\n",
       "      <td>Credit card debt</td>\n",
       "      <td>Yes</td>\n",
       "      <td>Good morning my name is XXXX XXXX and I apprec...</td>\n",
       "      <td>Didn't receive enough information to verify debt</td>\n",
       "      <td>Consent provided</td>\n",
       "    </tr>\n",
       "    <tr>\n",
       "      <th>2</th>\n",
       "      <td>complaint-public-v2</td>\n",
       "      <td>complaint</td>\n",
       "      <td>3199379</td>\n",
       "      <td>0.0</td>\n",
       "      <td>None</td>\n",
       "      <td>77069</td>\n",
       "      <td>3199379</td>\n",
       "      <td>Other features, terms, or problems</td>\n",
       "      <td>2019-04-02T12:00:00-05:00</td>\n",
       "      <td>TX</td>\n",
       "      <td>...</td>\n",
       "      <td>Closed with explanation</td>\n",
       "      <td>JPMORGAN CHASE &amp; CO.</td>\n",
       "      <td>Web</td>\n",
       "      <td>2019-04-02T12:00:00-05:00</td>\n",
       "      <td>None</td>\n",
       "      <td>General-purpose credit card or charge card</td>\n",
       "      <td>Yes</td>\n",
       "      <td>I upgraded my XXXX XXXX card in XX/XX/2018 and...</td>\n",
       "      <td>Problem with rewards from credit card</td>\n",
       "      <td>Consent provided</td>\n",
       "    </tr>\n",
       "    <tr>\n",
       "      <th>3</th>\n",
       "      <td>complaint-public-v2</td>\n",
       "      <td>complaint</td>\n",
       "      <td>2673060</td>\n",
       "      <td>0.0</td>\n",
       "      <td>None</td>\n",
       "      <td>48066</td>\n",
       "      <td>2673060</td>\n",
       "      <td>Trouble during payment process</td>\n",
       "      <td>2017-09-13T12:00:00-05:00</td>\n",
       "      <td>MI</td>\n",
       "      <td>...</td>\n",
       "      <td>Closed with explanation</td>\n",
       "      <td>JPMORGAN CHASE &amp; CO.</td>\n",
       "      <td>Web</td>\n",
       "      <td>2017-09-14T12:00:00-05:00</td>\n",
       "      <td>None</td>\n",
       "      <td>Conventional home mortgage</td>\n",
       "      <td>Yes</td>\n",
       "      <td></td>\n",
       "      <td>None</td>\n",
       "      <td>Consent not provided</td>\n",
       "    </tr>\n",
       "    <tr>\n",
       "      <th>4</th>\n",
       "      <td>complaint-public-v2</td>\n",
       "      <td>complaint</td>\n",
       "      <td>3203545</td>\n",
       "      <td>0.0</td>\n",
       "      <td>None</td>\n",
       "      <td>10473</td>\n",
       "      <td>3203545</td>\n",
       "      <td>Fees or interest</td>\n",
       "      <td>2019-04-05T12:00:00-05:00</td>\n",
       "      <td>NY</td>\n",
       "      <td>...</td>\n",
       "      <td>Closed with explanation</td>\n",
       "      <td>JPMORGAN CHASE &amp; CO.</td>\n",
       "      <td>Referral</td>\n",
       "      <td>2019-04-05T12:00:00-05:00</td>\n",
       "      <td>None</td>\n",
       "      <td>General-purpose credit card or charge card</td>\n",
       "      <td>Yes</td>\n",
       "      <td></td>\n",
       "      <td>Charged too much interest</td>\n",
       "      <td>N/A</td>\n",
       "    </tr>\n",
       "  </tbody>\n",
       "</table>\n",
       "<p>5 rows × 22 columns</p>\n",
       "</div>"
      ],
      "text/plain": [
       "                _index      _type      _id  _score   _source.tags  \\\n",
       "0  complaint-public-v2  complaint  3211475     0.0           None   \n",
       "1  complaint-public-v2  complaint  3229299     0.0  Servicemember   \n",
       "2  complaint-public-v2  complaint  3199379     0.0           None   \n",
       "3  complaint-public-v2  complaint  2673060     0.0           None   \n",
       "4  complaint-public-v2  complaint  3203545     0.0           None   \n",
       "\n",
       "  _source.zip_code _source.complaint_id                       _source.issue  \\\n",
       "0            90301              3211475   Attempts to collect debt not owed   \n",
       "1            319XX              3229299     Written notification about debt   \n",
       "2            77069              3199379  Other features, terms, or problems   \n",
       "3            48066              2673060      Trouble during payment process   \n",
       "4            10473              3203545                    Fees or interest   \n",
       "\n",
       "       _source.date_received _source.state  ... _source.company_response  \\\n",
       "0  2019-04-13T12:00:00-05:00            CA  ...  Closed with explanation   \n",
       "1  2019-05-01T12:00:00-05:00            GA  ...  Closed with explanation   \n",
       "2  2019-04-02T12:00:00-05:00            TX  ...  Closed with explanation   \n",
       "3  2017-09-13T12:00:00-05:00            MI  ...  Closed with explanation   \n",
       "4  2019-04-05T12:00:00-05:00            NY  ...  Closed with explanation   \n",
       "\n",
       "        _source.company _source.submitted_via _source.date_sent_to_company  \\\n",
       "0  JPMORGAN CHASE & CO.                   Web    2019-04-13T12:00:00-05:00   \n",
       "1  JPMORGAN CHASE & CO.                   Web    2019-05-01T12:00:00-05:00   \n",
       "2  JPMORGAN CHASE & CO.                   Web    2019-04-02T12:00:00-05:00   \n",
       "3  JPMORGAN CHASE & CO.                   Web    2017-09-14T12:00:00-05:00   \n",
       "4  JPMORGAN CHASE & CO.              Referral    2019-04-05T12:00:00-05:00   \n",
       "\n",
       "  _source.company_public_response                         _source.sub_product  \\\n",
       "0                            None                            Credit card debt   \n",
       "1                            None                            Credit card debt   \n",
       "2                            None  General-purpose credit card or charge card   \n",
       "3                            None                  Conventional home mortgage   \n",
       "4                            None  General-purpose credit card or charge card   \n",
       "\n",
       "  _source.timely                    _source.complaint_what_happened  \\\n",
       "0            Yes                                                      \n",
       "1            Yes  Good morning my name is XXXX XXXX and I apprec...   \n",
       "2            Yes  I upgraded my XXXX XXXX card in XX/XX/2018 and...   \n",
       "3            Yes                                                      \n",
       "4            Yes                                                      \n",
       "\n",
       "                                  _source.sub_issue  \\\n",
       "0                                 Debt is not yours   \n",
       "1  Didn't receive enough information to verify debt   \n",
       "2             Problem with rewards from credit card   \n",
       "3                                              None   \n",
       "4                         Charged too much interest   \n",
       "\n",
       "  _source.consumer_consent_provided  \n",
       "0              Consent not provided  \n",
       "1                  Consent provided  \n",
       "2                  Consent provided  \n",
       "3              Consent not provided  \n",
       "4                               N/A  \n",
       "\n",
       "[5 rows x 22 columns]"
      ]
     },
     "execution_count": 4,
     "metadata": {},
     "output_type": "execute_result"
    }
   ],
   "source": [
    "# Check the records top 5 head\n",
    "df.head()"
   ]
  },
  {
   "cell_type": "code",
   "execution_count": 5,
   "metadata": {},
   "outputs": [
    {
     "data": {
      "text/plain": [
       "_index                                object\n",
       "_type                                 object\n",
       "_id                                   object\n",
       "_score                               float64\n",
       "_source.tags                          object\n",
       "_source.zip_code                      object\n",
       "_source.complaint_id                  object\n",
       "_source.issue                         object\n",
       "_source.date_received                 object\n",
       "_source.state                         object\n",
       "_source.consumer_disputed             object\n",
       "_source.product                       object\n",
       "_source.company_response              object\n",
       "_source.company                       object\n",
       "_source.submitted_via                 object\n",
       "_source.date_sent_to_company          object\n",
       "_source.company_public_response       object\n",
       "_source.sub_product                   object\n",
       "_source.timely                        object\n",
       "_source.complaint_what_happened       object\n",
       "_source.sub_issue                     object\n",
       "_source.consumer_consent_provided     object\n",
       "dtype: object"
      ]
     },
     "execution_count": 5,
     "metadata": {},
     "output_type": "execute_result"
    }
   ],
   "source": [
    "# Check for the columns and defaulted datatype\n",
    "df.dtypes"
   ]
  },
  {
   "cell_type": "code",
   "execution_count": 6,
   "metadata": {},
   "outputs": [
    {
     "name": "stdout",
     "output_type": "stream",
     "text": [
      "Columns names:\n",
      " ['_index', '_type', '_id', '_score', '_source.tags', '_source.zip_code', '_source.complaint_id', '_source.issue', '_source.date_received', '_source.state', '_source.consumer_disputed', '_source.product', '_source.company_response', '_source.company', '_source.submitted_via', '_source.date_sent_to_company', '_source.company_public_response', '_source.sub_product', '_source.timely', '_source.complaint_what_happened', '_source.sub_issue', '_source.consumer_consent_provided']\n"
     ]
    }
   ],
   "source": [
    "#print the column names\n",
    "cols = df.columns.to_list()\n",
    "print(\"Columns names:\\n\",cols)"
   ]
  },
  {
   "cell_type": "code",
   "execution_count": 7,
   "metadata": {},
   "outputs": [
    {
     "data": {
      "text/plain": [
       "_index                                   0\n",
       "_type                                    0\n",
       "_id                                      0\n",
       "_score                                   0\n",
       "_source.tags                         67413\n",
       "_source.zip_code                      6757\n",
       "_source.complaint_id                     0\n",
       "_source.issue                            0\n",
       "_source.date_received                    0\n",
       "_source.state                         1991\n",
       "_source.consumer_disputed                0\n",
       "_source.product                          0\n",
       "_source.company_response                 0\n",
       "_source.company                          0\n",
       "_source.submitted_via                    0\n",
       "_source.date_sent_to_company             0\n",
       "_source.company_public_response      78309\n",
       "_source.sub_product                  10571\n",
       "_source.timely                           0\n",
       "_source.complaint_what_happened          0\n",
       "_source.sub_issue                    46297\n",
       "_source.consumer_consent_provided     1008\n",
       "dtype: int64"
      ]
     },
     "execution_count": 7,
     "metadata": {},
     "output_type": "execute_result"
    }
   ],
   "source": [
    "# Checking null value counts for each column.\n",
    "df.isnull().sum()"
   ]
  },
  {
   "cell_type": "markdown",
   "metadata": {},
   "source": [
    "### Insights:\n",
    " - Few column name contains _ and _source , as it could be a problematic and without it the columns represent full meaning. \n",
    " - Remove _ and _source"
   ]
  },
  {
   "cell_type": "code",
   "execution_count": 8,
   "metadata": {
    "id": "FYCtKXD1JrFw"
   },
   "outputs": [
    {
     "name": "stdout",
     "output_type": "stream",
     "text": [
      "New column names:\n",
      " ['index', 'type', 'id', 'score', 'tags', 'zipcode', 'complaintid', 'issue', 'datereceived', 'state', 'consumerdisputed', 'product', 'companyresponse', 'company', 'submittedvia', 'datesenttocompany', 'companypublicresponse', 'subproduct', 'timely', 'complaintwhathappened', 'subissue', 'consumerconsentprovided'] \n",
      "\n"
     ]
    },
    {
     "data": {
      "text/html": [
       "<div>\n",
       "<style scoped>\n",
       "    .dataframe tbody tr th:only-of-type {\n",
       "        vertical-align: middle;\n",
       "    }\n",
       "\n",
       "    .dataframe tbody tr th {\n",
       "        vertical-align: top;\n",
       "    }\n",
       "\n",
       "    .dataframe thead th {\n",
       "        text-align: right;\n",
       "    }\n",
       "</style>\n",
       "<table border=\"1\" class=\"dataframe\">\n",
       "  <thead>\n",
       "    <tr style=\"text-align: right;\">\n",
       "      <th></th>\n",
       "      <th>index</th>\n",
       "      <th>type</th>\n",
       "      <th>id</th>\n",
       "      <th>score</th>\n",
       "      <th>tags</th>\n",
       "      <th>zipcode</th>\n",
       "      <th>complaintid</th>\n",
       "      <th>issue</th>\n",
       "      <th>datereceived</th>\n",
       "      <th>state</th>\n",
       "      <th>...</th>\n",
       "      <th>companyresponse</th>\n",
       "      <th>company</th>\n",
       "      <th>submittedvia</th>\n",
       "      <th>datesenttocompany</th>\n",
       "      <th>companypublicresponse</th>\n",
       "      <th>subproduct</th>\n",
       "      <th>timely</th>\n",
       "      <th>complaintwhathappened</th>\n",
       "      <th>subissue</th>\n",
       "      <th>consumerconsentprovided</th>\n",
       "    </tr>\n",
       "  </thead>\n",
       "  <tbody>\n",
       "    <tr>\n",
       "      <th>0</th>\n",
       "      <td>complaint-public-v2</td>\n",
       "      <td>complaint</td>\n",
       "      <td>3211475</td>\n",
       "      <td>0.0</td>\n",
       "      <td>None</td>\n",
       "      <td>90301</td>\n",
       "      <td>3211475</td>\n",
       "      <td>Attempts to collect debt not owed</td>\n",
       "      <td>2019-04-13T12:00:00-05:00</td>\n",
       "      <td>CA</td>\n",
       "      <td>...</td>\n",
       "      <td>Closed with explanation</td>\n",
       "      <td>JPMORGAN CHASE &amp; CO.</td>\n",
       "      <td>Web</td>\n",
       "      <td>2019-04-13T12:00:00-05:00</td>\n",
       "      <td>None</td>\n",
       "      <td>Credit card debt</td>\n",
       "      <td>Yes</td>\n",
       "      <td></td>\n",
       "      <td>Debt is not yours</td>\n",
       "      <td>Consent not provided</td>\n",
       "    </tr>\n",
       "    <tr>\n",
       "      <th>1</th>\n",
       "      <td>complaint-public-v2</td>\n",
       "      <td>complaint</td>\n",
       "      <td>3229299</td>\n",
       "      <td>0.0</td>\n",
       "      <td>Servicemember</td>\n",
       "      <td>319XX</td>\n",
       "      <td>3229299</td>\n",
       "      <td>Written notification about debt</td>\n",
       "      <td>2019-05-01T12:00:00-05:00</td>\n",
       "      <td>GA</td>\n",
       "      <td>...</td>\n",
       "      <td>Closed with explanation</td>\n",
       "      <td>JPMORGAN CHASE &amp; CO.</td>\n",
       "      <td>Web</td>\n",
       "      <td>2019-05-01T12:00:00-05:00</td>\n",
       "      <td>None</td>\n",
       "      <td>Credit card debt</td>\n",
       "      <td>Yes</td>\n",
       "      <td>Good morning my name is XXXX XXXX and I apprec...</td>\n",
       "      <td>Didn't receive enough information to verify debt</td>\n",
       "      <td>Consent provided</td>\n",
       "    </tr>\n",
       "    <tr>\n",
       "      <th>2</th>\n",
       "      <td>complaint-public-v2</td>\n",
       "      <td>complaint</td>\n",
       "      <td>3199379</td>\n",
       "      <td>0.0</td>\n",
       "      <td>None</td>\n",
       "      <td>77069</td>\n",
       "      <td>3199379</td>\n",
       "      <td>Other features, terms, or problems</td>\n",
       "      <td>2019-04-02T12:00:00-05:00</td>\n",
       "      <td>TX</td>\n",
       "      <td>...</td>\n",
       "      <td>Closed with explanation</td>\n",
       "      <td>JPMORGAN CHASE &amp; CO.</td>\n",
       "      <td>Web</td>\n",
       "      <td>2019-04-02T12:00:00-05:00</td>\n",
       "      <td>None</td>\n",
       "      <td>General-purpose credit card or charge card</td>\n",
       "      <td>Yes</td>\n",
       "      <td>I upgraded my XXXX XXXX card in XX/XX/2018 and...</td>\n",
       "      <td>Problem with rewards from credit card</td>\n",
       "      <td>Consent provided</td>\n",
       "    </tr>\n",
       "    <tr>\n",
       "      <th>3</th>\n",
       "      <td>complaint-public-v2</td>\n",
       "      <td>complaint</td>\n",
       "      <td>2673060</td>\n",
       "      <td>0.0</td>\n",
       "      <td>None</td>\n",
       "      <td>48066</td>\n",
       "      <td>2673060</td>\n",
       "      <td>Trouble during payment process</td>\n",
       "      <td>2017-09-13T12:00:00-05:00</td>\n",
       "      <td>MI</td>\n",
       "      <td>...</td>\n",
       "      <td>Closed with explanation</td>\n",
       "      <td>JPMORGAN CHASE &amp; CO.</td>\n",
       "      <td>Web</td>\n",
       "      <td>2017-09-14T12:00:00-05:00</td>\n",
       "      <td>None</td>\n",
       "      <td>Conventional home mortgage</td>\n",
       "      <td>Yes</td>\n",
       "      <td></td>\n",
       "      <td>None</td>\n",
       "      <td>Consent not provided</td>\n",
       "    </tr>\n",
       "    <tr>\n",
       "      <th>4</th>\n",
       "      <td>complaint-public-v2</td>\n",
       "      <td>complaint</td>\n",
       "      <td>3203545</td>\n",
       "      <td>0.0</td>\n",
       "      <td>None</td>\n",
       "      <td>10473</td>\n",
       "      <td>3203545</td>\n",
       "      <td>Fees or interest</td>\n",
       "      <td>2019-04-05T12:00:00-05:00</td>\n",
       "      <td>NY</td>\n",
       "      <td>...</td>\n",
       "      <td>Closed with explanation</td>\n",
       "      <td>JPMORGAN CHASE &amp; CO.</td>\n",
       "      <td>Referral</td>\n",
       "      <td>2019-04-05T12:00:00-05:00</td>\n",
       "      <td>None</td>\n",
       "      <td>General-purpose credit card or charge card</td>\n",
       "      <td>Yes</td>\n",
       "      <td></td>\n",
       "      <td>Charged too much interest</td>\n",
       "      <td>N/A</td>\n",
       "    </tr>\n",
       "  </tbody>\n",
       "</table>\n",
       "<p>5 rows × 22 columns</p>\n",
       "</div>"
      ],
      "text/plain": [
       "                 index       type       id  score           tags zipcode  \\\n",
       "0  complaint-public-v2  complaint  3211475    0.0           None   90301   \n",
       "1  complaint-public-v2  complaint  3229299    0.0  Servicemember   319XX   \n",
       "2  complaint-public-v2  complaint  3199379    0.0           None   77069   \n",
       "3  complaint-public-v2  complaint  2673060    0.0           None   48066   \n",
       "4  complaint-public-v2  complaint  3203545    0.0           None   10473   \n",
       "\n",
       "  complaintid                               issue               datereceived  \\\n",
       "0     3211475   Attempts to collect debt not owed  2019-04-13T12:00:00-05:00   \n",
       "1     3229299     Written notification about debt  2019-05-01T12:00:00-05:00   \n",
       "2     3199379  Other features, terms, or problems  2019-04-02T12:00:00-05:00   \n",
       "3     2673060      Trouble during payment process  2017-09-13T12:00:00-05:00   \n",
       "4     3203545                    Fees or interest  2019-04-05T12:00:00-05:00   \n",
       "\n",
       "  state  ...          companyresponse               company submittedvia  \\\n",
       "0    CA  ...  Closed with explanation  JPMORGAN CHASE & CO.          Web   \n",
       "1    GA  ...  Closed with explanation  JPMORGAN CHASE & CO.          Web   \n",
       "2    TX  ...  Closed with explanation  JPMORGAN CHASE & CO.          Web   \n",
       "3    MI  ...  Closed with explanation  JPMORGAN CHASE & CO.          Web   \n",
       "4    NY  ...  Closed with explanation  JPMORGAN CHASE & CO.     Referral   \n",
       "\n",
       "           datesenttocompany companypublicresponse  \\\n",
       "0  2019-04-13T12:00:00-05:00                  None   \n",
       "1  2019-05-01T12:00:00-05:00                  None   \n",
       "2  2019-04-02T12:00:00-05:00                  None   \n",
       "3  2017-09-14T12:00:00-05:00                  None   \n",
       "4  2019-04-05T12:00:00-05:00                  None   \n",
       "\n",
       "                                   subproduct timely  \\\n",
       "0                            Credit card debt    Yes   \n",
       "1                            Credit card debt    Yes   \n",
       "2  General-purpose credit card or charge card    Yes   \n",
       "3                  Conventional home mortgage    Yes   \n",
       "4  General-purpose credit card or charge card    Yes   \n",
       "\n",
       "                               complaintwhathappened  \\\n",
       "0                                                      \n",
       "1  Good morning my name is XXXX XXXX and I apprec...   \n",
       "2  I upgraded my XXXX XXXX card in XX/XX/2018 and...   \n",
       "3                                                      \n",
       "4                                                      \n",
       "\n",
       "                                           subissue consumerconsentprovided  \n",
       "0                                 Debt is not yours    Consent not provided  \n",
       "1  Didn't receive enough information to verify debt        Consent provided  \n",
       "2             Problem with rewards from credit card        Consent provided  \n",
       "3                                              None    Consent not provided  \n",
       "4                         Charged too much interest                     N/A  \n",
       "\n",
       "[5 rows x 22 columns]"
      ]
     },
     "execution_count": 8,
     "metadata": {},
     "output_type": "execute_result"
    }
   ],
   "source": [
    "# Assign new column names \n",
    "new_columns = [re.sub('source.|_','',col[1:]) for col in cols]\n",
    "print(\"New column names:\\n\",new_columns, \"\\n\")\n",
    "\n",
    "#Check for the records if new column names take affect\n",
    "df.columns = new_columns\n",
    "df.head()"
   ]
  },
  {
   "cell_type": "code",
   "execution_count": 9,
   "metadata": {},
   "outputs": [
    {
     "data": {
      "text/html": [
       "<div>\n",
       "<style scoped>\n",
       "    .dataframe tbody tr th:only-of-type {\n",
       "        vertical-align: middle;\n",
       "    }\n",
       "\n",
       "    .dataframe tbody tr th {\n",
       "        vertical-align: top;\n",
       "    }\n",
       "\n",
       "    .dataframe thead th {\n",
       "        text-align: right;\n",
       "    }\n",
       "</style>\n",
       "<table border=\"1\" class=\"dataframe\">\n",
       "  <thead>\n",
       "    <tr style=\"text-align: right;\">\n",
       "      <th></th>\n",
       "      <th>index</th>\n",
       "      <th>type</th>\n",
       "      <th>id</th>\n",
       "      <th>score</th>\n",
       "      <th>tags</th>\n",
       "      <th>zipcode</th>\n",
       "      <th>complaintid</th>\n",
       "      <th>issue</th>\n",
       "      <th>datereceived</th>\n",
       "      <th>state</th>\n",
       "      <th>...</th>\n",
       "      <th>companyresponse</th>\n",
       "      <th>company</th>\n",
       "      <th>submittedvia</th>\n",
       "      <th>datesenttocompany</th>\n",
       "      <th>companypublicresponse</th>\n",
       "      <th>subproduct</th>\n",
       "      <th>timely</th>\n",
       "      <th>complaint</th>\n",
       "      <th>subissue</th>\n",
       "      <th>consumerconsentprovided</th>\n",
       "    </tr>\n",
       "  </thead>\n",
       "  <tbody>\n",
       "    <tr>\n",
       "      <th>0</th>\n",
       "      <td>complaint-public-v2</td>\n",
       "      <td>complaint</td>\n",
       "      <td>3211475</td>\n",
       "      <td>0.0</td>\n",
       "      <td>None</td>\n",
       "      <td>90301</td>\n",
       "      <td>3211475</td>\n",
       "      <td>Attempts to collect debt not owed</td>\n",
       "      <td>2019-04-13T12:00:00-05:00</td>\n",
       "      <td>CA</td>\n",
       "      <td>...</td>\n",
       "      <td>Closed with explanation</td>\n",
       "      <td>JPMORGAN CHASE &amp; CO.</td>\n",
       "      <td>Web</td>\n",
       "      <td>2019-04-13T12:00:00-05:00</td>\n",
       "      <td>None</td>\n",
       "      <td>Credit card debt</td>\n",
       "      <td>Yes</td>\n",
       "      <td></td>\n",
       "      <td>Debt is not yours</td>\n",
       "      <td>Consent not provided</td>\n",
       "    </tr>\n",
       "    <tr>\n",
       "      <th>1</th>\n",
       "      <td>complaint-public-v2</td>\n",
       "      <td>complaint</td>\n",
       "      <td>3229299</td>\n",
       "      <td>0.0</td>\n",
       "      <td>Servicemember</td>\n",
       "      <td>319XX</td>\n",
       "      <td>3229299</td>\n",
       "      <td>Written notification about debt</td>\n",
       "      <td>2019-05-01T12:00:00-05:00</td>\n",
       "      <td>GA</td>\n",
       "      <td>...</td>\n",
       "      <td>Closed with explanation</td>\n",
       "      <td>JPMORGAN CHASE &amp; CO.</td>\n",
       "      <td>Web</td>\n",
       "      <td>2019-05-01T12:00:00-05:00</td>\n",
       "      <td>None</td>\n",
       "      <td>Credit card debt</td>\n",
       "      <td>Yes</td>\n",
       "      <td>Good morning my name is XXXX XXXX and I apprec...</td>\n",
       "      <td>Didn't receive enough information to verify debt</td>\n",
       "      <td>Consent provided</td>\n",
       "    </tr>\n",
       "    <tr>\n",
       "      <th>2</th>\n",
       "      <td>complaint-public-v2</td>\n",
       "      <td>complaint</td>\n",
       "      <td>3199379</td>\n",
       "      <td>0.0</td>\n",
       "      <td>None</td>\n",
       "      <td>77069</td>\n",
       "      <td>3199379</td>\n",
       "      <td>Other features, terms, or problems</td>\n",
       "      <td>2019-04-02T12:00:00-05:00</td>\n",
       "      <td>TX</td>\n",
       "      <td>...</td>\n",
       "      <td>Closed with explanation</td>\n",
       "      <td>JPMORGAN CHASE &amp; CO.</td>\n",
       "      <td>Web</td>\n",
       "      <td>2019-04-02T12:00:00-05:00</td>\n",
       "      <td>None</td>\n",
       "      <td>General-purpose credit card or charge card</td>\n",
       "      <td>Yes</td>\n",
       "      <td>I upgraded my XXXX XXXX card in XX/XX/2018 and...</td>\n",
       "      <td>Problem with rewards from credit card</td>\n",
       "      <td>Consent provided</td>\n",
       "    </tr>\n",
       "    <tr>\n",
       "      <th>3</th>\n",
       "      <td>complaint-public-v2</td>\n",
       "      <td>complaint</td>\n",
       "      <td>2673060</td>\n",
       "      <td>0.0</td>\n",
       "      <td>None</td>\n",
       "      <td>48066</td>\n",
       "      <td>2673060</td>\n",
       "      <td>Trouble during payment process</td>\n",
       "      <td>2017-09-13T12:00:00-05:00</td>\n",
       "      <td>MI</td>\n",
       "      <td>...</td>\n",
       "      <td>Closed with explanation</td>\n",
       "      <td>JPMORGAN CHASE &amp; CO.</td>\n",
       "      <td>Web</td>\n",
       "      <td>2017-09-14T12:00:00-05:00</td>\n",
       "      <td>None</td>\n",
       "      <td>Conventional home mortgage</td>\n",
       "      <td>Yes</td>\n",
       "      <td></td>\n",
       "      <td>None</td>\n",
       "      <td>Consent not provided</td>\n",
       "    </tr>\n",
       "    <tr>\n",
       "      <th>4</th>\n",
       "      <td>complaint-public-v2</td>\n",
       "      <td>complaint</td>\n",
       "      <td>3203545</td>\n",
       "      <td>0.0</td>\n",
       "      <td>None</td>\n",
       "      <td>10473</td>\n",
       "      <td>3203545</td>\n",
       "      <td>Fees or interest</td>\n",
       "      <td>2019-04-05T12:00:00-05:00</td>\n",
       "      <td>NY</td>\n",
       "      <td>...</td>\n",
       "      <td>Closed with explanation</td>\n",
       "      <td>JPMORGAN CHASE &amp; CO.</td>\n",
       "      <td>Referral</td>\n",
       "      <td>2019-04-05T12:00:00-05:00</td>\n",
       "      <td>None</td>\n",
       "      <td>General-purpose credit card or charge card</td>\n",
       "      <td>Yes</td>\n",
       "      <td></td>\n",
       "      <td>Charged too much interest</td>\n",
       "      <td>N/A</td>\n",
       "    </tr>\n",
       "  </tbody>\n",
       "</table>\n",
       "<p>5 rows × 22 columns</p>\n",
       "</div>"
      ],
      "text/plain": [
       "                 index       type       id  score           tags zipcode  \\\n",
       "0  complaint-public-v2  complaint  3211475    0.0           None   90301   \n",
       "1  complaint-public-v2  complaint  3229299    0.0  Servicemember   319XX   \n",
       "2  complaint-public-v2  complaint  3199379    0.0           None   77069   \n",
       "3  complaint-public-v2  complaint  2673060    0.0           None   48066   \n",
       "4  complaint-public-v2  complaint  3203545    0.0           None   10473   \n",
       "\n",
       "  complaintid                               issue               datereceived  \\\n",
       "0     3211475   Attempts to collect debt not owed  2019-04-13T12:00:00-05:00   \n",
       "1     3229299     Written notification about debt  2019-05-01T12:00:00-05:00   \n",
       "2     3199379  Other features, terms, or problems  2019-04-02T12:00:00-05:00   \n",
       "3     2673060      Trouble during payment process  2017-09-13T12:00:00-05:00   \n",
       "4     3203545                    Fees or interest  2019-04-05T12:00:00-05:00   \n",
       "\n",
       "  state  ...          companyresponse               company submittedvia  \\\n",
       "0    CA  ...  Closed with explanation  JPMORGAN CHASE & CO.          Web   \n",
       "1    GA  ...  Closed with explanation  JPMORGAN CHASE & CO.          Web   \n",
       "2    TX  ...  Closed with explanation  JPMORGAN CHASE & CO.          Web   \n",
       "3    MI  ...  Closed with explanation  JPMORGAN CHASE & CO.          Web   \n",
       "4    NY  ...  Closed with explanation  JPMORGAN CHASE & CO.     Referral   \n",
       "\n",
       "           datesenttocompany companypublicresponse  \\\n",
       "0  2019-04-13T12:00:00-05:00                  None   \n",
       "1  2019-05-01T12:00:00-05:00                  None   \n",
       "2  2019-04-02T12:00:00-05:00                  None   \n",
       "3  2017-09-14T12:00:00-05:00                  None   \n",
       "4  2019-04-05T12:00:00-05:00                  None   \n",
       "\n",
       "                                   subproduct timely  \\\n",
       "0                            Credit card debt    Yes   \n",
       "1                            Credit card debt    Yes   \n",
       "2  General-purpose credit card or charge card    Yes   \n",
       "3                  Conventional home mortgage    Yes   \n",
       "4  General-purpose credit card or charge card    Yes   \n",
       "\n",
       "                                           complaint  \\\n",
       "0                                                      \n",
       "1  Good morning my name is XXXX XXXX and I apprec...   \n",
       "2  I upgraded my XXXX XXXX card in XX/XX/2018 and...   \n",
       "3                                                      \n",
       "4                                                      \n",
       "\n",
       "                                           subissue consumerconsentprovided  \n",
       "0                                 Debt is not yours    Consent not provided  \n",
       "1  Didn't receive enough information to verify debt        Consent provided  \n",
       "2             Problem with rewards from credit card        Consent provided  \n",
       "3                                              None    Consent not provided  \n",
       "4                         Charged too much interest                     N/A  \n",
       "\n",
       "[5 rows x 22 columns]"
      ]
     },
     "execution_count": 9,
     "metadata": {},
     "output_type": "execute_result"
    }
   ],
   "source": [
    "# rename the column complaintwhathappend to complaint\n",
    "df.rename(columns = {'complaintwhathappened':'complaint'}, inplace = True)\n",
    "\n",
    "#print the top 5 rows\n",
    "df.head()"
   ]
  },
  {
   "cell_type": "markdown",
   "metadata": {
    "id": "grQUPFL5JrFx"
   },
   "source": [
    "#### Assign NAN in place of blanks in the complaints column "
   ]
  },
  {
   "cell_type": "code",
   "execution_count": 10,
   "metadata": {},
   "outputs": [
    {
     "data": {
      "text/plain": [
       "0"
      ]
     },
     "execution_count": 10,
     "metadata": {},
     "output_type": "execute_result"
    }
   ],
   "source": [
    "# check how many records are null \n",
    "df['complaint'].isnull().sum()"
   ]
  },
  {
   "cell_type": "code",
   "execution_count": 11,
   "metadata": {},
   "outputs": [
    {
     "name": "stdout",
     "output_type": "stream",
     "text": [
      "Number of rows with blank complaints  57241\n"
     ]
    }
   ],
   "source": [
    "# Number of rows with blank complaints\n",
    "total_blank_rows = len(df[(df['complaint'] == '') | (df['complaint'] == ' ')])\n",
    "print('Number of rows with blank complaints ', total_blank_rows)"
   ]
  },
  {
   "cell_type": "markdown",
   "metadata": {},
   "source": [
    "#### Remove all rows where complaints column is nan"
   ]
  },
  {
   "cell_type": "code",
   "execution_count": 12,
   "metadata": {
    "id": "Jfxd8VSmJrFy"
   },
   "outputs": [],
   "source": [
    "df['complaint'] = df['complaint'].replace(r\"^\\s*$\", np.NaN, regex=True)"
   ]
  },
  {
   "cell_type": "code",
   "execution_count": 13,
   "metadata": {},
   "outputs": [
    {
     "name": "stdout",
     "output_type": "stream",
     "text": [
      "Columns with NAN values 57241\n",
      "Columns with blank or empty spaces 0\n"
     ]
    }
   ],
   "source": [
    "#Check for the rows with null values\n",
    "print('Columns with NAN values', df['complaint'].isnull().sum())\n",
    "\n",
    "#Check the column with blank or empty spaces,it should be zero\n",
    "total_blank_rows = len(df[(df['complaint'] == '') | (df['complaint'] == ' ')])\n",
    "print('Columns with blank or empty spaces', total_blank_rows)"
   ]
  },
  {
   "cell_type": "code",
   "execution_count": 14,
   "metadata": {},
   "outputs": [
    {
     "name": "stdout",
     "output_type": "stream",
     "text": [
      "Dataframe shape after removing the rows (21072, 22)\n"
     ]
    }
   ],
   "source": [
    "# filter the rows with nan or null values\n",
    "df = df[~df['complaint'].isnull()]\n",
    "\n",
    "#We can see that 78313 = 21072 + 57241\n",
    "print('Dataframe shape after removing the rows', df.shape)"
   ]
  },
  {
   "cell_type": "code",
   "execution_count": 15,
   "metadata": {},
   "outputs": [
    {
     "data": {
      "text/html": [
       "<div>\n",
       "<style scoped>\n",
       "    .dataframe tbody tr th:only-of-type {\n",
       "        vertical-align: middle;\n",
       "    }\n",
       "\n",
       "    .dataframe tbody tr th {\n",
       "        vertical-align: top;\n",
       "    }\n",
       "\n",
       "    .dataframe thead th {\n",
       "        text-align: right;\n",
       "    }\n",
       "</style>\n",
       "<table border=\"1\" class=\"dataframe\">\n",
       "  <thead>\n",
       "    <tr style=\"text-align: right;\">\n",
       "      <th></th>\n",
       "      <th>index</th>\n",
       "      <th>type</th>\n",
       "      <th>id</th>\n",
       "      <th>score</th>\n",
       "      <th>tags</th>\n",
       "      <th>zipcode</th>\n",
       "      <th>complaintid</th>\n",
       "      <th>issue</th>\n",
       "      <th>datereceived</th>\n",
       "      <th>state</th>\n",
       "      <th>...</th>\n",
       "      <th>companyresponse</th>\n",
       "      <th>company</th>\n",
       "      <th>submittedvia</th>\n",
       "      <th>datesenttocompany</th>\n",
       "      <th>companypublicresponse</th>\n",
       "      <th>subproduct</th>\n",
       "      <th>timely</th>\n",
       "      <th>complaint</th>\n",
       "      <th>subissue</th>\n",
       "      <th>consumerconsentprovided</th>\n",
       "    </tr>\n",
       "  </thead>\n",
       "  <tbody>\n",
       "    <tr>\n",
       "      <th>1</th>\n",
       "      <td>complaint-public-v2</td>\n",
       "      <td>complaint</td>\n",
       "      <td>3229299</td>\n",
       "      <td>0.0</td>\n",
       "      <td>Servicemember</td>\n",
       "      <td>319XX</td>\n",
       "      <td>3229299</td>\n",
       "      <td>Written notification about debt</td>\n",
       "      <td>2019-05-01T12:00:00-05:00</td>\n",
       "      <td>GA</td>\n",
       "      <td>...</td>\n",
       "      <td>Closed with explanation</td>\n",
       "      <td>JPMORGAN CHASE &amp; CO.</td>\n",
       "      <td>Web</td>\n",
       "      <td>2019-05-01T12:00:00-05:00</td>\n",
       "      <td>None</td>\n",
       "      <td>Credit card debt</td>\n",
       "      <td>Yes</td>\n",
       "      <td>Good morning my name is XXXX XXXX and I apprec...</td>\n",
       "      <td>Didn't receive enough information to verify debt</td>\n",
       "      <td>Consent provided</td>\n",
       "    </tr>\n",
       "    <tr>\n",
       "      <th>2</th>\n",
       "      <td>complaint-public-v2</td>\n",
       "      <td>complaint</td>\n",
       "      <td>3199379</td>\n",
       "      <td>0.0</td>\n",
       "      <td>None</td>\n",
       "      <td>77069</td>\n",
       "      <td>3199379</td>\n",
       "      <td>Other features, terms, or problems</td>\n",
       "      <td>2019-04-02T12:00:00-05:00</td>\n",
       "      <td>TX</td>\n",
       "      <td>...</td>\n",
       "      <td>Closed with explanation</td>\n",
       "      <td>JPMORGAN CHASE &amp; CO.</td>\n",
       "      <td>Web</td>\n",
       "      <td>2019-04-02T12:00:00-05:00</td>\n",
       "      <td>None</td>\n",
       "      <td>General-purpose credit card or charge card</td>\n",
       "      <td>Yes</td>\n",
       "      <td>I upgraded my XXXX XXXX card in XX/XX/2018 and...</td>\n",
       "      <td>Problem with rewards from credit card</td>\n",
       "      <td>Consent provided</td>\n",
       "    </tr>\n",
       "    <tr>\n",
       "      <th>10</th>\n",
       "      <td>complaint-public-v2</td>\n",
       "      <td>complaint</td>\n",
       "      <td>3233499</td>\n",
       "      <td>0.0</td>\n",
       "      <td>None</td>\n",
       "      <td>104XX</td>\n",
       "      <td>3233499</td>\n",
       "      <td>Incorrect information on your report</td>\n",
       "      <td>2019-05-06T12:00:00-05:00</td>\n",
       "      <td>NY</td>\n",
       "      <td>...</td>\n",
       "      <td>Closed with explanation</td>\n",
       "      <td>JPMORGAN CHASE &amp; CO.</td>\n",
       "      <td>Web</td>\n",
       "      <td>2019-05-06T12:00:00-05:00</td>\n",
       "      <td>None</td>\n",
       "      <td>Other personal consumer report</td>\n",
       "      <td>Yes</td>\n",
       "      <td>Chase Card was reported on XX/XX/2019. However...</td>\n",
       "      <td>Information belongs to someone else</td>\n",
       "      <td>Consent provided</td>\n",
       "    </tr>\n",
       "    <tr>\n",
       "      <th>11</th>\n",
       "      <td>complaint-public-v2</td>\n",
       "      <td>complaint</td>\n",
       "      <td>3180294</td>\n",
       "      <td>0.0</td>\n",
       "      <td>None</td>\n",
       "      <td>750XX</td>\n",
       "      <td>3180294</td>\n",
       "      <td>Incorrect information on your report</td>\n",
       "      <td>2019-03-14T12:00:00-05:00</td>\n",
       "      <td>TX</td>\n",
       "      <td>...</td>\n",
       "      <td>Closed with explanation</td>\n",
       "      <td>JPMORGAN CHASE &amp; CO.</td>\n",
       "      <td>Web</td>\n",
       "      <td>2019-03-15T12:00:00-05:00</td>\n",
       "      <td>None</td>\n",
       "      <td>Credit reporting</td>\n",
       "      <td>Yes</td>\n",
       "      <td>On XX/XX/2018, while trying to book a XXXX  XX...</td>\n",
       "      <td>Information belongs to someone else</td>\n",
       "      <td>Consent provided</td>\n",
       "    </tr>\n",
       "    <tr>\n",
       "      <th>14</th>\n",
       "      <td>complaint-public-v2</td>\n",
       "      <td>complaint</td>\n",
       "      <td>3224980</td>\n",
       "      <td>0.0</td>\n",
       "      <td>None</td>\n",
       "      <td>920XX</td>\n",
       "      <td>3224980</td>\n",
       "      <td>Managing an account</td>\n",
       "      <td>2019-04-27T12:00:00-05:00</td>\n",
       "      <td>CA</td>\n",
       "      <td>...</td>\n",
       "      <td>Closed with explanation</td>\n",
       "      <td>JPMORGAN CHASE &amp; CO.</td>\n",
       "      <td>Web</td>\n",
       "      <td>2019-04-27T12:00:00-05:00</td>\n",
       "      <td>None</td>\n",
       "      <td>Checking account</td>\n",
       "      <td>Yes</td>\n",
       "      <td>my grand son give me check for {$1600.00} i de...</td>\n",
       "      <td>Funds not handled or disbursed as instructed</td>\n",
       "      <td>Consent provided</td>\n",
       "    </tr>\n",
       "  </tbody>\n",
       "</table>\n",
       "<p>5 rows × 22 columns</p>\n",
       "</div>"
      ],
      "text/plain": [
       "                  index       type       id  score           tags zipcode  \\\n",
       "1   complaint-public-v2  complaint  3229299    0.0  Servicemember   319XX   \n",
       "2   complaint-public-v2  complaint  3199379    0.0           None   77069   \n",
       "10  complaint-public-v2  complaint  3233499    0.0           None   104XX   \n",
       "11  complaint-public-v2  complaint  3180294    0.0           None   750XX   \n",
       "14  complaint-public-v2  complaint  3224980    0.0           None   920XX   \n",
       "\n",
       "   complaintid                                 issue  \\\n",
       "1      3229299       Written notification about debt   \n",
       "2      3199379    Other features, terms, or problems   \n",
       "10     3233499  Incorrect information on your report   \n",
       "11     3180294  Incorrect information on your report   \n",
       "14     3224980                   Managing an account   \n",
       "\n",
       "                 datereceived state  ...          companyresponse  \\\n",
       "1   2019-05-01T12:00:00-05:00    GA  ...  Closed with explanation   \n",
       "2   2019-04-02T12:00:00-05:00    TX  ...  Closed with explanation   \n",
       "10  2019-05-06T12:00:00-05:00    NY  ...  Closed with explanation   \n",
       "11  2019-03-14T12:00:00-05:00    TX  ...  Closed with explanation   \n",
       "14  2019-04-27T12:00:00-05:00    CA  ...  Closed with explanation   \n",
       "\n",
       "                 company submittedvia          datesenttocompany  \\\n",
       "1   JPMORGAN CHASE & CO.          Web  2019-05-01T12:00:00-05:00   \n",
       "2   JPMORGAN CHASE & CO.          Web  2019-04-02T12:00:00-05:00   \n",
       "10  JPMORGAN CHASE & CO.          Web  2019-05-06T12:00:00-05:00   \n",
       "11  JPMORGAN CHASE & CO.          Web  2019-03-15T12:00:00-05:00   \n",
       "14  JPMORGAN CHASE & CO.          Web  2019-04-27T12:00:00-05:00   \n",
       "\n",
       "   companypublicresponse                                  subproduct timely  \\\n",
       "1                   None                            Credit card debt    Yes   \n",
       "2                   None  General-purpose credit card or charge card    Yes   \n",
       "10                  None              Other personal consumer report    Yes   \n",
       "11                  None                            Credit reporting    Yes   \n",
       "14                  None                            Checking account    Yes   \n",
       "\n",
       "                                            complaint  \\\n",
       "1   Good morning my name is XXXX XXXX and I apprec...   \n",
       "2   I upgraded my XXXX XXXX card in XX/XX/2018 and...   \n",
       "10  Chase Card was reported on XX/XX/2019. However...   \n",
       "11  On XX/XX/2018, while trying to book a XXXX  XX...   \n",
       "14  my grand son give me check for {$1600.00} i de...   \n",
       "\n",
       "                                            subissue consumerconsentprovided  \n",
       "1   Didn't receive enough information to verify debt        Consent provided  \n",
       "2              Problem with rewards from credit card        Consent provided  \n",
       "10               Information belongs to someone else        Consent provided  \n",
       "11               Information belongs to someone else        Consent provided  \n",
       "14      Funds not handled or disbursed as instructed        Consent provided  \n",
       "\n",
       "[5 rows x 22 columns]"
      ]
     },
     "execution_count": 15,
     "metadata": {},
     "output_type": "execute_result"
    }
   ],
   "source": [
    "df.head()"
   ]
  },
  {
   "cell_type": "markdown",
   "metadata": {
    "id": "L944HZpsJrFy"
   },
   "source": [
    "## Prepare the text for topic modeling\n",
    "\n",
    "Once you have removed all the blank complaints, you need to:\n",
    "\n",
    "* Make the text lowercase\n",
    "* Remove text in square brackets\n",
    "* Remove punctuation\n",
    "* Remove words containing numbers\n",
    "\n",
    "\n",
    "Once you have done these cleaning operations you need to perform the following:\n",
    "* Lemmatize the texts\n",
    "* Extract the POS tags of the lemmatized text and remove all the words which have tags other than NN[tag == \"NN\"].\n"
   ]
  },
  {
   "cell_type": "code",
   "execution_count": 16,
   "metadata": {
    "id": "qm7SjjSkJrFz"
   },
   "outputs": [
    {
     "data": {
      "text/plain": [
       "1        good morning my name is xxxx xxxx and i apprec...\n",
       "2        i upgraded my xxxx xxxx card in  and was told ...\n",
       "10       chase card was reported on  however fraudulent...\n",
       "11       on  while trying to book a xxxx  xxxx  ticket ...\n",
       "14       my grand son give me check for  i deposit it i...\n",
       "                               ...                        \n",
       "78303    after being a chase card customer for well ove...\n",
       "78309    on wednesday xxxxxxxx i called chas my xxxx xx...\n",
       "78310    i am not familiar with xxxx pay and did not un...\n",
       "78311    i have had flawless credit for  yrs ive had ch...\n",
       "78312    roughly  years ago i closed out my accounts wi...\n",
       "Name: complaint_cleaned, Length: 21072, dtype: object"
      ]
     },
     "execution_count": 16,
     "metadata": {},
     "output_type": "execute_result"
    }
   ],
   "source": [
    "# Write your function here to clean the text and remove all the unnecessary elements.\n",
    "\n",
    "def preProcessText(value):\n",
    "    value = value.lower() # to lower case\n",
    "    value = value.strip() # trim operation\n",
    "    value = re.sub(r\"[\\[].*?[\\]]\",\"\",value).strip() #remove within square bracket\n",
    "    value = re.sub(r\"[^\\w\\s]\",\"\",value).strip() # remove punctuation\n",
    "    value = re.sub(\"\\S*\\d\\S*\",\"\",value).strip() # remove words containing numbers\n",
    "    return value\n",
    "\n",
    "df['complaint_cleaned'] = df['complaint'].apply(preProcessText)\n",
    "\n",
    "df['complaint_cleaned'] "
   ]
  },
  {
   "cell_type": "code",
   "execution_count": 17,
   "metadata": {},
   "outputs": [
    {
     "data": {
      "text/html": [
       "<div>\n",
       "<style scoped>\n",
       "    .dataframe tbody tr th:only-of-type {\n",
       "        vertical-align: middle;\n",
       "    }\n",
       "\n",
       "    .dataframe tbody tr th {\n",
       "        vertical-align: top;\n",
       "    }\n",
       "\n",
       "    .dataframe thead th {\n",
       "        text-align: right;\n",
       "    }\n",
       "</style>\n",
       "<table border=\"1\" class=\"dataframe\">\n",
       "  <thead>\n",
       "    <tr style=\"text-align: right;\">\n",
       "      <th></th>\n",
       "      <th>index</th>\n",
       "      <th>type</th>\n",
       "      <th>id</th>\n",
       "      <th>score</th>\n",
       "      <th>tags</th>\n",
       "      <th>zipcode</th>\n",
       "      <th>complaintid</th>\n",
       "      <th>issue</th>\n",
       "      <th>datereceived</th>\n",
       "      <th>state</th>\n",
       "      <th>...</th>\n",
       "      <th>company</th>\n",
       "      <th>submittedvia</th>\n",
       "      <th>datesenttocompany</th>\n",
       "      <th>companypublicresponse</th>\n",
       "      <th>subproduct</th>\n",
       "      <th>timely</th>\n",
       "      <th>complaint</th>\n",
       "      <th>subissue</th>\n",
       "      <th>consumerconsentprovided</th>\n",
       "      <th>complaint_cleaned</th>\n",
       "    </tr>\n",
       "  </thead>\n",
       "  <tbody>\n",
       "    <tr>\n",
       "      <th>1</th>\n",
       "      <td>complaint-public-v2</td>\n",
       "      <td>complaint</td>\n",
       "      <td>3229299</td>\n",
       "      <td>0.0</td>\n",
       "      <td>Servicemember</td>\n",
       "      <td>319XX</td>\n",
       "      <td>3229299</td>\n",
       "      <td>Written notification about debt</td>\n",
       "      <td>2019-05-01T12:00:00-05:00</td>\n",
       "      <td>GA</td>\n",
       "      <td>...</td>\n",
       "      <td>JPMORGAN CHASE &amp; CO.</td>\n",
       "      <td>Web</td>\n",
       "      <td>2019-05-01T12:00:00-05:00</td>\n",
       "      <td>None</td>\n",
       "      <td>Credit card debt</td>\n",
       "      <td>Yes</td>\n",
       "      <td>Good morning my name is XXXX XXXX and I apprec...</td>\n",
       "      <td>Didn't receive enough information to verify debt</td>\n",
       "      <td>Consent provided</td>\n",
       "      <td>good morning my name is xxxx xxxx and i apprec...</td>\n",
       "    </tr>\n",
       "    <tr>\n",
       "      <th>2</th>\n",
       "      <td>complaint-public-v2</td>\n",
       "      <td>complaint</td>\n",
       "      <td>3199379</td>\n",
       "      <td>0.0</td>\n",
       "      <td>None</td>\n",
       "      <td>77069</td>\n",
       "      <td>3199379</td>\n",
       "      <td>Other features, terms, or problems</td>\n",
       "      <td>2019-04-02T12:00:00-05:00</td>\n",
       "      <td>TX</td>\n",
       "      <td>...</td>\n",
       "      <td>JPMORGAN CHASE &amp; CO.</td>\n",
       "      <td>Web</td>\n",
       "      <td>2019-04-02T12:00:00-05:00</td>\n",
       "      <td>None</td>\n",
       "      <td>General-purpose credit card or charge card</td>\n",
       "      <td>Yes</td>\n",
       "      <td>I upgraded my XXXX XXXX card in XX/XX/2018 and...</td>\n",
       "      <td>Problem with rewards from credit card</td>\n",
       "      <td>Consent provided</td>\n",
       "      <td>i upgraded my xxxx xxxx card in  and was told ...</td>\n",
       "    </tr>\n",
       "    <tr>\n",
       "      <th>10</th>\n",
       "      <td>complaint-public-v2</td>\n",
       "      <td>complaint</td>\n",
       "      <td>3233499</td>\n",
       "      <td>0.0</td>\n",
       "      <td>None</td>\n",
       "      <td>104XX</td>\n",
       "      <td>3233499</td>\n",
       "      <td>Incorrect information on your report</td>\n",
       "      <td>2019-05-06T12:00:00-05:00</td>\n",
       "      <td>NY</td>\n",
       "      <td>...</td>\n",
       "      <td>JPMORGAN CHASE &amp; CO.</td>\n",
       "      <td>Web</td>\n",
       "      <td>2019-05-06T12:00:00-05:00</td>\n",
       "      <td>None</td>\n",
       "      <td>Other personal consumer report</td>\n",
       "      <td>Yes</td>\n",
       "      <td>Chase Card was reported on XX/XX/2019. However...</td>\n",
       "      <td>Information belongs to someone else</td>\n",
       "      <td>Consent provided</td>\n",
       "      <td>chase card was reported on  however fraudulent...</td>\n",
       "    </tr>\n",
       "    <tr>\n",
       "      <th>11</th>\n",
       "      <td>complaint-public-v2</td>\n",
       "      <td>complaint</td>\n",
       "      <td>3180294</td>\n",
       "      <td>0.0</td>\n",
       "      <td>None</td>\n",
       "      <td>750XX</td>\n",
       "      <td>3180294</td>\n",
       "      <td>Incorrect information on your report</td>\n",
       "      <td>2019-03-14T12:00:00-05:00</td>\n",
       "      <td>TX</td>\n",
       "      <td>...</td>\n",
       "      <td>JPMORGAN CHASE &amp; CO.</td>\n",
       "      <td>Web</td>\n",
       "      <td>2019-03-15T12:00:00-05:00</td>\n",
       "      <td>None</td>\n",
       "      <td>Credit reporting</td>\n",
       "      <td>Yes</td>\n",
       "      <td>On XX/XX/2018, while trying to book a XXXX  XX...</td>\n",
       "      <td>Information belongs to someone else</td>\n",
       "      <td>Consent provided</td>\n",
       "      <td>on  while trying to book a xxxx  xxxx  ticket ...</td>\n",
       "    </tr>\n",
       "    <tr>\n",
       "      <th>14</th>\n",
       "      <td>complaint-public-v2</td>\n",
       "      <td>complaint</td>\n",
       "      <td>3224980</td>\n",
       "      <td>0.0</td>\n",
       "      <td>None</td>\n",
       "      <td>920XX</td>\n",
       "      <td>3224980</td>\n",
       "      <td>Managing an account</td>\n",
       "      <td>2019-04-27T12:00:00-05:00</td>\n",
       "      <td>CA</td>\n",
       "      <td>...</td>\n",
       "      <td>JPMORGAN CHASE &amp; CO.</td>\n",
       "      <td>Web</td>\n",
       "      <td>2019-04-27T12:00:00-05:00</td>\n",
       "      <td>None</td>\n",
       "      <td>Checking account</td>\n",
       "      <td>Yes</td>\n",
       "      <td>my grand son give me check for {$1600.00} i de...</td>\n",
       "      <td>Funds not handled or disbursed as instructed</td>\n",
       "      <td>Consent provided</td>\n",
       "      <td>my grand son give me check for  i deposit it i...</td>\n",
       "    </tr>\n",
       "  </tbody>\n",
       "</table>\n",
       "<p>5 rows × 23 columns</p>\n",
       "</div>"
      ],
      "text/plain": [
       "                  index       type       id  score           tags zipcode  \\\n",
       "1   complaint-public-v2  complaint  3229299    0.0  Servicemember   319XX   \n",
       "2   complaint-public-v2  complaint  3199379    0.0           None   77069   \n",
       "10  complaint-public-v2  complaint  3233499    0.0           None   104XX   \n",
       "11  complaint-public-v2  complaint  3180294    0.0           None   750XX   \n",
       "14  complaint-public-v2  complaint  3224980    0.0           None   920XX   \n",
       "\n",
       "   complaintid                                 issue  \\\n",
       "1      3229299       Written notification about debt   \n",
       "2      3199379    Other features, terms, or problems   \n",
       "10     3233499  Incorrect information on your report   \n",
       "11     3180294  Incorrect information on your report   \n",
       "14     3224980                   Managing an account   \n",
       "\n",
       "                 datereceived state  ...               company submittedvia  \\\n",
       "1   2019-05-01T12:00:00-05:00    GA  ...  JPMORGAN CHASE & CO.          Web   \n",
       "2   2019-04-02T12:00:00-05:00    TX  ...  JPMORGAN CHASE & CO.          Web   \n",
       "10  2019-05-06T12:00:00-05:00    NY  ...  JPMORGAN CHASE & CO.          Web   \n",
       "11  2019-03-14T12:00:00-05:00    TX  ...  JPMORGAN CHASE & CO.          Web   \n",
       "14  2019-04-27T12:00:00-05:00    CA  ...  JPMORGAN CHASE & CO.          Web   \n",
       "\n",
       "            datesenttocompany companypublicresponse  \\\n",
       "1   2019-05-01T12:00:00-05:00                  None   \n",
       "2   2019-04-02T12:00:00-05:00                  None   \n",
       "10  2019-05-06T12:00:00-05:00                  None   \n",
       "11  2019-03-15T12:00:00-05:00                  None   \n",
       "14  2019-04-27T12:00:00-05:00                  None   \n",
       "\n",
       "                                    subproduct timely  \\\n",
       "1                             Credit card debt    Yes   \n",
       "2   General-purpose credit card or charge card    Yes   \n",
       "10              Other personal consumer report    Yes   \n",
       "11                            Credit reporting    Yes   \n",
       "14                            Checking account    Yes   \n",
       "\n",
       "                                            complaint  \\\n",
       "1   Good morning my name is XXXX XXXX and I apprec...   \n",
       "2   I upgraded my XXXX XXXX card in XX/XX/2018 and...   \n",
       "10  Chase Card was reported on XX/XX/2019. However...   \n",
       "11  On XX/XX/2018, while trying to book a XXXX  XX...   \n",
       "14  my grand son give me check for {$1600.00} i de...   \n",
       "\n",
       "                                            subissue consumerconsentprovided  \\\n",
       "1   Didn't receive enough information to verify debt        Consent provided   \n",
       "2              Problem with rewards from credit card        Consent provided   \n",
       "10               Information belongs to someone else        Consent provided   \n",
       "11               Information belongs to someone else        Consent provided   \n",
       "14      Funds not handled or disbursed as instructed        Consent provided   \n",
       "\n",
       "                                    complaint_cleaned  \n",
       "1   good morning my name is xxxx xxxx and i apprec...  \n",
       "2   i upgraded my xxxx xxxx card in  and was told ...  \n",
       "10  chase card was reported on  however fraudulent...  \n",
       "11  on  while trying to book a xxxx  xxxx  ticket ...  \n",
       "14  my grand son give me check for  i deposit it i...  \n",
       "\n",
       "[5 rows x 23 columns]"
      ]
     },
     "execution_count": 17,
     "metadata": {},
     "output_type": "execute_result"
    }
   ],
   "source": [
    "df.head()"
   ]
  },
  {
   "cell_type": "markdown",
   "metadata": {
    "id": "zgOu8t8HJrFz"
   },
   "source": [
    "### Write your function to Lemmatize the texts"
   ]
  },
  {
   "cell_type": "code",
   "execution_count": 18,
   "metadata": {},
   "outputs": [
    {
     "name": "stderr",
     "output_type": "stream",
     "text": [
      "[nltk_data] Downloading package stopwords to\n",
      "[nltk_data]     C:\\Users\\91973\\AppData\\Roaming\\nltk_data...\n",
      "[nltk_data]   Package stopwords is already up-to-date!\n",
      "[nltk_data] Downloading package punkt to\n",
      "[nltk_data]     C:\\Users\\91973\\AppData\\Roaming\\nltk_data...\n",
      "[nltk_data]   Package punkt is already up-to-date!\n",
      "[nltk_data] Downloading package averaged_perceptron_tagger to\n",
      "[nltk_data]     C:\\Users\\91973\\AppData\\Roaming\\nltk_data...\n",
      "[nltk_data]   Package averaged_perceptron_tagger is already up-to-\n",
      "[nltk_data]       date!\n",
      "[nltk_data] Downloading package wordnet to\n",
      "[nltk_data]     C:\\Users\\91973\\AppData\\Roaming\\nltk_data...\n",
      "[nltk_data]   Package wordnet is already up-to-date!\n"
     ]
    },
    {
     "name": "stdout",
     "output_type": "stream",
     "text": [
      "Requirement already satisfied: swifter in c:\\users\\91973\\anaconda3\\lib\\site-packages (1.3.4)\n",
      "Requirement already satisfied: parso>0.4.0 in c:\\users\\91973\\anaconda3\\lib\\site-packages (from swifter) (0.8.2)\n",
      "Requirement already satisfied: tqdm>=4.33.0 in c:\\users\\91973\\anaconda3\\lib\\site-packages (from swifter) (4.62.3)\n",
      "Requirement already satisfied: ipywidgets>=7.0.0 in c:\\users\\91973\\anaconda3\\lib\\site-packages (from swifter) (7.6.5)\n",
      "Requirement already satisfied: pandas>=1.0.0 in c:\\users\\91973\\anaconda3\\lib\\site-packages (from swifter) (1.3.4)\n",
      "Requirement already satisfied: cloudpickle>=0.2.2 in c:\\users\\91973\\anaconda3\\lib\\site-packages (from swifter) (2.0.0)\n",
      "Requirement already satisfied: psutil>=5.6.6 in c:\\users\\91973\\anaconda3\\lib\\site-packages (from swifter) (5.8.0)\n",
      "Requirement already satisfied: bleach>=3.1.1 in c:\\users\\91973\\anaconda3\\lib\\site-packages (from swifter) (4.0.0)\n",
      "Requirement already satisfied: dask[dataframe]>=2.10.0 in c:\\users\\91973\\anaconda3\\lib\\site-packages (from swifter) (2021.10.0)\n",
      "Requirement already satisfied: packaging in c:\\users\\91973\\anaconda3\\lib\\site-packages (from bleach>=3.1.1->swifter) (21.0)\n",
      "Requirement already satisfied: six>=1.9.0 in c:\\users\\91973\\anaconda3\\lib\\site-packages (from bleach>=3.1.1->swifter) (1.16.0)\n",
      "Requirement already satisfied: webencodings in c:\\users\\91973\\anaconda3\\lib\\site-packages (from bleach>=3.1.1->swifter) (0.5.1)\n",
      "Requirement already satisfied: fsspec>=0.6.0 in c:\\users\\91973\\anaconda3\\lib\\site-packages (from dask[dataframe]>=2.10.0->swifter) (2021.10.1)\n",
      "Requirement already satisfied: partd>=0.3.10 in c:\\users\\91973\\anaconda3\\lib\\site-packages (from dask[dataframe]>=2.10.0->swifter) (1.2.0)\n",
      "Requirement already satisfied: pyyaml in c:\\users\\91973\\anaconda3\\lib\\site-packages (from dask[dataframe]>=2.10.0->swifter) (6.0)\n",
      "Requirement already satisfied: toolz>=0.8.2 in c:\\users\\91973\\anaconda3\\lib\\site-packages (from dask[dataframe]>=2.10.0->swifter) (0.11.1)\n",
      "Requirement already satisfied: numpy>=1.18 in c:\\users\\91973\\anaconda3\\lib\\site-packages (from dask[dataframe]>=2.10.0->swifter) (1.20.3)\n",
      "Requirement already satisfied: ipykernel>=4.5.1 in c:\\users\\91973\\anaconda3\\lib\\site-packages (from ipywidgets>=7.0.0->swifter) (6.4.1)\n",
      "Requirement already satisfied: widgetsnbextension~=3.5.0 in c:\\users\\91973\\anaconda3\\lib\\site-packages (from ipywidgets>=7.0.0->swifter) (3.5.1)\n",
      "Requirement already satisfied: jupyterlab-widgets>=1.0.0 in c:\\users\\91973\\anaconda3\\lib\\site-packages (from ipywidgets>=7.0.0->swifter) (1.0.0)\n",
      "Requirement already satisfied: nbformat>=4.2.0 in c:\\users\\91973\\anaconda3\\lib\\site-packages (from ipywidgets>=7.0.0->swifter) (5.1.3)\n",
      "Requirement already satisfied: ipython>=4.0.0 in c:\\users\\91973\\anaconda3\\lib\\site-packages (from ipywidgets>=7.0.0->swifter) (7.29.0)\n",
      "Requirement already satisfied: ipython-genutils~=0.2.0 in c:\\users\\91973\\anaconda3\\lib\\site-packages (from ipywidgets>=7.0.0->swifter) (0.2.0)\n",
      "Requirement already satisfied: traitlets>=4.3.1 in c:\\users\\91973\\anaconda3\\lib\\site-packages (from ipywidgets>=7.0.0->swifter) (5.1.0)\n",
      "Requirement already satisfied: tornado<7.0,>=4.2 in c:\\users\\91973\\anaconda3\\lib\\site-packages (from ipykernel>=4.5.1->ipywidgets>=7.0.0->swifter) (6.1)\n",
      "Requirement already satisfied: matplotlib-inline<0.2.0,>=0.1.0 in c:\\users\\91973\\anaconda3\\lib\\site-packages (from ipykernel>=4.5.1->ipywidgets>=7.0.0->swifter) (0.1.2)\n",
      "Requirement already satisfied: debugpy<2.0,>=1.0.0 in c:\\users\\91973\\anaconda3\\lib\\site-packages (from ipykernel>=4.5.1->ipywidgets>=7.0.0->swifter) (1.4.1)\n",
      "Requirement already satisfied: jupyter-client<8.0 in c:\\users\\91973\\anaconda3\\lib\\site-packages (from ipykernel>=4.5.1->ipywidgets>=7.0.0->swifter) (6.1.12)\n",
      "Requirement already satisfied: setuptools>=18.5 in c:\\users\\91973\\anaconda3\\lib\\site-packages (from ipython>=4.0.0->ipywidgets>=7.0.0->swifter) (58.0.4)\n",
      "Requirement already satisfied: colorama in c:\\users\\91973\\anaconda3\\lib\\site-packages (from ipython>=4.0.0->ipywidgets>=7.0.0->swifter) (0.4.6)\n",
      "Requirement already satisfied: prompt-toolkit!=3.0.0,!=3.0.1,<3.1.0,>=2.0.0 in c:\\users\\91973\\anaconda3\\lib\\site-packages (from ipython>=4.0.0->ipywidgets>=7.0.0->swifter) (3.0.20)\n",
      "Requirement already satisfied: pickleshare in c:\\users\\91973\\anaconda3\\lib\\site-packages (from ipython>=4.0.0->ipywidgets>=7.0.0->swifter) (0.7.5)\n",
      "Requirement already satisfied: backcall in c:\\users\\91973\\anaconda3\\lib\\site-packages (from ipython>=4.0.0->ipywidgets>=7.0.0->swifter) (0.2.0)\n",
      "Requirement already satisfied: decorator in c:\\users\\91973\\anaconda3\\lib\\site-packages (from ipython>=4.0.0->ipywidgets>=7.0.0->swifter) (5.1.0)\n",
      "Requirement already satisfied: jedi>=0.16 in c:\\users\\91973\\anaconda3\\lib\\site-packages (from ipython>=4.0.0->ipywidgets>=7.0.0->swifter) (0.18.0)\n",
      "Requirement already satisfied: pygments in c:\\users\\91973\\anaconda3\\lib\\site-packages (from ipython>=4.0.0->ipywidgets>=7.0.0->swifter) (2.10.0)\n",
      "Requirement already satisfied: jupyter-core>=4.6.0 in c:\\users\\91973\\anaconda3\\lib\\site-packages (from jupyter-client<8.0->ipykernel>=4.5.1->ipywidgets>=7.0.0->swifter) (4.8.1)\n",
      "Requirement already satisfied: pyzmq>=13 in c:\\users\\91973\\anaconda3\\lib\\site-packages (from jupyter-client<8.0->ipykernel>=4.5.1->ipywidgets>=7.0.0->swifter) (22.2.1)\n",
      "Requirement already satisfied: python-dateutil>=2.1 in c:\\users\\91973\\anaconda3\\lib\\site-packages (from jupyter-client<8.0->ipykernel>=4.5.1->ipywidgets>=7.0.0->swifter) (2.8.2)\n",
      "Requirement already satisfied: pywin32>=1.0 in c:\\users\\91973\\anaconda3\\lib\\site-packages (from jupyter-core>=4.6.0->jupyter-client<8.0->ipykernel>=4.5.1->ipywidgets>=7.0.0->swifter) (228)\n",
      "Requirement already satisfied: jsonschema!=2.5.0,>=2.4 in c:\\users\\91973\\anaconda3\\lib\\site-packages (from nbformat>=4.2.0->ipywidgets>=7.0.0->swifter) (3.2.0)\n",
      "Requirement already satisfied: pyrsistent>=0.14.0 in c:\\users\\91973\\anaconda3\\lib\\site-packages (from jsonschema!=2.5.0,>=2.4->nbformat>=4.2.0->ipywidgets>=7.0.0->swifter) (0.18.0)\n",
      "Requirement already satisfied: attrs>=17.4.0 in c:\\users\\91973\\anaconda3\\lib\\site-packages (from jsonschema!=2.5.0,>=2.4->nbformat>=4.2.0->ipywidgets>=7.0.0->swifter) (21.2.0)\n",
      "Requirement already satisfied: pyparsing>=2.0.2 in c:\\users\\91973\\anaconda3\\lib\\site-packages (from packaging->bleach>=3.1.1->swifter) (3.0.4)\n",
      "Requirement already satisfied: pytz>=2017.3 in c:\\users\\91973\\anaconda3\\lib\\site-packages (from pandas>=1.0.0->swifter) (2021.3)\n",
      "Requirement already satisfied: locket in c:\\users\\91973\\anaconda3\\lib\\site-packages\\locket-0.2.1-py3.9.egg (from partd>=0.3.10->dask[dataframe]>=2.10.0->swifter) (0.2.1)\n",
      "Requirement already satisfied: wcwidth in c:\\users\\91973\\anaconda3\\lib\\site-packages (from prompt-toolkit!=3.0.0,!=3.0.1,<3.1.0,>=2.0.0->ipython>=4.0.0->ipywidgets>=7.0.0->swifter) (0.2.5)\n",
      "Requirement already satisfied: notebook>=4.4.1 in c:\\users\\91973\\anaconda3\\lib\\site-packages (from widgetsnbextension~=3.5.0->ipywidgets>=7.0.0->swifter) (6.4.5)\n",
      "Requirement already satisfied: terminado>=0.8.3 in c:\\users\\91973\\anaconda3\\lib\\site-packages (from notebook>=4.4.1->widgetsnbextension~=3.5.0->ipywidgets>=7.0.0->swifter) (0.9.4)\n",
      "Requirement already satisfied: prometheus-client in c:\\users\\91973\\anaconda3\\lib\\site-packages (from notebook>=4.4.1->widgetsnbextension~=3.5.0->ipywidgets>=7.0.0->swifter) (0.11.0)\n",
      "Requirement already satisfied: Send2Trash>=1.5.0 in c:\\users\\91973\\anaconda3\\lib\\site-packages (from notebook>=4.4.1->widgetsnbextension~=3.5.0->ipywidgets>=7.0.0->swifter) (1.8.0)\n",
      "Requirement already satisfied: jinja2 in c:\\users\\91973\\anaconda3\\lib\\site-packages (from notebook>=4.4.1->widgetsnbextension~=3.5.0->ipywidgets>=7.0.0->swifter) (2.11.3)\n",
      "Requirement already satisfied: argon2-cffi in c:\\users\\91973\\anaconda3\\lib\\site-packages (from notebook>=4.4.1->widgetsnbextension~=3.5.0->ipywidgets>=7.0.0->swifter) (20.1.0)\n",
      "Requirement already satisfied: nbconvert in c:\\users\\91973\\anaconda3\\lib\\site-packages (from notebook>=4.4.1->widgetsnbextension~=3.5.0->ipywidgets>=7.0.0->swifter) (6.1.0)\n",
      "Requirement already satisfied: pywinpty>=0.5 in c:\\users\\91973\\anaconda3\\lib\\site-packages (from terminado>=0.8.3->notebook>=4.4.1->widgetsnbextension~=3.5.0->ipywidgets>=7.0.0->swifter) (0.5.7)\n",
      "Requirement already satisfied: cffi>=1.0.0 in c:\\users\\91973\\anaconda3\\lib\\site-packages (from argon2-cffi->notebook>=4.4.1->widgetsnbextension~=3.5.0->ipywidgets>=7.0.0->swifter) (1.14.6)\n",
      "Requirement already satisfied: pycparser in c:\\users\\91973\\anaconda3\\lib\\site-packages (from cffi>=1.0.0->argon2-cffi->notebook>=4.4.1->widgetsnbextension~=3.5.0->ipywidgets>=7.0.0->swifter) (2.20)\n",
      "Requirement already satisfied: MarkupSafe>=0.23 in c:\\users\\91973\\anaconda3\\lib\\site-packages (from jinja2->notebook>=4.4.1->widgetsnbextension~=3.5.0->ipywidgets>=7.0.0->swifter) (1.1.1)\n",
      "Requirement already satisfied: mistune<2,>=0.8.1 in c:\\users\\91973\\anaconda3\\lib\\site-packages (from nbconvert->notebook>=4.4.1->widgetsnbextension~=3.5.0->ipywidgets>=7.0.0->swifter) (0.8.4)\n",
      "Requirement already satisfied: nbclient<0.6.0,>=0.5.0 in c:\\users\\91973\\anaconda3\\lib\\site-packages (from nbconvert->notebook>=4.4.1->widgetsnbextension~=3.5.0->ipywidgets>=7.0.0->swifter) (0.5.3)\n",
      "Requirement already satisfied: jupyterlab-pygments in c:\\users\\91973\\anaconda3\\lib\\site-packages (from nbconvert->notebook>=4.4.1->widgetsnbextension~=3.5.0->ipywidgets>=7.0.0->swifter) (0.1.2)\n",
      "Requirement already satisfied: defusedxml in c:\\users\\91973\\anaconda3\\lib\\site-packages (from nbconvert->notebook>=4.4.1->widgetsnbextension~=3.5.0->ipywidgets>=7.0.0->swifter) (0.7.1)\n",
      "Requirement already satisfied: testpath in c:\\users\\91973\\anaconda3\\lib\\site-packages (from nbconvert->notebook>=4.4.1->widgetsnbextension~=3.5.0->ipywidgets>=7.0.0->swifter) (0.5.0)\n",
      "Requirement already satisfied: entrypoints>=0.2.2 in c:\\users\\91973\\anaconda3\\lib\\site-packages (from nbconvert->notebook>=4.4.1->widgetsnbextension~=3.5.0->ipywidgets>=7.0.0->swifter) (0.3)\n",
      "Requirement already satisfied: pandocfilters>=1.4.1 in c:\\users\\91973\\anaconda3\\lib\\site-packages (from nbconvert->notebook>=4.4.1->widgetsnbextension~=3.5.0->ipywidgets>=7.0.0->swifter) (1.4.3)\n",
      "Requirement already satisfied: async-generator in c:\\users\\91973\\anaconda3\\lib\\site-packages (from nbclient<0.6.0,>=0.5.0->nbconvert->notebook>=4.4.1->widgetsnbextension~=3.5.0->ipywidgets>=7.0.0->swifter) (1.10)\n",
      "Requirement already satisfied: nest-asyncio in c:\\users\\91973\\anaconda3\\lib\\site-packages (from nbclient<0.6.0,>=0.5.0->nbconvert->notebook>=4.4.1->widgetsnbextension~=3.5.0->ipywidgets>=7.0.0->swifter) (1.5.1)\n"
     ]
    }
   ],
   "source": [
    "# Import the necessary libraries for cleanup\n",
    "nltk.download('stopwords')\n",
    "nltk.download('punkt')\n",
    "nltk.download('averaged_perceptron_tagger')\n",
    "nltk.download('wordnet')\n",
    "\n",
    "!pip install swifter"
   ]
  },
  {
   "cell_type": "code",
   "execution_count": 19,
   "metadata": {},
   "outputs": [],
   "source": [
    "from nltk.corpus import stopwords\n",
    "from nltk.tokenize import word_tokenize\n",
    "from nltk.stem import WordNetLemmatizer\n",
    "from nltk import pos_tag\n",
    "import swifter # Importing \"swifter\" to speed up lemmatization using mutithread processing."
   ]
  },
  {
   "cell_type": "code",
   "execution_count": 20,
   "metadata": {},
   "outputs": [],
   "source": [
    "# Function to lemmatize the word\n",
    "stopwords = stopwords.words('english')\n",
    "wordnet_lem = WordNetLemmatizer()\n",
    "\n",
    "def lemmatize_text(text):\n",
    "    tokens = word_tokenize(text)\n",
    "    tokens = [word for word in tokens if word not in stopwords]\n",
    "    proc_token = []\n",
    "    for word,pos in pos_tag(tokens):\n",
    "        try:\n",
    "            proc_token.append(wordnet_lem.lemmatize(word,pos = pos[0].lower()))\n",
    "        except:\n",
    "            proc_token.append(wordnet_lem.lemmatize(word))\n",
    "    lemmatized_value = ' '.join(proc_token)\n",
    "    return lemmatized_value"
   ]
  },
  {
   "cell_type": "code",
   "execution_count": 21,
   "metadata": {
    "id": "uXnN7aa_JrF0"
   },
   "outputs": [
    {
     "data": {
      "application/vnd.jupyter.widget-view+json": {
       "model_id": "dc4d057c06364d22a25babcb5556183d",
       "version_major": 2,
       "version_minor": 0
      },
      "text/plain": [
       "Pandas Apply:   0%|          | 0/21072 [00:00<?, ?it/s]"
      ]
     },
     "metadata": {},
     "output_type": "display_data"
    },
    {
     "name": "stderr",
     "output_type": "stream",
     "text": [
      "C:\\Users\\91973\\AppData\\Local\\Temp/ipykernel_17784/218826402.py:5: SettingWithCopyWarning:\n",
      "\n",
      "\n",
      "A value is trying to be set on a copy of a slice from a DataFrame.\n",
      "Try using .loc[row_indexer,col_indexer] = value instead\n",
      "\n",
      "See the caveats in the documentation: https://pandas.pydata.org/pandas-docs/stable/user_guide/indexing.html#returning-a-view-versus-a-copy\n",
      "\n"
     ]
    }
   ],
   "source": [
    "#Create a dataframe('df_clean') that will have only the complaints and the lemmatized complaints \n",
    "df_clean = df[[\"complaint\"]]\n",
    "\n",
    "# Apply lemmatization and store the output in a separate column\n",
    "df_clean[\"complaint_lemmatized\"] = df[\"complaint_cleaned\"].swifter.apply(lemmatize_text)"
   ]
  },
  {
   "cell_type": "code",
   "execution_count": 22,
   "metadata": {
    "id": "nOiDVvEIJrF0"
   },
   "outputs": [
    {
     "data": {
      "text/html": [
       "<div>\n",
       "<style scoped>\n",
       "    .dataframe tbody tr th:only-of-type {\n",
       "        vertical-align: middle;\n",
       "    }\n",
       "\n",
       "    .dataframe tbody tr th {\n",
       "        vertical-align: top;\n",
       "    }\n",
       "\n",
       "    .dataframe thead th {\n",
       "        text-align: right;\n",
       "    }\n",
       "</style>\n",
       "<table border=\"1\" class=\"dataframe\">\n",
       "  <thead>\n",
       "    <tr style=\"text-align: right;\">\n",
       "      <th></th>\n",
       "      <th>complaint</th>\n",
       "      <th>complaint_lemmatized</th>\n",
       "    </tr>\n",
       "  </thead>\n",
       "  <tbody>\n",
       "    <tr>\n",
       "      <th>1</th>\n",
       "      <td>Good morning my name is XXXX XXXX and I apprec...</td>\n",
       "      <td>good morning name xxxx xxxx appreciate could h...</td>\n",
       "    </tr>\n",
       "    <tr>\n",
       "      <th>2</th>\n",
       "      <td>I upgraded my XXXX XXXX card in XX/XX/2018 and...</td>\n",
       "      <td>upgraded xxxx xxxx card tell agent upgrade ann...</td>\n",
       "    </tr>\n",
       "    <tr>\n",
       "      <th>10</th>\n",
       "      <td>Chase Card was reported on XX/XX/2019. However...</td>\n",
       "      <td>chase card report however fraudulent applicati...</td>\n",
       "    </tr>\n",
       "    <tr>\n",
       "      <th>11</th>\n",
       "      <td>On XX/XX/2018, while trying to book a XXXX  XX...</td>\n",
       "      <td>try book xxxx xxxx ticket come across offer ap...</td>\n",
       "    </tr>\n",
       "    <tr>\n",
       "      <th>14</th>\n",
       "      <td>my grand son give me check for {$1600.00} i de...</td>\n",
       "      <td>grand son give check deposit chase account fun...</td>\n",
       "    </tr>\n",
       "    <tr>\n",
       "      <th>...</th>\n",
       "      <td>...</td>\n",
       "      <td>...</td>\n",
       "    </tr>\n",
       "    <tr>\n",
       "      <th>78303</th>\n",
       "      <td>After being a Chase Card customer for well ove...</td>\n",
       "      <td>chase card customer well decade offer multiple...</td>\n",
       "    </tr>\n",
       "    <tr>\n",
       "      <th>78309</th>\n",
       "      <td>On Wednesday, XX/XX/XXXX I called Chas, my XXX...</td>\n",
       "      <td>wednesday xxxxxxxx call chas xxxx xxxx visa cr...</td>\n",
       "    </tr>\n",
       "    <tr>\n",
       "      <th>78310</th>\n",
       "      <td>I am not familiar with XXXX pay and did not un...</td>\n",
       "      <td>familiar xxxx pay understand great risk provid...</td>\n",
       "    </tr>\n",
       "    <tr>\n",
       "      <th>78311</th>\n",
       "      <td>I have had flawless credit for 30 yrs. I've ha...</td>\n",
       "      <td>flawless credit yrs ive chase credit card chas...</td>\n",
       "    </tr>\n",
       "    <tr>\n",
       "      <th>78312</th>\n",
       "      <td>Roughly 10+ years ago I closed out my accounts...</td>\n",
       "      <td>roughly year ago close account jp morgan chase...</td>\n",
       "    </tr>\n",
       "  </tbody>\n",
       "</table>\n",
       "<p>21072 rows × 2 columns</p>\n",
       "</div>"
      ],
      "text/plain": [
       "                                               complaint  \\\n",
       "1      Good morning my name is XXXX XXXX and I apprec...   \n",
       "2      I upgraded my XXXX XXXX card in XX/XX/2018 and...   \n",
       "10     Chase Card was reported on XX/XX/2019. However...   \n",
       "11     On XX/XX/2018, while trying to book a XXXX  XX...   \n",
       "14     my grand son give me check for {$1600.00} i de...   \n",
       "...                                                  ...   \n",
       "78303  After being a Chase Card customer for well ove...   \n",
       "78309  On Wednesday, XX/XX/XXXX I called Chas, my XXX...   \n",
       "78310  I am not familiar with XXXX pay and did not un...   \n",
       "78311  I have had flawless credit for 30 yrs. I've ha...   \n",
       "78312  Roughly 10+ years ago I closed out my accounts...   \n",
       "\n",
       "                                    complaint_lemmatized  \n",
       "1      good morning name xxxx xxxx appreciate could h...  \n",
       "2      upgraded xxxx xxxx card tell agent upgrade ann...  \n",
       "10     chase card report however fraudulent applicati...  \n",
       "11     try book xxxx xxxx ticket come across offer ap...  \n",
       "14     grand son give check deposit chase account fun...  \n",
       "...                                                  ...  \n",
       "78303  chase card customer well decade offer multiple...  \n",
       "78309  wednesday xxxxxxxx call chas xxxx xxxx visa cr...  \n",
       "78310  familiar xxxx pay understand great risk provid...  \n",
       "78311  flawless credit yrs ive chase credit card chas...  \n",
       "78312  roughly year ago close account jp morgan chase...  \n",
       "\n",
       "[21072 rows x 2 columns]"
      ]
     },
     "execution_count": 22,
     "metadata": {},
     "output_type": "execute_result"
    }
   ],
   "source": [
    "df_clean"
   ]
  },
  {
   "cell_type": "code",
   "execution_count": 23,
   "metadata": {},
   "outputs": [],
   "source": [
    "#Write your function to extract the POS tags \n",
    "nlp = spacy.load(\"en_core_web_sm\")\n",
    "\n",
    "def pos_tag(text):\n",
    "    # write your code here\n",
    "    pos_tag = ''\n",
    "    word_noun = ''\n",
    "    complaint_tokens = nlp(text)\n",
    "    for token in complaint_tokens:\n",
    "        #print(token.pos_ + '::' + token.lemma_)\n",
    "        if token.pos_ in str(('NOUN', 'PROPN')) :\n",
    "            word_noun += (token.lemma_.lower()) + ' '      \n",
    "    return word_noun.strip()   "
   ]
  },
  {
   "cell_type": "code",
   "execution_count": 24,
   "metadata": {},
   "outputs": [
    {
     "name": "stderr",
     "output_type": "stream",
     "text": [
      "C:\\Users\\91973\\AppData\\Local\\Temp/ipykernel_17784/1673303423.py:2: SettingWithCopyWarning:\n",
      "\n",
      "\n",
      "A value is trying to be set on a copy of a slice from a DataFrame.\n",
      "Try using .loc[row_indexer,col_indexer] = value instead\n",
      "\n",
      "See the caveats in the documentation: https://pandas.pydata.org/pandas-docs/stable/user_guide/indexing.html#returning-a-view-versus-a-copy\n",
      "\n"
     ]
    }
   ],
   "source": [
    "#this column should contain lemmatized text with all the words removed which have tags other than NN[tag == \"NN\"].\n",
    "df_clean['complaint_POS_removed'] = df_clean['complaint_lemmatized'].apply(pos_tag)\n",
    "\n",
    "#Reassigning index of cleaned dataframe\n",
    "df_clean.reset_index(drop=True, inplace = True)"
   ]
  },
  {
   "cell_type": "code",
   "execution_count": 25,
   "metadata": {
    "id": "AjxfchvFJrF2"
   },
   "outputs": [
    {
     "data": {
      "text/html": [
       "<div>\n",
       "<style scoped>\n",
       "    .dataframe tbody tr th:only-of-type {\n",
       "        vertical-align: middle;\n",
       "    }\n",
       "\n",
       "    .dataframe tbody tr th {\n",
       "        vertical-align: top;\n",
       "    }\n",
       "\n",
       "    .dataframe thead th {\n",
       "        text-align: right;\n",
       "    }\n",
       "</style>\n",
       "<table border=\"1\" class=\"dataframe\">\n",
       "  <thead>\n",
       "    <tr style=\"text-align: right;\">\n",
       "      <th></th>\n",
       "      <th>complaint</th>\n",
       "      <th>complaint_lemmatized</th>\n",
       "      <th>complaint_POS_removed</th>\n",
       "    </tr>\n",
       "  </thead>\n",
       "  <tbody>\n",
       "    <tr>\n",
       "      <th>0</th>\n",
       "      <td>Good morning my name is XXXX XXXX and I apprec...</td>\n",
       "      <td>good morning name xxxx xxxx appreciate could h...</td>\n",
       "      <td>morning name xxxx xxxx chase bank cardmember s...</td>\n",
       "    </tr>\n",
       "    <tr>\n",
       "      <th>1</th>\n",
       "      <td>I upgraded my XXXX XXXX card in XX/XX/2018 and...</td>\n",
       "      <td>upgraded xxxx xxxx card tell agent upgrade ann...</td>\n",
       "      <td>xxxx xxxx card agent upgrade anniversary date ...</td>\n",
       "    </tr>\n",
       "    <tr>\n",
       "      <th>2</th>\n",
       "      <td>Chase Card was reported on XX/XX/2019. However...</td>\n",
       "      <td>chase card report however fraudulent applicati...</td>\n",
       "      <td>chase card report application submit identity ...</td>\n",
       "    </tr>\n",
       "    <tr>\n",
       "      <th>3</th>\n",
       "      <td>On XX/XX/2018, while trying to book a XXXX  XX...</td>\n",
       "      <td>try book xxxx xxxx ticket come across offer ap...</td>\n",
       "      <td>book xxxx xxxx ticket offer ticket reward card...</td>\n",
       "    </tr>\n",
       "    <tr>\n",
       "      <th>4</th>\n",
       "      <td>my grand son give me check for {$1600.00} i de...</td>\n",
       "      <td>grand son give check deposit chase account fun...</td>\n",
       "      <td>grand son check deposit chase account fund cha...</td>\n",
       "    </tr>\n",
       "    <tr>\n",
       "      <th>...</th>\n",
       "      <td>...</td>\n",
       "      <td>...</td>\n",
       "      <td>...</td>\n",
       "    </tr>\n",
       "    <tr>\n",
       "      <th>21067</th>\n",
       "      <td>After being a Chase Card customer for well ove...</td>\n",
       "      <td>chase card customer well decade offer multiple...</td>\n",
       "      <td>chase card customer decade solicitation credit...</td>\n",
       "    </tr>\n",
       "    <tr>\n",
       "      <th>21068</th>\n",
       "      <td>On Wednesday, XX/XX/XXXX I called Chas, my XXX...</td>\n",
       "      <td>wednesday xxxxxxxx call chas xxxx xxxx visa cr...</td>\n",
       "      <td>wednesday xxxxxxxx call chas xxxx xxxx visa cr...</td>\n",
       "    </tr>\n",
       "    <tr>\n",
       "      <th>21069</th>\n",
       "      <td>I am not familiar with XXXX pay and did not un...</td>\n",
       "      <td>familiar xxxx pay understand great risk provid...</td>\n",
       "      <td>xxxx risk consumer chase bank app chase year t...</td>\n",
       "    </tr>\n",
       "    <tr>\n",
       "      <th>21070</th>\n",
       "      <td>I have had flawless credit for 30 yrs. I've ha...</td>\n",
       "      <td>flawless credit yrs ive chase credit card chas...</td>\n",
       "      <td>credit yrs chase credit card chase freedom xxx...</td>\n",
       "    </tr>\n",
       "    <tr>\n",
       "      <th>21071</th>\n",
       "      <td>Roughly 10+ years ago I closed out my accounts...</td>\n",
       "      <td>roughly year ago close account jp morgan chase...</td>\n",
       "      <td>year account jp morgan chase bank xxxx order l...</td>\n",
       "    </tr>\n",
       "  </tbody>\n",
       "</table>\n",
       "<p>21072 rows × 3 columns</p>\n",
       "</div>"
      ],
      "text/plain": [
       "                                               complaint  \\\n",
       "0      Good morning my name is XXXX XXXX and I apprec...   \n",
       "1      I upgraded my XXXX XXXX card in XX/XX/2018 and...   \n",
       "2      Chase Card was reported on XX/XX/2019. However...   \n",
       "3      On XX/XX/2018, while trying to book a XXXX  XX...   \n",
       "4      my grand son give me check for {$1600.00} i de...   \n",
       "...                                                  ...   \n",
       "21067  After being a Chase Card customer for well ove...   \n",
       "21068  On Wednesday, XX/XX/XXXX I called Chas, my XXX...   \n",
       "21069  I am not familiar with XXXX pay and did not un...   \n",
       "21070  I have had flawless credit for 30 yrs. I've ha...   \n",
       "21071  Roughly 10+ years ago I closed out my accounts...   \n",
       "\n",
       "                                    complaint_lemmatized  \\\n",
       "0      good morning name xxxx xxxx appreciate could h...   \n",
       "1      upgraded xxxx xxxx card tell agent upgrade ann...   \n",
       "2      chase card report however fraudulent applicati...   \n",
       "3      try book xxxx xxxx ticket come across offer ap...   \n",
       "4      grand son give check deposit chase account fun...   \n",
       "...                                                  ...   \n",
       "21067  chase card customer well decade offer multiple...   \n",
       "21068  wednesday xxxxxxxx call chas xxxx xxxx visa cr...   \n",
       "21069  familiar xxxx pay understand great risk provid...   \n",
       "21070  flawless credit yrs ive chase credit card chas...   \n",
       "21071  roughly year ago close account jp morgan chase...   \n",
       "\n",
       "                                   complaint_POS_removed  \n",
       "0      morning name xxxx xxxx chase bank cardmember s...  \n",
       "1      xxxx xxxx card agent upgrade anniversary date ...  \n",
       "2      chase card report application submit identity ...  \n",
       "3      book xxxx xxxx ticket offer ticket reward card...  \n",
       "4      grand son check deposit chase account fund cha...  \n",
       "...                                                  ...  \n",
       "21067  chase card customer decade solicitation credit...  \n",
       "21068  wednesday xxxxxxxx call chas xxxx xxxx visa cr...  \n",
       "21069  xxxx risk consumer chase bank app chase year t...  \n",
       "21070  credit yrs chase credit card chase freedom xxx...  \n",
       "21071  year account jp morgan chase bank xxxx order l...  \n",
       "\n",
       "[21072 rows x 3 columns]"
      ]
     },
     "execution_count": 25,
     "metadata": {},
     "output_type": "execute_result"
    }
   ],
   "source": [
    "#The clean dataframe should now contain the raw complaint, lemmatized complaint and the complaint after removing POS tags.\n",
    "df_clean"
   ]
  },
  {
   "cell_type": "markdown",
   "metadata": {
    "id": "_7Un1AElJrF2"
   },
   "source": [
    "## Exploratory data analysis to get familiar with the data.\n",
    "\n",
    "Write the code in this task to perform the following:\n",
    "\n",
    "*   Visualise the data according to the 'Complaint' character length\n",
    "*   Using a word cloud find the top 40 words by frequency among all the articles after processing the text\n",
    "*   Find the top unigrams,bigrams and trigrams by frequency among all the complaints after processing the text. ‘\n",
    "\n",
    "\n"
   ]
  },
  {
   "cell_type": "code",
   "execution_count": 26,
   "metadata": {
    "id": "q-zaqJF6JrF2"
   },
   "outputs": [
    {
     "data": {
      "text/plain": [
       "436      31611\n",
       "11241    31385\n",
       "14251    29948\n",
       "2308     29239\n",
       "1130     25757\n",
       "         ...  \n",
       "16450       21\n",
       "8825        21\n",
       "1619        20\n",
       "5799        19\n",
       "8697        19\n",
       "Name: complaint, Length: 21072, dtype: int64"
      ]
     },
     "execution_count": 26,
     "metadata": {},
     "output_type": "execute_result"
    }
   ],
   "source": [
    "# Write your code here to visualise the data according to the 'Complaint' character length\n",
    "df_clean['complaint'].str.len().sort_values(ascending=False)"
   ]
  },
  {
   "cell_type": "code",
   "execution_count": 27,
   "metadata": {},
   "outputs": [
    {
     "data": {
      "text/plain": [
       "Text(0.5, 0, 'Complaint Character length ranges')"
      ]
     },
     "execution_count": 27,
     "metadata": {},
     "output_type": "execute_result"
    },
    {
     "data": {
      "image/png": "[encoded data removed]",
      "text/plain": [
       "<Figure size 864x576 with 1 Axes>"
      ]
     },
     "metadata": {
      "needs_background": "light"
     },
     "output_type": "display_data"
    }
   ],
   "source": [
    "#Visualize the code in bins\n",
    "bins = [0, 100, 500, 1000, 5000, 10000, 50000]\n",
    "temp_df = df_clean['complaint'].str.len().to_frame()\n",
    "temp_df.columns = [\"length\"]\n",
    "temp_df['binned'] = pd.cut(temp_df['length'], bins)\n",
    "temp_df.binned.value_counts()\n",
    "\n",
    "plt.figure(figsize=(12,8))\n",
    "temp_df.binned.value_counts().plot(kind=\"bar\")\n",
    "plt.title(\"Complaint count by character length\")\n",
    "plt.xlabel(\"Complaint Character length ranges\")"
   ]
  },
  {
   "cell_type": "markdown",
   "metadata": {
    "id": "T9jD_6SeJrF3"
   },
   "source": [
    "#### Find the top 40 words by frequency among all the articles after processing the text."
   ]
  },
  {
   "cell_type": "code",
   "execution_count": 28,
   "metadata": {
    "id": "QcfdvtfZJrF3"
   },
   "outputs": [
    {
     "data": {
      "text/plain": [
       "Text(0.5, 1.0, 'Most frequent words in complaints after processing')"
      ]
     },
     "execution_count": 28,
     "metadata": {},
     "output_type": "execute_result"
    },
    {
     "data": {
      "image/png": "[encoded data removed]",
      "text/plain": [
       "<Figure size 1440x360 with 1 Axes>"
      ]
     },
     "metadata": {
      "needs_background": "light"
     },
     "output_type": "display_data"
    }
   ],
   "source": [
    "# Most frequent words in the processed (lemmatized) complaints\n",
    "\n",
    "most_freq_lem=[]\n",
    "for complaint in df_clean['complaint_lemmatized']:\n",
    "    for word in complaint.split(' '):\n",
    "        most_freq_lem.append(word)\n",
    "\n",
    "plt.figure(figsize=(20, 5)) \n",
    "pd.DataFrame(most_freq_lem)[0].value_counts().head(40).plot(kind='bar')\n",
    "plt.title(\"Most frequent words in complaints after processing\")"
   ]
  },
  {
   "cell_type": "markdown",
   "metadata": {},
   "source": [
    "#### Using a word cloud find the top 40 words by frequency among all the articles after processing the text"
   ]
  },
  {
   "cell_type": "code",
   "execution_count": 29,
   "metadata": {},
   "outputs": [
    {
     "name": "stdout",
     "output_type": "stream",
     "text": [
      "Collecting wordcloud\n",
      "  Downloading wordcloud-1.8.2.2-cp39-cp39-win_amd64.whl (153 kB)\n",
      "Requirement already satisfied: matplotlib in c:\\users\\91973\\anaconda3\\lib\\site-packages (from wordcloud) (3.4.3)\n",
      "Requirement already satisfied: numpy>=1.6.1 in c:\\users\\91973\\anaconda3\\lib\\site-packages (from wordcloud) (1.20.3)\n",
      "Requirement already satisfied: pillow in c:\\users\\91973\\anaconda3\\lib\\site-packages (from wordcloud) (8.4.0)\n",
      "Requirement already satisfied: cycler>=0.10 in c:\\users\\91973\\anaconda3\\lib\\site-packages (from matplotlib->wordcloud) (0.10.0)\n",
      "Requirement already satisfied: kiwisolver>=1.0.1 in c:\\users\\91973\\anaconda3\\lib\\site-packages (from matplotlib->wordcloud) (1.3.1)\n",
      "Requirement already satisfied: pyparsing>=2.2.1 in c:\\users\\91973\\anaconda3\\lib\\site-packages (from matplotlib->wordcloud) (3.0.4)\n",
      "Requirement already satisfied: python-dateutil>=2.7 in c:\\users\\91973\\anaconda3\\lib\\site-packages (from matplotlib->wordcloud) (2.8.2)\n",
      "Requirement already satisfied: six in c:\\users\\91973\\anaconda3\\lib\\site-packages (from cycler>=0.10->matplotlib->wordcloud) (1.16.0)\n",
      "Installing collected packages: wordcloud\n",
      "Successfully installed wordcloud-1.8.2.2\n"
     ]
    }
   ],
   "source": [
    "!pip install wordcloud"
   ]
  },
  {
   "cell_type": "code",
   "execution_count": 30,
   "metadata": {},
   "outputs": [
    {
     "data": {
      "image/png": "[encoded data removed]",
      "text/plain": [
       "<Figure size 864x864 with 1 Axes>"
      ]
     },
     "metadata": {
      "needs_background": "light"
     },
     "output_type": "display_data"
    }
   ],
   "source": [
    "from wordcloud import WordCloud\n",
    "\n",
    "plt.figure(figsize=(12, 12))\n",
    "wordcloud = WordCloud(background_color = 'white', width = 2000, height = 1000, max_words = 50, contour_width = 3, colormap = 'viridis', max_font_size = 150, contour_color = 'steelblue', random_state = 0)\n",
    "\n",
    "most_freq_words = pd.DataFrame(most_freq_lem)[0].value_counts().head(40).index\n",
    "wordcloud.generate(' '.join([w for w in most_freq_words]))\n",
    "\n",
    "plt.imshow(wordcloud)\n",
    "plt.title(\"Most frequent words in the processed complaints\")\n",
    "plt.show()"
   ]
  },
  {
   "cell_type": "code",
   "execution_count": 31,
   "metadata": {},
   "outputs": [
    {
     "data": {
      "image/png": "[encoded data removed]",
      "text/plain": [
       "<Figure size 1440x360 with 1 Axes>"
      ]
     },
     "metadata": {
      "needs_background": "light"
     },
     "output_type": "display_data"
    }
   ],
   "source": [
    "# Most frequent nouns in the processed complaints\n",
    "most_freq_nouns=[] \n",
    "for complaint in df_clean['complaint_POS_removed']:\n",
    "    for word in complaint.split(' '):\n",
    "        most_freq_nouns.append(word)\n",
    "\n",
    "plt.figure(figsize=(20, 5)) \n",
    "pd.DataFrame(most_freq_nouns)[0].value_counts().head(40).plot(kind='bar')\n",
    "plt.title(\"Most frequent nouns in complaint dataset\")\n",
    "plt.show()"
   ]
  },
  {
   "cell_type": "code",
   "execution_count": 32,
   "metadata": {},
   "outputs": [
    {
     "data": {
      "image/png": "[encoded data removed]",
      "text/plain": [
       "<Figure size 864x864 with 1 Axes>"
      ]
     },
     "metadata": {
      "needs_background": "light"
     },
     "output_type": "display_data"
    }
   ],
   "source": [
    "# Most frequest noun words\n",
    "\n",
    "plt.figure(figsize=(12, 12))\n",
    "wordcloud = WordCloud(background_color = 'white', width = 2000, height = 1000, max_words = 50, contour_width = 3, colormap = 'viridis', max_font_size = 100, contour_color = 'steelblue', random_state = 0)\n",
    "\n",
    "most_freq_noun_words = pd.DataFrame(most_freq_nouns)[0].value_counts().head(40).index\n",
    "wordcloud.generate(' '.join([w for w in most_freq_noun_words]))\n",
    "\n",
    "plt.imshow(wordcloud)\n",
    "plt.title(\"Most frequent nouns in the processed complaints\")\n",
    "plt.show()"
   ]
  },
  {
   "cell_type": "code",
   "execution_count": 33,
   "metadata": {
    "id": "OkSmc3UaJrF4"
   },
   "outputs": [
    {
     "name": "stderr",
     "output_type": "stream",
     "text": [
      "C:\\Users\\91973\\AppData\\Local\\Temp/ipykernel_17784/1167205534.py:2: SettingWithCopyWarning:\n",
      "\n",
      "\n",
      "A value is trying to be set on a copy of a slice from a DataFrame.\n",
      "Try using .loc[row_indexer,col_indexer] = value instead\n",
      "\n",
      "See the caveats in the documentation: https://pandas.pydata.org/pandas-docs/stable/user_guide/indexing.html#returning-a-view-versus-a-copy\n",
      "\n"
     ]
    },
    {
     "data": {
      "text/html": [
       "<div>\n",
       "<style scoped>\n",
       "    .dataframe tbody tr th:only-of-type {\n",
       "        vertical-align: middle;\n",
       "    }\n",
       "\n",
       "    .dataframe tbody tr th {\n",
       "        vertical-align: top;\n",
       "    }\n",
       "\n",
       "    .dataframe thead th {\n",
       "        text-align: right;\n",
       "    }\n",
       "</style>\n",
       "<table border=\"1\" class=\"dataframe\">\n",
       "  <thead>\n",
       "    <tr style=\"text-align: right;\">\n",
       "      <th></th>\n",
       "      <th>complaint</th>\n",
       "      <th>complaint_lemmatized</th>\n",
       "      <th>complaint_POS_removed</th>\n",
       "      <th>complaint_clean</th>\n",
       "    </tr>\n",
       "  </thead>\n",
       "  <tbody>\n",
       "    <tr>\n",
       "      <th>0</th>\n",
       "      <td>Good morning my name is XXXX XXXX and I apprec...</td>\n",
       "      <td>good morning name xxxx xxxx appreciate could h...</td>\n",
       "      <td>morning name xxxx xxxx chase bank cardmember s...</td>\n",
       "      <td>morning name xxxx xxxx chase bank cardmember s...</td>\n",
       "    </tr>\n",
       "    <tr>\n",
       "      <th>1</th>\n",
       "      <td>I upgraded my XXXX XXXX card in XX/XX/2018 and...</td>\n",
       "      <td>upgraded xxxx xxxx card tell agent upgrade ann...</td>\n",
       "      <td>xxxx xxxx card agent upgrade anniversary date ...</td>\n",
       "      <td>xxxx xxxx card agent upgrade anniversary date ...</td>\n",
       "    </tr>\n",
       "    <tr>\n",
       "      <th>2</th>\n",
       "      <td>Chase Card was reported on XX/XX/2019. However...</td>\n",
       "      <td>chase card report however fraudulent applicati...</td>\n",
       "      <td>chase card report application submit identity ...</td>\n",
       "      <td>chase card report application submit identity ...</td>\n",
       "    </tr>\n",
       "    <tr>\n",
       "      <th>3</th>\n",
       "      <td>On XX/XX/2018, while trying to book a XXXX  XX...</td>\n",
       "      <td>try book xxxx xxxx ticket come across offer ap...</td>\n",
       "      <td>book xxxx xxxx ticket offer ticket reward card...</td>\n",
       "      <td>book xxxx xxxx ticket offer ticket reward card...</td>\n",
       "    </tr>\n",
       "    <tr>\n",
       "      <th>4</th>\n",
       "      <td>my grand son give me check for {$1600.00} i de...</td>\n",
       "      <td>grand son give check deposit chase account fun...</td>\n",
       "      <td>grand son check deposit chase account fund cha...</td>\n",
       "      <td>grand son check deposit chase account fund cha...</td>\n",
       "    </tr>\n",
       "    <tr>\n",
       "      <th>...</th>\n",
       "      <td>...</td>\n",
       "      <td>...</td>\n",
       "      <td>...</td>\n",
       "      <td>...</td>\n",
       "    </tr>\n",
       "    <tr>\n",
       "      <th>21067</th>\n",
       "      <td>After being a Chase Card customer for well ove...</td>\n",
       "      <td>chase card customer well decade offer multiple...</td>\n",
       "      <td>chase card customer decade solicitation credit...</td>\n",
       "      <td>chase card customer decade solicitation credit...</td>\n",
       "    </tr>\n",
       "    <tr>\n",
       "      <th>21068</th>\n",
       "      <td>On Wednesday, XX/XX/XXXX I called Chas, my XXX...</td>\n",
       "      <td>wednesday xxxxxxxx call chas xxxx xxxx visa cr...</td>\n",
       "      <td>wednesday xxxxxxxx call chas xxxx xxxx visa cr...</td>\n",
       "      <td>wednesday xxxxxxxx call chas xxxx xxxx visa cr...</td>\n",
       "    </tr>\n",
       "    <tr>\n",
       "      <th>21069</th>\n",
       "      <td>I am not familiar with XXXX pay and did not un...</td>\n",
       "      <td>familiar xxxx pay understand great risk provid...</td>\n",
       "      <td>xxxx risk consumer chase bank app chase year t...</td>\n",
       "      <td>xxxx risk consumer chase bank app chase year t...</td>\n",
       "    </tr>\n",
       "    <tr>\n",
       "      <th>21070</th>\n",
       "      <td>I have had flawless credit for 30 yrs. I've ha...</td>\n",
       "      <td>flawless credit yrs ive chase credit card chas...</td>\n",
       "      <td>credit yrs chase credit card chase freedom xxx...</td>\n",
       "      <td>credit yrs chase credit card chase freedom xxx...</td>\n",
       "    </tr>\n",
       "    <tr>\n",
       "      <th>21071</th>\n",
       "      <td>Roughly 10+ years ago I closed out my accounts...</td>\n",
       "      <td>roughly year ago close account jp morgan chase...</td>\n",
       "      <td>year account jp morgan chase bank xxxx order l...</td>\n",
       "      <td>year account jp morgan chase bank xxxx order l...</td>\n",
       "    </tr>\n",
       "  </tbody>\n",
       "</table>\n",
       "<p>21072 rows × 4 columns</p>\n",
       "</div>"
      ],
      "text/plain": [
       "                                               complaint  \\\n",
       "0      Good morning my name is XXXX XXXX and I apprec...   \n",
       "1      I upgraded my XXXX XXXX card in XX/XX/2018 and...   \n",
       "2      Chase Card was reported on XX/XX/2019. However...   \n",
       "3      On XX/XX/2018, while trying to book a XXXX  XX...   \n",
       "4      my grand son give me check for {$1600.00} i de...   \n",
       "...                                                  ...   \n",
       "21067  After being a Chase Card customer for well ove...   \n",
       "21068  On Wednesday, XX/XX/XXXX I called Chas, my XXX...   \n",
       "21069  I am not familiar with XXXX pay and did not un...   \n",
       "21070  I have had flawless credit for 30 yrs. I've ha...   \n",
       "21071  Roughly 10+ years ago I closed out my accounts...   \n",
       "\n",
       "                                    complaint_lemmatized  \\\n",
       "0      good morning name xxxx xxxx appreciate could h...   \n",
       "1      upgraded xxxx xxxx card tell agent upgrade ann...   \n",
       "2      chase card report however fraudulent applicati...   \n",
       "3      try book xxxx xxxx ticket come across offer ap...   \n",
       "4      grand son give check deposit chase account fun...   \n",
       "...                                                  ...   \n",
       "21067  chase card customer well decade offer multiple...   \n",
       "21068  wednesday xxxxxxxx call chas xxxx xxxx visa cr...   \n",
       "21069  familiar xxxx pay understand great risk provid...   \n",
       "21070  flawless credit yrs ive chase credit card chas...   \n",
       "21071  roughly year ago close account jp morgan chase...   \n",
       "\n",
       "                                   complaint_POS_removed  \\\n",
       "0      morning name xxxx xxxx chase bank cardmember s...   \n",
       "1      xxxx xxxx card agent upgrade anniversary date ...   \n",
       "2      chase card report application submit identity ...   \n",
       "3      book xxxx xxxx ticket offer ticket reward card...   \n",
       "4      grand son check deposit chase account fund cha...   \n",
       "...                                                  ...   \n",
       "21067  chase card customer decade solicitation credit...   \n",
       "21068  wednesday xxxxxxxx call chas xxxx xxxx visa cr...   \n",
       "21069  xxxx risk consumer chase bank app chase year t...   \n",
       "21070  credit yrs chase credit card chase freedom xxx...   \n",
       "21071  year account jp morgan chase bank xxxx order l...   \n",
       "\n",
       "                                         complaint_clean  \n",
       "0      morning name xxxx xxxx chase bank cardmember s...  \n",
       "1      xxxx xxxx card agent upgrade anniversary date ...  \n",
       "2      chase card report application submit identity ...  \n",
       "3      book xxxx xxxx ticket offer ticket reward card...  \n",
       "4      grand son check deposit chase account fund cha...  \n",
       "...                                                  ...  \n",
       "21067  chase card customer decade solicitation credit...  \n",
       "21068  wednesday xxxxxxxx call chas xxxx xxxx visa cr...  \n",
       "21069  xxxx risk consumer chase bank app chase year t...  \n",
       "21070  credit yrs chase credit card chase freedom xxx...  \n",
       "21071  year account jp morgan chase bank xxxx order l...  \n",
       "\n",
       "[21072 rows x 4 columns]"
      ]
     },
     "execution_count": 33,
     "metadata": {},
     "output_type": "execute_result"
    }
   ],
   "source": [
    "#Removing -PRON- from the text corpus\n",
    "df_clean['complaint_clean'] = df_clean['complaint_POS_removed'].str.replace('-PRON-', '')\n",
    "df_clean"
   ]
  },
  {
   "cell_type": "markdown",
   "metadata": {
    "id": "5DfCSbbmJrF4"
   },
   "source": [
    "#### Find the top unigrams,bigrams and trigrams by frequency among all the complaints after processing the text."
   ]
  },
  {
   "cell_type": "code",
   "execution_count": 34,
   "metadata": {
    "id": "5mbk5DS5JrF4"
   },
   "outputs": [],
   "source": [
    "# Import the libraries\n",
    "from nltk.util import ngrams \n",
    "from collections import Counter\n",
    "from sklearn.feature_extraction.text import CountVectorizer"
   ]
  },
  {
   "cell_type": "code",
   "execution_count": 35,
   "metadata": {},
   "outputs": [],
   "source": [
    "#Write your code here to find the top 30 unigram frequency among the complaints in the cleaned datafram(df_clean). \n",
    "\n",
    "wordCountVector = CountVectorizer(ngram_range=(1,1), analyzer='word') \n",
    "word_vector = wordCountVector.fit_transform(df_clean['complaint_POS_removed']) \n",
    "frequencies = sum(word_vector).toarray()[0]\n",
    "unigram_df = pd.DataFrame(frequencies, index = wordCountVector.get_feature_names(), columns=['frequency']) "
   ]
  },
  {
   "cell_type": "code",
   "execution_count": 36,
   "metadata": {},
   "outputs": [
    {
     "name": "stdout",
     "output_type": "stream",
     "text": [
      "Top 10 words by frequency:\n"
     ]
    },
    {
     "data": {
      "text/html": [
       "<div>\n",
       "<style scoped>\n",
       "    .dataframe tbody tr th:only-of-type {\n",
       "        vertical-align: middle;\n",
       "    }\n",
       "\n",
       "    .dataframe tbody tr th {\n",
       "        vertical-align: top;\n",
       "    }\n",
       "\n",
       "    .dataframe thead th {\n",
       "        text-align: right;\n",
       "    }\n",
       "</style>\n",
       "<table border=\"1\" class=\"dataframe\">\n",
       "  <thead>\n",
       "    <tr style=\"text-align: right;\">\n",
       "      <th></th>\n",
       "      <th>frequency</th>\n",
       "    </tr>\n",
       "  </thead>\n",
       "  <tbody>\n",
       "    <tr>\n",
       "      <th>xxxx</th>\n",
       "      <td>190985</td>\n",
       "    </tr>\n",
       "    <tr>\n",
       "      <th>chase</th>\n",
       "      <td>78353</td>\n",
       "    </tr>\n",
       "    <tr>\n",
       "      <th>account</th>\n",
       "      <td>46313</td>\n",
       "    </tr>\n",
       "    <tr>\n",
       "      <th>credit</th>\n",
       "      <td>33926</td>\n",
       "    </tr>\n",
       "    <tr>\n",
       "      <th>card</th>\n",
       "      <td>30419</td>\n",
       "    </tr>\n",
       "    <tr>\n",
       "      <th>bank</th>\n",
       "      <td>28609</td>\n",
       "    </tr>\n",
       "    <tr>\n",
       "      <th>xxxxxxxx</th>\n",
       "      <td>27900</td>\n",
       "    </tr>\n",
       "    <tr>\n",
       "      <th>payment</th>\n",
       "      <td>21162</td>\n",
       "    </tr>\n",
       "    <tr>\n",
       "      <th>call</th>\n",
       "      <td>19286</td>\n",
       "    </tr>\n",
       "    <tr>\n",
       "      <th>time</th>\n",
       "      <td>16068</td>\n",
       "    </tr>\n",
       "  </tbody>\n",
       "</table>\n",
       "</div>"
      ],
      "text/plain": [
       "          frequency\n",
       "xxxx         190985\n",
       "chase         78353\n",
       "account       46313\n",
       "credit        33926\n",
       "card          30419\n",
       "bank          28609\n",
       "xxxxxxxx      27900\n",
       "payment       21162\n",
       "call          19286\n",
       "time          16068"
      ]
     },
     "execution_count": 36,
     "metadata": {},
     "output_type": "execute_result"
    }
   ],
   "source": [
    "# Print the top 10 words in the unigram frequency\n",
    "\n",
    "print(\"Top 10 words by frequency:\")\n",
    "unigram_df.sort_values(by=\"frequency\", ascending = False).head(10)"
   ]
  },
  {
   "cell_type": "code",
   "execution_count": 37,
   "metadata": {},
   "outputs": [
    {
     "data": {
      "text/plain": [
       "<Figure size 1440x360 with 0 Axes>"
      ]
     },
     "metadata": {},
     "output_type": "display_data"
    },
    {
     "data": {
      "image/png": "[encoded data removed]",
      "text/plain": [
       "<Figure size 1440x432 with 1 Axes>"
      ]
     },
     "metadata": {
      "needs_background": "light"
     },
     "output_type": "display_data"
    }
   ],
   "source": [
    "# Top 30 words by their frequency\n",
    "plt.figure(figsize=(20, 5))\n",
    "unigram_df.sort_values(by='frequency', ascending=False)[:30].plot(kind='bar', figsize=(20,6), fontsize=16)\n",
    "plt.show()"
   ]
  },
  {
   "cell_type": "code",
   "execution_count": 38,
   "metadata": {
    "id": "aV7kD7w8JrF8"
   },
   "outputs": [],
   "source": [
    "#Write your code here to find the top 30 bigram frequency among the complaints in the cleaned datafram(df_clean). \n",
    "\n",
    "wordCountVector = CountVectorizer(ngram_range=(2,2), analyzer='word') \n",
    "word_vector = wordCountVector.fit_transform(df_clean['complaint_POS_removed']) \n",
    "frequencies = sum(word_vector).toarray()[0]\n",
    "bigram_df = pd.DataFrame(frequencies, index = wordCountVector.get_feature_names(), columns=['frequency'])"
   ]
  },
  {
   "cell_type": "code",
   "execution_count": 39,
   "metadata": {
    "id": "NPnMNIpyJrF9"
   },
   "outputs": [
    {
     "name": "stdout",
     "output_type": "stream",
     "text": [
      "Top 10 bigrams by frequency:\n",
      "               frequency\n",
      "xxxx xxxx          87610\n",
      "chase bank         12839\n",
      "credit card        12828\n",
      "xxxx chase          5879\n",
      "call chase          4226\n",
      "credit report       3994\n",
      "xxxxxxxx xxxx       3785\n",
      "chase xxxx          3721\n",
      "check account       3624\n",
      "xxxx xxxxxxxx       3295\n"
     ]
    }
   ],
   "source": [
    "#Print the top 10 words in the bigram frequency\n",
    "print(\"Top 10 bigrams by frequency:\")\n",
    "print(bigram_df.sort_values(by=\"frequency\", ascending = False).head(10))"
   ]
  },
  {
   "cell_type": "code",
   "execution_count": 40,
   "metadata": {},
   "outputs": [
    {
     "data": {
      "text/plain": [
       "<Figure size 1440x360 with 0 Axes>"
      ]
     },
     "metadata": {},
     "output_type": "display_data"
    },
    {
     "data": {
      "image/png": "[encoded data removed]",
      "text/plain": [
       "<Figure size 1440x432 with 1 Axes>"
      ]
     },
     "metadata": {
      "needs_background": "light"
     },
     "output_type": "display_data"
    }
   ],
   "source": [
    "# Top 30 words by their bigram frequency\n",
    "plt.figure(figsize=(20, 5))\n",
    "bigram_df.sort_values(by='frequency', ascending=False)[:30].plot(kind='bar', figsize=(20,6), fontsize=16)\n",
    "plt.show()"
   ]
  },
  {
   "cell_type": "code",
   "execution_count": 41,
   "metadata": {
    "id": "Xkh7vtbtJrF-"
   },
   "outputs": [],
   "source": [
    "#Write your code here to find the top 30 trigram frequency among the complaints in the cleaned datafram(df_clean). \n",
    "wordCountVector = CountVectorizer(ngram_range=(3,3), analyzer='word') \n",
    "word_vector = wordCountVector.fit_transform(df_clean['complaint_POS_removed']) \n",
    "frequencies = sum(word_vector).toarray()[0]\n",
    "trigram_df = pd.DataFrame(frequencies, index = wordCountVector.get_feature_names(), columns=['frequency'])"
   ]
  },
  {
   "cell_type": "code",
   "execution_count": 42,
   "metadata": {
    "id": "REcVxNfvJrF-"
   },
   "outputs": [
    {
     "name": "stdout",
     "output_type": "stream",
     "text": [
      "Top 10 bigrams by frequency:\n",
      "                    frequency\n",
      "xxxx xxxx xxxx          43575\n",
      "xxxx xxxx chase          2672\n",
      "chase credit card        2290\n",
      "jp morgan chase          2060\n",
      "xxxxxxxx xxxx xxxx       1896\n",
      "xxxx xxxx xxxxxxxx       1548\n",
      "chase xxxx xxxx          1461\n",
      "account xxxx xxxx        1246\n",
      "chase bank xxxx          1225\n",
      "xxxx credit card         1203\n"
     ]
    }
   ],
   "source": [
    "#Print the top 10 words in the trigram frequency\n",
    "print(\"Top 10 bigrams by frequency:\")\n",
    "print(trigram_df.sort_values(by=\"frequency\", ascending = False).head(10))"
   ]
  },
  {
   "cell_type": "code",
   "execution_count": 43,
   "metadata": {},
   "outputs": [
    {
     "data": {
      "text/plain": [
       "<Figure size 1440x360 with 0 Axes>"
      ]
     },
     "metadata": {},
     "output_type": "display_data"
    },
    {
     "data": {
      "image/png": "[encoded data removed]",
      "text/plain": [
       "<Figure size 1440x432 with 1 Axes>"
      ]
     },
     "metadata": {
      "needs_background": "light"
     },
     "output_type": "display_data"
    }
   ],
   "source": [
    "# Top 30 words by their trigram frequency\n",
    "plt.figure(figsize=(20, 5))\n",
    "trigram_df.sort_values(by='frequency', ascending=False)[:30].plot(kind='bar', figsize=(20,6), fontsize=16)\n",
    "plt.show()"
   ]
  },
  {
   "cell_type": "markdown",
   "metadata": {
    "id": "yUXzFji0JrF_"
   },
   "source": [
    "## The personal details of customer has been masked in the dataset with xxxx. Let's remove the masked text as this will be of no use for our analysis"
   ]
  },
  {
   "cell_type": "code",
   "execution_count": 44,
   "metadata": {
    "id": "wKda-a_IJrF_"
   },
   "outputs": [
    {
     "name": "stderr",
     "output_type": "stream",
     "text": [
      "C:\\Users\\91973\\AppData\\Local\\Temp/ipykernel_17784/1071719281.py:1: SettingWithCopyWarning:\n",
      "\n",
      "\n",
      "A value is trying to be set on a copy of a slice from a DataFrame.\n",
      "Try using .loc[row_indexer,col_indexer] = value instead\n",
      "\n",
      "See the caveats in the documentation: https://pandas.pydata.org/pandas-docs/stable/user_guide/indexing.html#returning-a-view-versus-a-copy\n",
      "\n",
      "C:\\Users\\91973\\AppData\\Local\\Temp/ipykernel_17784/1071719281.py:2: SettingWithCopyWarning:\n",
      "\n",
      "\n",
      "A value is trying to be set on a copy of a slice from a DataFrame.\n",
      "Try using .loc[row_indexer,col_indexer] = value instead\n",
      "\n",
      "See the caveats in the documentation: https://pandas.pydata.org/pandas-docs/stable/user_guide/indexing.html#returning-a-view-versus-a-copy\n",
      "\n",
      "C:\\Users\\91973\\AppData\\Local\\Temp/ipykernel_17784/1071719281.py:3: SettingWithCopyWarning:\n",
      "\n",
      "\n",
      "A value is trying to be set on a copy of a slice from a DataFrame.\n",
      "Try using .loc[row_indexer,col_indexer] = value instead\n",
      "\n",
      "See the caveats in the documentation: https://pandas.pydata.org/pandas-docs/stable/user_guide/indexing.html#returning-a-view-versus-a-copy\n",
      "\n"
     ]
    }
   ],
   "source": [
    "df_clean['complaint_clean'] = df_clean['complaint_clean'].str.replace('xxxx','')\n",
    "df_clean['complaint_lemmatized'] = df_clean['complaint_lemmatized'].str.replace('xxxx','')\n",
    "df_clean['complaint_POS_removed'] = df_clean['complaint_POS_removed'].str.replace('xxxx','')"
   ]
  },
  {
   "cell_type": "code",
   "execution_count": 45,
   "metadata": {
    "id": "9UIFk8fQJrF_"
   },
   "outputs": [
    {
     "data": {
      "text/html": [
       "<div>\n",
       "<style scoped>\n",
       "    .dataframe tbody tr th:only-of-type {\n",
       "        vertical-align: middle;\n",
       "    }\n",
       "\n",
       "    .dataframe tbody tr th {\n",
       "        vertical-align: top;\n",
       "    }\n",
       "\n",
       "    .dataframe thead th {\n",
       "        text-align: right;\n",
       "    }\n",
       "</style>\n",
       "<table border=\"1\" class=\"dataframe\">\n",
       "  <thead>\n",
       "    <tr style=\"text-align: right;\">\n",
       "      <th></th>\n",
       "      <th>complaint</th>\n",
       "      <th>complaint_lemmatized</th>\n",
       "      <th>complaint_POS_removed</th>\n",
       "      <th>complaint_clean</th>\n",
       "    </tr>\n",
       "  </thead>\n",
       "  <tbody>\n",
       "    <tr>\n",
       "      <th>0</th>\n",
       "      <td>Good morning my name is XXXX XXXX and I apprec...</td>\n",
       "      <td>good morning name   appreciate could help put ...</td>\n",
       "      <td>morning name   chase bank cardmember service w...</td>\n",
       "      <td>morning name   chase bank cardmember service w...</td>\n",
       "    </tr>\n",
       "    <tr>\n",
       "      <th>1</th>\n",
       "      <td>I upgraded my XXXX XXXX card in XX/XX/2018 and...</td>\n",
       "      <td>upgraded   card tell agent upgrade anniversary...</td>\n",
       "      <td>card agent upgrade anniversary date agent in...</td>\n",
       "      <td>card agent upgrade anniversary date agent in...</td>\n",
       "    </tr>\n",
       "    <tr>\n",
       "      <th>2</th>\n",
       "      <td>Chase Card was reported on XX/XX/2019. However...</td>\n",
       "      <td>chase card report however fraudulent applicati...</td>\n",
       "      <td>chase card report application submit identity ...</td>\n",
       "      <td>chase card report application submit identity ...</td>\n",
       "    </tr>\n",
       "    <tr>\n",
       "      <th>3</th>\n",
       "      <td>On XX/XX/2018, while trying to book a XXXX  XX...</td>\n",
       "      <td>try book   ticket come across offer apply towa...</td>\n",
       "      <td>book   ticket offer ticket reward card informa...</td>\n",
       "      <td>book   ticket offer ticket reward card informa...</td>\n",
       "    </tr>\n",
       "    <tr>\n",
       "      <th>4</th>\n",
       "      <td>my grand son give me check for {$1600.00} i de...</td>\n",
       "      <td>grand son give check deposit chase account fun...</td>\n",
       "      <td>grand son check deposit chase account fund cha...</td>\n",
       "      <td>grand son check deposit chase account fund cha...</td>\n",
       "    </tr>\n",
       "    <tr>\n",
       "      <th>...</th>\n",
       "      <td>...</td>\n",
       "      <td>...</td>\n",
       "      <td>...</td>\n",
       "      <td>...</td>\n",
       "    </tr>\n",
       "    <tr>\n",
       "      <th>21067</th>\n",
       "      <td>After being a Chase Card customer for well ove...</td>\n",
       "      <td>chase card customer well decade offer multiple...</td>\n",
       "      <td>chase card customer decade solicitation credit...</td>\n",
       "      <td>chase card customer decade solicitation credit...</td>\n",
       "    </tr>\n",
       "    <tr>\n",
       "      <th>21068</th>\n",
       "      <td>On Wednesday, XX/XX/XXXX I called Chas, my XXX...</td>\n",
       "      <td>wednesday  call chas   visa credit card provid...</td>\n",
       "      <td>wednesday  call chas   visa credit card provid...</td>\n",
       "      <td>wednesday  call chas   visa credit card provid...</td>\n",
       "    </tr>\n",
       "    <tr>\n",
       "      <th>21069</th>\n",
       "      <td>I am not familiar with XXXX pay and did not un...</td>\n",
       "      <td>familiar  pay understand great risk provide co...</td>\n",
       "      <td>risk consumer chase bank app chase year trust...</td>\n",
       "      <td>risk consumer chase bank app chase year trust...</td>\n",
       "    </tr>\n",
       "    <tr>\n",
       "      <th>21070</th>\n",
       "      <td>I have had flawless credit for 30 yrs. I've ha...</td>\n",
       "      <td>flawless credit yrs ive chase credit card chas...</td>\n",
       "      <td>credit yrs chase credit card chase freedom  pr...</td>\n",
       "      <td>credit yrs chase credit card chase freedom  pr...</td>\n",
       "    </tr>\n",
       "    <tr>\n",
       "      <th>21071</th>\n",
       "      <td>Roughly 10+ years ago I closed out my accounts...</td>\n",
       "      <td>roughly year ago close account jp morgan chase...</td>\n",
       "      <td>year account jp morgan chase bank  order line ...</td>\n",
       "      <td>year account jp morgan chase bank  order line ...</td>\n",
       "    </tr>\n",
       "  </tbody>\n",
       "</table>\n",
       "<p>21072 rows × 4 columns</p>\n",
       "</div>"
      ],
      "text/plain": [
       "                                               complaint  \\\n",
       "0      Good morning my name is XXXX XXXX and I apprec...   \n",
       "1      I upgraded my XXXX XXXX card in XX/XX/2018 and...   \n",
       "2      Chase Card was reported on XX/XX/2019. However...   \n",
       "3      On XX/XX/2018, while trying to book a XXXX  XX...   \n",
       "4      my grand son give me check for {$1600.00} i de...   \n",
       "...                                                  ...   \n",
       "21067  After being a Chase Card customer for well ove...   \n",
       "21068  On Wednesday, XX/XX/XXXX I called Chas, my XXX...   \n",
       "21069  I am not familiar with XXXX pay and did not un...   \n",
       "21070  I have had flawless credit for 30 yrs. I've ha...   \n",
       "21071  Roughly 10+ years ago I closed out my accounts...   \n",
       "\n",
       "                                    complaint_lemmatized  \\\n",
       "0      good morning name   appreciate could help put ...   \n",
       "1      upgraded   card tell agent upgrade anniversary...   \n",
       "2      chase card report however fraudulent applicati...   \n",
       "3      try book   ticket come across offer apply towa...   \n",
       "4      grand son give check deposit chase account fun...   \n",
       "...                                                  ...   \n",
       "21067  chase card customer well decade offer multiple...   \n",
       "21068  wednesday  call chas   visa credit card provid...   \n",
       "21069  familiar  pay understand great risk provide co...   \n",
       "21070  flawless credit yrs ive chase credit card chas...   \n",
       "21071  roughly year ago close account jp morgan chase...   \n",
       "\n",
       "                                   complaint_POS_removed  \\\n",
       "0      morning name   chase bank cardmember service w...   \n",
       "1        card agent upgrade anniversary date agent in...   \n",
       "2      chase card report application submit identity ...   \n",
       "3      book   ticket offer ticket reward card informa...   \n",
       "4      grand son check deposit chase account fund cha...   \n",
       "...                                                  ...   \n",
       "21067  chase card customer decade solicitation credit...   \n",
       "21068  wednesday  call chas   visa credit card provid...   \n",
       "21069   risk consumer chase bank app chase year trust...   \n",
       "21070  credit yrs chase credit card chase freedom  pr...   \n",
       "21071  year account jp morgan chase bank  order line ...   \n",
       "\n",
       "                                         complaint_clean  \n",
       "0      morning name   chase bank cardmember service w...  \n",
       "1        card agent upgrade anniversary date agent in...  \n",
       "2      chase card report application submit identity ...  \n",
       "3      book   ticket offer ticket reward card informa...  \n",
       "4      grand son check deposit chase account fund cha...  \n",
       "...                                                  ...  \n",
       "21067  chase card customer decade solicitation credit...  \n",
       "21068  wednesday  call chas   visa credit card provid...  \n",
       "21069   risk consumer chase bank app chase year trust...  \n",
       "21070  credit yrs chase credit card chase freedom  pr...  \n",
       "21071  year account jp morgan chase bank  order line ...  \n",
       "\n",
       "[21072 rows x 4 columns]"
      ]
     },
     "execution_count": 45,
     "metadata": {},
     "output_type": "execute_result"
    }
   ],
   "source": [
    "#All masked texts has been removed\n",
    "df_clean"
   ]
  },
  {
   "cell_type": "markdown",
   "metadata": {
    "id": "k-I0k0QtJrGA"
   },
   "source": [
    "## Feature Extraction\n",
    "Convert the raw texts to a matrix of TF-IDF features\n",
    "\n",
    "**max_df** is used for removing terms that appear too frequently, also known as \"corpus-specific stop words\"\n",
    "max_df = 0.95 means \"ignore terms that appear in more than 95% of the complaints\"\n",
    "\n",
    "**min_df** is used for removing terms that appear too infrequently\n",
    "min_df = 2 means \"ignore terms that appear in less than 2 complaints\""
   ]
  },
  {
   "cell_type": "code",
   "execution_count": 46,
   "metadata": {
    "id": "Y8fGwaCPJrGA"
   },
   "outputs": [],
   "source": [
    "#Write your code here to initialise the TfidfVectorizer \n",
    "from sklearn.feature_extraction.text import TfidfVectorizer\n",
    "tfidf_vectorizer = TfidfVectorizer(\n",
    "    min_df=2,\n",
    "    max_df=0.95,\n",
    "    stop_words='english',\n",
    "    max_features=5000,\n",
    "    ngram_range=(1, 3)\n",
    ")"
   ]
  },
  {
   "cell_type": "markdown",
   "metadata": {
    "id": "yYzD85nTJrGA"
   },
   "source": [
    "#### Create a document term matrix using fit_transform\n",
    "\n",
    "The contents of a document term matrix are tuples of (complaint_id,token_id) tf-idf score:\n",
    "The tuples that are not there have a tf-idf score of 0"
   ]
  },
  {
   "cell_type": "code",
   "execution_count": 47,
   "metadata": {
    "id": "ffzdDpp_JrGB"
   },
   "outputs": [
    {
     "data": {
      "text/html": [
       "<div>\n",
       "<style scoped>\n",
       "    .dataframe tbody tr th:only-of-type {\n",
       "        vertical-align: middle;\n",
       "    }\n",
       "\n",
       "    .dataframe tbody tr th {\n",
       "        vertical-align: top;\n",
       "    }\n",
       "\n",
       "    .dataframe thead th {\n",
       "        text-align: right;\n",
       "    }\n",
       "</style>\n",
       "<table border=\"1\" class=\"dataframe\">\n",
       "  <thead>\n",
       "    <tr style=\"text-align: right;\">\n",
       "      <th></th>\n",
       "      <th>abide</th>\n",
       "      <th>ability</th>\n",
       "      <th>abuse</th>\n",
       "      <th>ac</th>\n",
       "      <th>accept</th>\n",
       "      <th>acceptance</th>\n",
       "      <th>access</th>\n",
       "      <th>access account</th>\n",
       "      <th>access bank</th>\n",
       "      <th>access chase</th>\n",
       "      <th>...</th>\n",
       "      <th>year mortgage</th>\n",
       "      <th>year pay</th>\n",
       "      <th>year payment</th>\n",
       "      <th>year time</th>\n",
       "      <th>year work</th>\n",
       "      <th>year year</th>\n",
       "      <th>yesterday</th>\n",
       "      <th>york</th>\n",
       "      <th>yr</th>\n",
       "      <th>zip</th>\n",
       "    </tr>\n",
       "  </thead>\n",
       "  <tbody>\n",
       "    <tr>\n",
       "      <th>0</th>\n",
       "      <td>0.0</td>\n",
       "      <td>0.0</td>\n",
       "      <td>0.0</td>\n",
       "      <td>0.0</td>\n",
       "      <td>0.0</td>\n",
       "      <td>0.0</td>\n",
       "      <td>0.0</td>\n",
       "      <td>0.0</td>\n",
       "      <td>0.0</td>\n",
       "      <td>0.0</td>\n",
       "      <td>...</td>\n",
       "      <td>0.0</td>\n",
       "      <td>0.0</td>\n",
       "      <td>0.0</td>\n",
       "      <td>0.0</td>\n",
       "      <td>0.0</td>\n",
       "      <td>0.0</td>\n",
       "      <td>0.0</td>\n",
       "      <td>0.0</td>\n",
       "      <td>0.0</td>\n",
       "      <td>0.0</td>\n",
       "    </tr>\n",
       "    <tr>\n",
       "      <th>1</th>\n",
       "      <td>0.0</td>\n",
       "      <td>0.0</td>\n",
       "      <td>0.0</td>\n",
       "      <td>0.0</td>\n",
       "      <td>0.0</td>\n",
       "      <td>0.0</td>\n",
       "      <td>0.0</td>\n",
       "      <td>0.0</td>\n",
       "      <td>0.0</td>\n",
       "      <td>0.0</td>\n",
       "      <td>...</td>\n",
       "      <td>0.0</td>\n",
       "      <td>0.0</td>\n",
       "      <td>0.0</td>\n",
       "      <td>0.0</td>\n",
       "      <td>0.0</td>\n",
       "      <td>0.0</td>\n",
       "      <td>0.0</td>\n",
       "      <td>0.0</td>\n",
       "      <td>0.0</td>\n",
       "      <td>0.0</td>\n",
       "    </tr>\n",
       "    <tr>\n",
       "      <th>2</th>\n",
       "      <td>0.0</td>\n",
       "      <td>0.0</td>\n",
       "      <td>0.0</td>\n",
       "      <td>0.0</td>\n",
       "      <td>0.0</td>\n",
       "      <td>0.0</td>\n",
       "      <td>0.0</td>\n",
       "      <td>0.0</td>\n",
       "      <td>0.0</td>\n",
       "      <td>0.0</td>\n",
       "      <td>...</td>\n",
       "      <td>0.0</td>\n",
       "      <td>0.0</td>\n",
       "      <td>0.0</td>\n",
       "      <td>0.0</td>\n",
       "      <td>0.0</td>\n",
       "      <td>0.0</td>\n",
       "      <td>0.0</td>\n",
       "      <td>0.0</td>\n",
       "      <td>0.0</td>\n",
       "      <td>0.0</td>\n",
       "    </tr>\n",
       "    <tr>\n",
       "      <th>3</th>\n",
       "      <td>0.0</td>\n",
       "      <td>0.0</td>\n",
       "      <td>0.0</td>\n",
       "      <td>0.0</td>\n",
       "      <td>0.0</td>\n",
       "      <td>0.0</td>\n",
       "      <td>0.0</td>\n",
       "      <td>0.0</td>\n",
       "      <td>0.0</td>\n",
       "      <td>0.0</td>\n",
       "      <td>...</td>\n",
       "      <td>0.0</td>\n",
       "      <td>0.0</td>\n",
       "      <td>0.0</td>\n",
       "      <td>0.0</td>\n",
       "      <td>0.0</td>\n",
       "      <td>0.0</td>\n",
       "      <td>0.0</td>\n",
       "      <td>0.0</td>\n",
       "      <td>0.0</td>\n",
       "      <td>0.0</td>\n",
       "    </tr>\n",
       "    <tr>\n",
       "      <th>4</th>\n",
       "      <td>0.0</td>\n",
       "      <td>0.0</td>\n",
       "      <td>0.0</td>\n",
       "      <td>0.0</td>\n",
       "      <td>0.0</td>\n",
       "      <td>0.0</td>\n",
       "      <td>0.0</td>\n",
       "      <td>0.0</td>\n",
       "      <td>0.0</td>\n",
       "      <td>0.0</td>\n",
       "      <td>...</td>\n",
       "      <td>0.0</td>\n",
       "      <td>0.0</td>\n",
       "      <td>0.0</td>\n",
       "      <td>0.0</td>\n",
       "      <td>0.0</td>\n",
       "      <td>0.0</td>\n",
       "      <td>0.0</td>\n",
       "      <td>0.0</td>\n",
       "      <td>0.0</td>\n",
       "      <td>0.0</td>\n",
       "    </tr>\n",
       "  </tbody>\n",
       "</table>\n",
       "<p>5 rows × 5000 columns</p>\n",
       "</div>"
      ],
      "text/plain": [
       "   abide  ability  abuse   ac  accept  acceptance  access  access account  \\\n",
       "0    0.0      0.0    0.0  0.0     0.0         0.0     0.0             0.0   \n",
       "1    0.0      0.0    0.0  0.0     0.0         0.0     0.0             0.0   \n",
       "2    0.0      0.0    0.0  0.0     0.0         0.0     0.0             0.0   \n",
       "3    0.0      0.0    0.0  0.0     0.0         0.0     0.0             0.0   \n",
       "4    0.0      0.0    0.0  0.0     0.0         0.0     0.0             0.0   \n",
       "\n",
       "   access bank  access chase  ...  year mortgage  year pay  year payment  \\\n",
       "0          0.0           0.0  ...            0.0       0.0           0.0   \n",
       "1          0.0           0.0  ...            0.0       0.0           0.0   \n",
       "2          0.0           0.0  ...            0.0       0.0           0.0   \n",
       "3          0.0           0.0  ...            0.0       0.0           0.0   \n",
       "4          0.0           0.0  ...            0.0       0.0           0.0   \n",
       "\n",
       "   year time  year work  year year  yesterday  york   yr  zip  \n",
       "0        0.0        0.0        0.0        0.0   0.0  0.0  0.0  \n",
       "1        0.0        0.0        0.0        0.0   0.0  0.0  0.0  \n",
       "2        0.0        0.0        0.0        0.0   0.0  0.0  0.0  \n",
       "3        0.0        0.0        0.0        0.0   0.0  0.0  0.0  \n",
       "4        0.0        0.0        0.0        0.0   0.0  0.0  0.0  \n",
       "\n",
       "[5 rows x 5000 columns]"
      ]
     },
     "execution_count": 47,
     "metadata": {},
     "output_type": "execute_result"
    }
   ],
   "source": [
    "#Write your code here to create the Document Term Matrix by transforming the complaints column present in df_clean.\n",
    "\n",
    "tfidf = tfidf_vectorizer.fit_transform(df_clean['complaint_POS_removed'])\n",
    "features = tfidf_vectorizer.get_feature_names()\n",
    "\n",
    "# Creating a dataframe to display the document-term matrix created above\n",
    "tfidf_df = pd.DataFrame(tfidf.toarray(), columns = features)\n",
    "tfidf_df.head()"
   ]
  },
  {
   "cell_type": "code",
   "execution_count": 48,
   "metadata": {},
   "outputs": [
    {
     "data": {
      "text/plain": [
       "(21072, 5000)"
      ]
     },
     "execution_count": 48,
     "metadata": {},
     "output_type": "execute_result"
    }
   ],
   "source": [
    "# Check the shape of dataframe\n",
    "tfidf_df.shape"
   ]
  },
  {
   "cell_type": "markdown",
   "metadata": {
    "id": "7Q9lwvNEJrGB"
   },
   "source": [
    "## Topic Modelling using NMF\n",
    "\n",
    "Non-Negative Matrix Factorization (NMF) is an unsupervised technique so there are no labeling of topics that the model will be trained on. The way it works is that, NMF decomposes (or factorizes) high-dimensional vectors into a lower-dimensional representation. These lower-dimensional vectors are non-negative which also means their coefficients are non-negative.\n",
    "\n",
    "In this task you have to perform the following:\n",
    "\n",
    "* Find the best number of clusters \n",
    "* Apply the best number to create word clusters\n",
    "* Inspect & validate the correction of each cluster wrt the complaints \n",
    "* Correct the labels if needed \n",
    "* Map the clusters to topics/cluster names"
   ]
  },
  {
   "cell_type": "code",
   "execution_count": 49,
   "metadata": {
    "id": "amLT4omWJrGB"
   },
   "outputs": [],
   "source": [
    "from sklearn.decomposition import NMF"
   ]
  },
  {
   "cell_type": "markdown",
   "metadata": {
    "id": "0wYR1xUTJrGD"
   },
   "source": [
    "## Manual Topic Modeling\n",
    "You need to do take the trial & error approach to find the best num of topics for your NMF model.\n",
    "\n",
    "The only parameter that is required is the number of components i.e. the number of topics we want. This is the most crucial step in the whole topic modeling process and will greatly affect how good your final topics are."
   ]
  },
  {
   "cell_type": "code",
   "execution_count": 50,
   "metadata": {},
   "outputs": [
    {
     "data": {
      "text/plain": [
       "5000"
      ]
     },
     "execution_count": 50,
     "metadata": {},
     "output_type": "execute_result"
    }
   ],
   "source": [
    "#Load your nmf_model with the n_components i.e 5\n",
    "num_topics = 5 #write the value you want to test out\n",
    "\n",
    "#keep the random_state =40\n",
    "nmf_model = NMF(n_components=num_topics, random_state=40) #write your code here\n",
    "len(tfidf_vectorizer.get_feature_names())"
   ]
  },
  {
   "cell_type": "code",
   "execution_count": 51,
   "metadata": {},
   "outputs": [],
   "source": [
    "W = nmf_model.fit_transform(tfidf)  # Document-Topic matrix\n",
    "H = nmf_model.components_           # Topic-Term matrix)"
   ]
  },
  {
   "cell_type": "code",
   "execution_count": 52,
   "metadata": {},
   "outputs": [
    {
     "data": {
      "text/html": [
       "<div>\n",
       "<style scoped>\n",
       "    .dataframe tbody tr th:only-of-type {\n",
       "        vertical-align: middle;\n",
       "    }\n",
       "\n",
       "    .dataframe tbody tr th {\n",
       "        vertical-align: top;\n",
       "    }\n",
       "\n",
       "    .dataframe thead th {\n",
       "        text-align: right;\n",
       "    }\n",
       "</style>\n",
       "<table border=\"1\" class=\"dataframe\">\n",
       "  <thead>\n",
       "    <tr style=\"text-align: right;\">\n",
       "      <th></th>\n",
       "      <th>Word 1</th>\n",
       "      <th>Word 2</th>\n",
       "      <th>Word 3</th>\n",
       "      <th>Word 4</th>\n",
       "      <th>Word 5</th>\n",
       "      <th>Word 6</th>\n",
       "      <th>Word 7</th>\n",
       "      <th>Word 8</th>\n",
       "      <th>Word 9</th>\n",
       "      <th>Word 10</th>\n",
       "      <th>Word 11</th>\n",
       "      <th>Word 12</th>\n",
       "      <th>Word 13</th>\n",
       "      <th>Word 14</th>\n",
       "      <th>Word 15</th>\n",
       "    </tr>\n",
       "  </thead>\n",
       "  <tbody>\n",
       "    <tr>\n",
       "      <th>Topic 1</th>\n",
       "      <td>account</td>\n",
       "      <td>bank</td>\n",
       "      <td>check</td>\n",
       "      <td>chase</td>\n",
       "      <td>money</td>\n",
       "      <td>deposit</td>\n",
       "      <td>chase bank</td>\n",
       "      <td>fund</td>\n",
       "      <td>transaction</td>\n",
       "      <td>branch</td>\n",
       "      <td>day</td>\n",
       "      <td>check account</td>\n",
       "      <td>claim</td>\n",
       "      <td>account chase</td>\n",
       "      <td>number</td>\n",
       "    </tr>\n",
       "    <tr>\n",
       "      <th>Topic 2</th>\n",
       "      <td>card</td>\n",
       "      <td>credit</td>\n",
       "      <td>credit card</td>\n",
       "      <td>charge</td>\n",
       "      <td>chase</td>\n",
       "      <td>dispute</td>\n",
       "      <td>chase credit</td>\n",
       "      <td>purchase</td>\n",
       "      <td>chase credit card</td>\n",
       "      <td>company</td>\n",
       "      <td>service</td>\n",
       "      <td>merchant</td>\n",
       "      <td>card chase</td>\n",
       "      <td>balance</td>\n",
       "      <td>time</td>\n",
       "    </tr>\n",
       "    <tr>\n",
       "      <th>Topic 3</th>\n",
       "      <td>loan</td>\n",
       "      <td>mortgage</td>\n",
       "      <td>chase</td>\n",
       "      <td>home</td>\n",
       "      <td>modification</td>\n",
       "      <td>property</td>\n",
       "      <td>morgan</td>\n",
       "      <td>year</td>\n",
       "      <td>document</td>\n",
       "      <td>letter</td>\n",
       "      <td>foreclosure</td>\n",
       "      <td>time</td>\n",
       "      <td>jp</td>\n",
       "      <td>jp morgan</td>\n",
       "      <td>morgan chase</td>\n",
       "    </tr>\n",
       "    <tr>\n",
       "      <th>Topic 4</th>\n",
       "      <td>report</td>\n",
       "      <td>credit</td>\n",
       "      <td>inquiry</td>\n",
       "      <td>credit report</td>\n",
       "      <td>inquiry credit</td>\n",
       "      <td>inquiry credit report</td>\n",
       "      <td>bureau</td>\n",
       "      <td>account</td>\n",
       "      <td>report credit</td>\n",
       "      <td>credit bureau</td>\n",
       "      <td>debt</td>\n",
       "      <td>score</td>\n",
       "      <td>information</td>\n",
       "      <td>jpmcb</td>\n",
       "      <td>reporting</td>\n",
       "    </tr>\n",
       "    <tr>\n",
       "      <th>Topic 5</th>\n",
       "      <td>payment</td>\n",
       "      <td>balance</td>\n",
       "      <td>fee</td>\n",
       "      <td>payment payment</td>\n",
       "      <td>month</td>\n",
       "      <td>pay</td>\n",
       "      <td>payment chase</td>\n",
       "      <td>statement</td>\n",
       "      <td>chase payment</td>\n",
       "      <td>chase</td>\n",
       "      <td>time</td>\n",
       "      <td>day</td>\n",
       "      <td>auto</td>\n",
       "      <td>account</td>\n",
       "      <td>payment month</td>\n",
       "    </tr>\n",
       "  </tbody>\n",
       "</table>\n",
       "</div>"
      ],
      "text/plain": [
       "          Word 1    Word 2       Word 3           Word 4          Word 5  \\\n",
       "Topic 1  account      bank        check            chase           money   \n",
       "Topic 2     card    credit  credit card           charge           chase   \n",
       "Topic 3     loan  mortgage        chase             home    modification   \n",
       "Topic 4   report    credit      inquiry    credit report  inquiry credit   \n",
       "Topic 5  payment   balance          fee  payment payment           month   \n",
       "\n",
       "                        Word 6         Word 7     Word 8             Word 9  \\\n",
       "Topic 1                deposit     chase bank       fund        transaction   \n",
       "Topic 2                dispute   chase credit   purchase  chase credit card   \n",
       "Topic 3               property         morgan       year           document   \n",
       "Topic 4  inquiry credit report         bureau    account      report credit   \n",
       "Topic 5                    pay  payment chase  statement      chase payment   \n",
       "\n",
       "               Word 10      Word 11        Word 12      Word 13  \\\n",
       "Topic 1         branch          day  check account        claim   \n",
       "Topic 2        company      service       merchant   card chase   \n",
       "Topic 3         letter  foreclosure           time           jp   \n",
       "Topic 4  credit bureau         debt          score  information   \n",
       "Topic 5          chase         time            day         auto   \n",
       "\n",
       "               Word 14        Word 15  \n",
       "Topic 1  account chase         number  \n",
       "Topic 2        balance           time  \n",
       "Topic 3      jp morgan   morgan chase  \n",
       "Topic 4          jpmcb      reporting  \n",
       "Topic 5        account  payment month  "
      ]
     },
     "execution_count": 52,
     "metadata": {},
     "output_type": "execute_result"
    }
   ],
   "source": [
    "#Print the Top15 words for each of the topics\n",
    "words = np.array(tfidf_vectorizer.get_feature_names())\n",
    "topic_words = pd.DataFrame(np.zeros((num_topics, 15)), index=[f'Topic {i + 1}' for i in range(num_topics)],\n",
    "                           columns=[f'Word {i + 1}' for i in range(15)]).astype(str)\n",
    "for i in range(num_topics):\n",
    "    ix = H[i].argsort()[::-1][:15]\n",
    "    topic_words.iloc[i] = words[ix]\n",
    "\n",
    "topic_words"
   ]
  },
  {
   "cell_type": "code",
   "execution_count": 53,
   "metadata": {
    "id": "0OIT7LmFJrGF"
   },
   "outputs": [],
   "source": [
    "#Create the best topic for each complaint in terms of integer value 0,1,2,3 & 4\n",
    "topic_mapping = {\n",
    "    'Topic 1' : 0,\n",
    "    'Topic 2' : 1,\n",
    "    'Topic 3' : 2,\n",
    "    'Topic 4' : 3,\n",
    "    'Topic 5' : 4\n",
    "}"
   ]
  },
  {
   "cell_type": "code",
   "execution_count": 54,
   "metadata": {},
   "outputs": [
    {
     "data": {
      "text/html": [
       "<div>\n",
       "<style scoped>\n",
       "    .dataframe tbody tr th:only-of-type {\n",
       "        vertical-align: middle;\n",
       "    }\n",
       "\n",
       "    .dataframe tbody tr th {\n",
       "        vertical-align: top;\n",
       "    }\n",
       "\n",
       "    .dataframe thead th {\n",
       "        text-align: right;\n",
       "    }\n",
       "</style>\n",
       "<table border=\"1\" class=\"dataframe\">\n",
       "  <thead>\n",
       "    <tr style=\"text-align: right;\">\n",
       "      <th></th>\n",
       "      <th>Topic 1</th>\n",
       "      <th>Topic 2</th>\n",
       "      <th>Topic 3</th>\n",
       "      <th>Topic 4</th>\n",
       "      <th>Topic 5</th>\n",
       "      <th>max_topic</th>\n",
       "    </tr>\n",
       "  </thead>\n",
       "  <tbody>\n",
       "    <tr>\n",
       "      <th>0</th>\n",
       "      <td>0.021349</td>\n",
       "      <td>0.004603</td>\n",
       "      <td>0.019036</td>\n",
       "      <td>0.013125</td>\n",
       "      <td>0.004088</td>\n",
       "      <td>0</td>\n",
       "    </tr>\n",
       "    <tr>\n",
       "      <th>1</th>\n",
       "      <td>0.005336</td>\n",
       "      <td>0.013759</td>\n",
       "      <td>0.005122</td>\n",
       "      <td>0.001553</td>\n",
       "      <td>0.001583</td>\n",
       "      <td>1</td>\n",
       "    </tr>\n",
       "    <tr>\n",
       "      <th>2</th>\n",
       "      <td>0.000000</td>\n",
       "      <td>0.022808</td>\n",
       "      <td>0.002112</td>\n",
       "      <td>0.038020</td>\n",
       "      <td>0.000000</td>\n",
       "      <td>3</td>\n",
       "    </tr>\n",
       "    <tr>\n",
       "      <th>3</th>\n",
       "      <td>0.018198</td>\n",
       "      <td>0.021274</td>\n",
       "      <td>0.016920</td>\n",
       "      <td>0.063661</td>\n",
       "      <td>0.000000</td>\n",
       "      <td>3</td>\n",
       "    </tr>\n",
       "    <tr>\n",
       "      <th>4</th>\n",
       "      <td>0.064907</td>\n",
       "      <td>0.000000</td>\n",
       "      <td>0.001489</td>\n",
       "      <td>0.000000</td>\n",
       "      <td>0.000000</td>\n",
       "      <td>0</td>\n",
       "    </tr>\n",
       "    <tr>\n",
       "      <th>5</th>\n",
       "      <td>0.000000</td>\n",
       "      <td>0.000000</td>\n",
       "      <td>0.000000</td>\n",
       "      <td>0.101863</td>\n",
       "      <td>0.000000</td>\n",
       "      <td>3</td>\n",
       "    </tr>\n",
       "    <tr>\n",
       "      <th>6</th>\n",
       "      <td>0.054978</td>\n",
       "      <td>0.003675</td>\n",
       "      <td>0.009263</td>\n",
       "      <td>0.000000</td>\n",
       "      <td>0.012256</td>\n",
       "      <td>0</td>\n",
       "    </tr>\n",
       "    <tr>\n",
       "      <th>7</th>\n",
       "      <td>0.002103</td>\n",
       "      <td>0.007274</td>\n",
       "      <td>0.043717</td>\n",
       "      <td>0.000000</td>\n",
       "      <td>0.055895</td>\n",
       "      <td>4</td>\n",
       "    </tr>\n",
       "    <tr>\n",
       "      <th>8</th>\n",
       "      <td>0.037926</td>\n",
       "      <td>0.021584</td>\n",
       "      <td>0.021695</td>\n",
       "      <td>0.007140</td>\n",
       "      <td>0.002247</td>\n",
       "      <td>0</td>\n",
       "    </tr>\n",
       "    <tr>\n",
       "      <th>9</th>\n",
       "      <td>0.000000</td>\n",
       "      <td>0.047210</td>\n",
       "      <td>0.000000</td>\n",
       "      <td>0.064856</td>\n",
       "      <td>0.000000</td>\n",
       "      <td>3</td>\n",
       "    </tr>\n",
       "  </tbody>\n",
       "</table>\n",
       "</div>"
      ],
      "text/plain": [
       "    Topic 1   Topic 2   Topic 3   Topic 4   Topic 5  max_topic\n",
       "0  0.021349  0.004603  0.019036  0.013125  0.004088          0\n",
       "1  0.005336  0.013759  0.005122  0.001553  0.001583          1\n",
       "2  0.000000  0.022808  0.002112  0.038020  0.000000          3\n",
       "3  0.018198  0.021274  0.016920  0.063661  0.000000          3\n",
       "4  0.064907  0.000000  0.001489  0.000000  0.000000          0\n",
       "5  0.000000  0.000000  0.000000  0.101863  0.000000          3\n",
       "6  0.054978  0.003675  0.009263  0.000000  0.012256          0\n",
       "7  0.002103  0.007274  0.043717  0.000000  0.055895          4\n",
       "8  0.037926  0.021584  0.021695  0.007140  0.002247          0\n",
       "9  0.000000  0.047210  0.000000  0.064856  0.000000          3"
      ]
     },
     "execution_count": 54,
     "metadata": {},
     "output_type": "execute_result"
    }
   ],
   "source": [
    "W = pd.DataFrame(W, columns=[f'Topic {i+1}' for i in range(num_topics)])\n",
    "W['max_topic'] = W.apply(lambda x: topic_mapping.get(x.idxmax()) if x.idxmax() in topic_mapping.keys() else '4', axis=1)\n",
    "W[pd.notnull(W['max_topic'])].head(10)"
   ]
  },
  {
   "cell_type": "code",
   "execution_count": 55,
   "metadata": {},
   "outputs": [
    {
     "data": {
      "text/plain": [
       "1    6220\n",
       "0    6038\n",
       "2    3889\n",
       "3    2531\n",
       "4    2394\n",
       "Name: max_topic, dtype: int64"
      ]
     },
     "execution_count": 55,
     "metadata": {},
     "output_type": "execute_result"
    }
   ],
   "source": [
    "# Checking the frequency\n",
    "W['max_topic'].value_counts()"
   ]
  },
  {
   "cell_type": "code",
   "execution_count": 56,
   "metadata": {
    "id": "peyYv-ORJrGF"
   },
   "outputs": [
    {
     "name": "stderr",
     "output_type": "stream",
     "text": [
      "C:\\Users\\91973\\AppData\\Local\\Temp/ipykernel_17784/2900588129.py:2: SettingWithCopyWarning:\n",
      "\n",
      "\n",
      "A value is trying to be set on a copy of a slice from a DataFrame.\n",
      "Try using .loc[row_indexer,col_indexer] = value instead\n",
      "\n",
      "See the caveats in the documentation: https://pandas.pydata.org/pandas-docs/stable/user_guide/indexing.html#returning-a-view-versus-a-copy\n",
      "\n"
     ]
    }
   ],
   "source": [
    "#Assign the best topic to each of the cmplaints in Topic Column\n",
    "df_clean['Topic'] = W['max_topic'].apply(lambda x:int(x))#write your code to assign topics to each rows."
   ]
  },
  {
   "cell_type": "code",
   "execution_count": 57,
   "metadata": {
    "id": "fLh_Gf3nJrGF"
   },
   "outputs": [
    {
     "data": {
      "text/html": [
       "<div>\n",
       "<style scoped>\n",
       "    .dataframe tbody tr th:only-of-type {\n",
       "        vertical-align: middle;\n",
       "    }\n",
       "\n",
       "    .dataframe tbody tr th {\n",
       "        vertical-align: top;\n",
       "    }\n",
       "\n",
       "    .dataframe thead th {\n",
       "        text-align: right;\n",
       "    }\n",
       "</style>\n",
       "<table border=\"1\" class=\"dataframe\">\n",
       "  <thead>\n",
       "    <tr style=\"text-align: right;\">\n",
       "      <th></th>\n",
       "      <th>complaint</th>\n",
       "      <th>complaint_lemmatized</th>\n",
       "      <th>complaint_POS_removed</th>\n",
       "      <th>complaint_clean</th>\n",
       "      <th>Topic</th>\n",
       "    </tr>\n",
       "  </thead>\n",
       "  <tbody>\n",
       "    <tr>\n",
       "      <th>0</th>\n",
       "      <td>Good morning my name is XXXX XXXX and I apprec...</td>\n",
       "      <td>good morning name   appreciate could help put ...</td>\n",
       "      <td>morning name   chase bank cardmember service w...</td>\n",
       "      <td>morning name   chase bank cardmember service w...</td>\n",
       "      <td>0</td>\n",
       "    </tr>\n",
       "    <tr>\n",
       "      <th>1</th>\n",
       "      <td>I upgraded my XXXX XXXX card in XX/XX/2018 and...</td>\n",
       "      <td>upgraded   card tell agent upgrade anniversary...</td>\n",
       "      <td>card agent upgrade anniversary date agent in...</td>\n",
       "      <td>card agent upgrade anniversary date agent in...</td>\n",
       "      <td>1</td>\n",
       "    </tr>\n",
       "    <tr>\n",
       "      <th>2</th>\n",
       "      <td>Chase Card was reported on XX/XX/2019. However...</td>\n",
       "      <td>chase card report however fraudulent applicati...</td>\n",
       "      <td>chase card report application submit identity ...</td>\n",
       "      <td>chase card report application submit identity ...</td>\n",
       "      <td>3</td>\n",
       "    </tr>\n",
       "    <tr>\n",
       "      <th>3</th>\n",
       "      <td>On XX/XX/2018, while trying to book a XXXX  XX...</td>\n",
       "      <td>try book   ticket come across offer apply towa...</td>\n",
       "      <td>book   ticket offer ticket reward card informa...</td>\n",
       "      <td>book   ticket offer ticket reward card informa...</td>\n",
       "      <td>3</td>\n",
       "    </tr>\n",
       "    <tr>\n",
       "      <th>4</th>\n",
       "      <td>my grand son give me check for {$1600.00} i de...</td>\n",
       "      <td>grand son give check deposit chase account fun...</td>\n",
       "      <td>grand son check deposit chase account fund cha...</td>\n",
       "      <td>grand son check deposit chase account fund cha...</td>\n",
       "      <td>0</td>\n",
       "    </tr>\n",
       "  </tbody>\n",
       "</table>\n",
       "</div>"
      ],
      "text/plain": [
       "                                           complaint  \\\n",
       "0  Good morning my name is XXXX XXXX and I apprec...   \n",
       "1  I upgraded my XXXX XXXX card in XX/XX/2018 and...   \n",
       "2  Chase Card was reported on XX/XX/2019. However...   \n",
       "3  On XX/XX/2018, while trying to book a XXXX  XX...   \n",
       "4  my grand son give me check for {$1600.00} i de...   \n",
       "\n",
       "                                complaint_lemmatized  \\\n",
       "0  good morning name   appreciate could help put ...   \n",
       "1  upgraded   card tell agent upgrade anniversary...   \n",
       "2  chase card report however fraudulent applicati...   \n",
       "3  try book   ticket come across offer apply towa...   \n",
       "4  grand son give check deposit chase account fun...   \n",
       "\n",
       "                               complaint_POS_removed  \\\n",
       "0  morning name   chase bank cardmember service w...   \n",
       "1    card agent upgrade anniversary date agent in...   \n",
       "2  chase card report application submit identity ...   \n",
       "3  book   ticket offer ticket reward card informa...   \n",
       "4  grand son check deposit chase account fund cha...   \n",
       "\n",
       "                                     complaint_clean  Topic  \n",
       "0  morning name   chase bank cardmember service w...      0  \n",
       "1    card agent upgrade anniversary date agent in...      1  \n",
       "2  chase card report application submit identity ...      3  \n",
       "3  book   ticket offer ticket reward card informa...      3  \n",
       "4  grand son check deposit chase account fund cha...      0  "
      ]
     },
     "execution_count": 57,
     "metadata": {},
     "output_type": "execute_result"
    }
   ],
   "source": [
    "df_clean.head()"
   ]
  },
  {
   "cell_type": "code",
   "execution_count": 58,
   "metadata": {},
   "outputs": [
    {
     "data": {
      "text/plain": [
       "1    6220\n",
       "0    6038\n",
       "2    3889\n",
       "3    2531\n",
       "4    2394\n",
       "Name: Topic, dtype: int64"
      ]
     },
     "execution_count": 58,
     "metadata": {},
     "output_type": "execute_result"
    }
   ],
   "source": [
    "df_clean.Topic.value_counts()"
   ]
  },
  {
   "cell_type": "code",
   "execution_count": 59,
   "metadata": {
    "id": "aQKpufSPJrGG"
   },
   "outputs": [
    {
     "data": {
      "text/html": [
       "<div>\n",
       "<style scoped>\n",
       "    .dataframe tbody tr th:only-of-type {\n",
       "        vertical-align: middle;\n",
       "    }\n",
       "\n",
       "    .dataframe tbody tr th {\n",
       "        vertical-align: top;\n",
       "    }\n",
       "\n",
       "    .dataframe thead th {\n",
       "        text-align: right;\n",
       "    }\n",
       "</style>\n",
       "<table border=\"1\" class=\"dataframe\">\n",
       "  <thead>\n",
       "    <tr style=\"text-align: right;\">\n",
       "      <th></th>\n",
       "      <th>complaint</th>\n",
       "      <th>complaint_lemmatized</th>\n",
       "      <th>complaint_POS_removed</th>\n",
       "      <th>complaint_clean</th>\n",
       "      <th>Topic</th>\n",
       "    </tr>\n",
       "  </thead>\n",
       "  <tbody>\n",
       "    <tr>\n",
       "      <th>0</th>\n",
       "      <td>Good morning my name is XXXX XXXX and I apprec...</td>\n",
       "      <td>good morning name   appreciate could help put ...</td>\n",
       "      <td>morning name   chase bank cardmember service w...</td>\n",
       "      <td>morning name   chase bank cardmember service w...</td>\n",
       "      <td>0</td>\n",
       "    </tr>\n",
       "    <tr>\n",
       "      <th>4</th>\n",
       "      <td>my grand son give me check for {$1600.00} i de...</td>\n",
       "      <td>grand son give check deposit chase account fun...</td>\n",
       "      <td>grand son check deposit chase account fund cha...</td>\n",
       "      <td>grand son check deposit chase account fund cha...</td>\n",
       "      <td>0</td>\n",
       "    </tr>\n",
       "    <tr>\n",
       "      <th>10</th>\n",
       "      <td>mishandling of this account by Chase auto and ...</td>\n",
       "      <td>mishandle account chase auto</td>\n",
       "      <td>mishandle account chase auto</td>\n",
       "      <td>mishandle account chase auto</td>\n",
       "      <td>0</td>\n",
       "    </tr>\n",
       "    <tr>\n",
       "      <th>6</th>\n",
       "      <td>With out notice J.P. Morgan Chase restricted m...</td>\n",
       "      <td>notice jp morgan chase restrict account debit ...</td>\n",
       "      <td>jp morgan chase restrict account debit card tu...</td>\n",
       "      <td>jp morgan chase restrict account debit card tu...</td>\n",
       "      <td>0</td>\n",
       "    </tr>\n",
       "    <tr>\n",
       "      <th>8</th>\n",
       "      <td>On XXXX XX/XX/2019, I made a {$300.00} payment...</td>\n",
       "      <td>make payment online retailer use chase quick ...</td>\n",
       "      <td>payment retailer chase pay  chase website sca...</td>\n",
       "      <td>payment retailer chase pay  chase website sca...</td>\n",
       "      <td>0</td>\n",
       "    </tr>\n",
       "    <tr>\n",
       "      <th>22</th>\n",
       "      <td>My roommate was stealing my Chase debit card a...</td>\n",
       "      <td>roommate steal chase debit card driver license...</td>\n",
       "      <td>roommate chase debit card driver license prete...</td>\n",
       "      <td>roommate chase debit card driver license prete...</td>\n",
       "      <td>1</td>\n",
       "    </tr>\n",
       "    <tr>\n",
       "      <th>21</th>\n",
       "      <td>I AM A SENIOR CITIZEN THAT HAS BEEN SCAMMED BY...</td>\n",
       "      <td>senior citizen scammed several company   pay t...</td>\n",
       "      <td>citizen company   time share company credit ca...</td>\n",
       "      <td>citizen company   time share company credit ca...</td>\n",
       "      <td>1</td>\n",
       "    </tr>\n",
       "    <tr>\n",
       "      <th>16</th>\n",
       "      <td>XXXX XXXX a sofa, love seat, table and chairs ...</td>\n",
       "      <td>sofa love seat table chair never deliver deb...</td>\n",
       "      <td>sofa love seat table chair debit card charge...</td>\n",
       "      <td>sofa love seat table chair debit card charge...</td>\n",
       "      <td>1</td>\n",
       "    </tr>\n",
       "    <tr>\n",
       "      <th>14</th>\n",
       "      <td>My chase amazon card was declined for a cateri...</td>\n",
       "      <td>chase amazon card decline cater order place br...</td>\n",
       "      <td>chase amazon card decline cater order place br...</td>\n",
       "      <td>chase amazon card decline cater order place br...</td>\n",
       "      <td>1</td>\n",
       "    </tr>\n",
       "    <tr>\n",
       "      <th>1</th>\n",
       "      <td>I upgraded my XXXX XXXX card in XX/XX/2018 and...</td>\n",
       "      <td>upgraded   card tell agent upgrade anniversary...</td>\n",
       "      <td>card agent upgrade anniversary date agent in...</td>\n",
       "      <td>card agent upgrade anniversary date agent in...</td>\n",
       "      <td>1</td>\n",
       "    </tr>\n",
       "    <tr>\n",
       "      <th>20</th>\n",
       "      <td>JP Morgan Chase Bank, please answer the follow...</td>\n",
       "      <td>jp morgan chase bank please answer follow ques...</td>\n",
       "      <td>jp morgan chase bank follow question     jpmor...</td>\n",
       "      <td>jp morgan chase bank follow question     jpmor...</td>\n",
       "      <td>2</td>\n",
       "    </tr>\n",
       "    <tr>\n",
       "      <th>23</th>\n",
       "      <td>I have been trying to do a loan modification w...</td>\n",
       "      <td>try loan modification chase give runaround im ...</td>\n",
       "      <td>loan modification chase runaround mo payment aen</td>\n",
       "      <td>loan modification chase runaround mo payment aen</td>\n",
       "      <td>2</td>\n",
       "    </tr>\n",
       "    <tr>\n",
       "      <th>30</th>\n",
       "      <td>I have wired through one of Chase branches in ...</td>\n",
       "      <td>wire one chase branch   exact reinstatement am...</td>\n",
       "      <td>wire chase branch   exact reinstatement amount...</td>\n",
       "      <td>wire chase branch   exact reinstatement amount...</td>\n",
       "      <td>2</td>\n",
       "    </tr>\n",
       "    <tr>\n",
       "      <th>32</th>\n",
       "      <td>I bought a new XXXX XXXX on XX/XX/XXXX from XX...</td>\n",
       "      <td>buy new        pay loan but chase financial ne...</td>\n",
       "      <td>loan but chase financial title contact ...</td>\n",
       "      <td>loan but chase financial title contact ...</td>\n",
       "      <td>2</td>\n",
       "    </tr>\n",
       "    <tr>\n",
       "      <th>41</th>\n",
       "      <td>My name is XXXX XXXX. I have missed a payment ...</td>\n",
       "      <td>name   miss payment day past due current apply...</td>\n",
       "      <td>name   payment day past current time loan modi...</td>\n",
       "      <td>name   payment day past current time loan modi...</td>\n",
       "      <td>2</td>\n",
       "    </tr>\n",
       "    <tr>\n",
       "      <th>9</th>\n",
       "      <td>I have a Chase credit card which is incorrectl...</td>\n",
       "      <td>chase credit card incorrectly report data cred...</td>\n",
       "      <td>chase credit card data credit report company i...</td>\n",
       "      <td>chase credit card data credit report company i...</td>\n",
       "      <td>3</td>\n",
       "    </tr>\n",
       "    <tr>\n",
       "      <th>5</th>\n",
       "      <td>Can you please remove inquiry</td>\n",
       "      <td>please remove inquiry</td>\n",
       "      <td>inquiry</td>\n",
       "      <td>inquiry</td>\n",
       "      <td>3</td>\n",
       "    </tr>\n",
       "    <tr>\n",
       "      <th>11</th>\n",
       "      <td>I have reached out to XXXX several times in at...</td>\n",
       "      <td>reach  several time attempt fraudulent inquiry...</td>\n",
       "      <td>time attempt inquiry remove need call contact...</td>\n",
       "      <td>time attempt inquiry remove need call contact...</td>\n",
       "      <td>3</td>\n",
       "    </tr>\n",
       "    <tr>\n",
       "      <th>3</th>\n",
       "      <td>On XX/XX/2018, while trying to book a XXXX  XX...</td>\n",
       "      <td>try book   ticket come across offer apply towa...</td>\n",
       "      <td>book   ticket offer ticket reward card informa...</td>\n",
       "      <td>book   ticket offer ticket reward card informa...</td>\n",
       "      <td>3</td>\n",
       "    </tr>\n",
       "    <tr>\n",
       "      <th>2</th>\n",
       "      <td>Chase Card was reported on XX/XX/2019. However...</td>\n",
       "      <td>chase card report however fraudulent applicati...</td>\n",
       "      <td>chase card report application submit identity ...</td>\n",
       "      <td>chase card report application submit identity ...</td>\n",
       "      <td>3</td>\n",
       "    </tr>\n",
       "    <tr>\n",
       "      <th>57</th>\n",
       "      <td>Action Taken By The Company Between the dates ...</td>\n",
       "      <td>action take company date   individual group in...</td>\n",
       "      <td>action company date   individual group contact...</td>\n",
       "      <td>action company date   individual group contact...</td>\n",
       "      <td>4</td>\n",
       "    </tr>\n",
       "    <tr>\n",
       "      <th>24</th>\n",
       "      <td>I made a purchase of {$260.00} on XX/XX/XXXX. ...</td>\n",
       "      <td>make purchase  make payment   minimum payment ...</td>\n",
       "      <td>purchase  payment   payment closing date  stat...</td>\n",
       "      <td>purchase  payment   payment closing date  stat...</td>\n",
       "      <td>4</td>\n",
       "    </tr>\n",
       "    <tr>\n",
       "      <th>33</th>\n",
       "      <td>I recently called to ask Chase bank why they r...</td>\n",
       "      <td>recently call ask chase bank report credit bur...</td>\n",
       "      <td>chase bank report credit bureau day payment ca...</td>\n",
       "      <td>chase bank report credit bureau day payment ca...</td>\n",
       "      <td>4</td>\n",
       "    </tr>\n",
       "    <tr>\n",
       "      <th>7</th>\n",
       "      <td>During the summer months, I experience a decli...</td>\n",
       "      <td>summer month experience decline income due emp...</td>\n",
       "      <td>summer month experience decline income employm...</td>\n",
       "      <td>summer month experience decline income employm...</td>\n",
       "      <td>4</td>\n",
       "    </tr>\n",
       "    <tr>\n",
       "      <th>70</th>\n",
       "      <td>On more than one occasion my bank ( Chase ) ha...</td>\n",
       "      <td>one occasion bank chase charge multiple overdr...</td>\n",
       "      <td>occasion bank chase overdraft fee account way ...</td>\n",
       "      <td>occasion bank chase overdraft fee account way ...</td>\n",
       "      <td>4</td>\n",
       "    </tr>\n",
       "  </tbody>\n",
       "</table>\n",
       "</div>"
      ],
      "text/plain": [
       "                                            complaint  \\\n",
       "0   Good morning my name is XXXX XXXX and I apprec...   \n",
       "4   my grand son give me check for {$1600.00} i de...   \n",
       "10  mishandling of this account by Chase auto and ...   \n",
       "6   With out notice J.P. Morgan Chase restricted m...   \n",
       "8   On XXXX XX/XX/2019, I made a {$300.00} payment...   \n",
       "22  My roommate was stealing my Chase debit card a...   \n",
       "21  I AM A SENIOR CITIZEN THAT HAS BEEN SCAMMED BY...   \n",
       "16  XXXX XXXX a sofa, love seat, table and chairs ...   \n",
       "14  My chase amazon card was declined for a cateri...   \n",
       "1   I upgraded my XXXX XXXX card in XX/XX/2018 and...   \n",
       "20  JP Morgan Chase Bank, please answer the follow...   \n",
       "23  I have been trying to do a loan modification w...   \n",
       "30  I have wired through one of Chase branches in ...   \n",
       "32  I bought a new XXXX XXXX on XX/XX/XXXX from XX...   \n",
       "41  My name is XXXX XXXX. I have missed a payment ...   \n",
       "9   I have a Chase credit card which is incorrectl...   \n",
       "5                       Can you please remove inquiry   \n",
       "11  I have reached out to XXXX several times in at...   \n",
       "3   On XX/XX/2018, while trying to book a XXXX  XX...   \n",
       "2   Chase Card was reported on XX/XX/2019. However...   \n",
       "57  Action Taken By The Company Between the dates ...   \n",
       "24  I made a purchase of {$260.00} on XX/XX/XXXX. ...   \n",
       "33  I recently called to ask Chase bank why they r...   \n",
       "7   During the summer months, I experience a decli...   \n",
       "70  On more than one occasion my bank ( Chase ) ha...   \n",
       "\n",
       "                                 complaint_lemmatized  \\\n",
       "0   good morning name   appreciate could help put ...   \n",
       "4   grand son give check deposit chase account fun...   \n",
       "10                      mishandle account chase auto    \n",
       "6   notice jp morgan chase restrict account debit ...   \n",
       "8    make payment online retailer use chase quick ...   \n",
       "22  roommate steal chase debit card driver license...   \n",
       "21  senior citizen scammed several company   pay t...   \n",
       "16    sofa love seat table chair never deliver deb...   \n",
       "14  chase amazon card decline cater order place br...   \n",
       "1   upgraded   card tell agent upgrade anniversary...   \n",
       "20  jp morgan chase bank please answer follow ques...   \n",
       "23  try loan modification chase give runaround im ...   \n",
       "30  wire one chase branch   exact reinstatement am...   \n",
       "32  buy new        pay loan but chase financial ne...   \n",
       "41  name   miss payment day past due current apply...   \n",
       "9   chase credit card incorrectly report data cred...   \n",
       "5                               please remove inquiry   \n",
       "11  reach  several time attempt fraudulent inquiry...   \n",
       "3   try book   ticket come across offer apply towa...   \n",
       "2   chase card report however fraudulent applicati...   \n",
       "57  action take company date   individual group in...   \n",
       "24  make purchase  make payment   minimum payment ...   \n",
       "33  recently call ask chase bank report credit bur...   \n",
       "7   summer month experience decline income due emp...   \n",
       "70  one occasion bank chase charge multiple overdr...   \n",
       "\n",
       "                                complaint_POS_removed  \\\n",
       "0   morning name   chase bank cardmember service w...   \n",
       "4   grand son check deposit chase account fund cha...   \n",
       "10                      mishandle account chase auto    \n",
       "6   jp morgan chase restrict account debit card tu...   \n",
       "8    payment retailer chase pay  chase website sca...   \n",
       "22  roommate chase debit card driver license prete...   \n",
       "21  citizen company   time share company credit ca...   \n",
       "16    sofa love seat table chair debit card charge...   \n",
       "14  chase amazon card decline cater order place br...   \n",
       "1     card agent upgrade anniversary date agent in...   \n",
       "20  jp morgan chase bank follow question     jpmor...   \n",
       "23   loan modification chase runaround mo payment aen   \n",
       "30  wire chase branch   exact reinstatement amount...   \n",
       "32         loan but chase financial title contact ...   \n",
       "41  name   payment day past current time loan modi...   \n",
       "9   chase credit card data credit report company i...   \n",
       "5                                             inquiry   \n",
       "11   time attempt inquiry remove need call contact...   \n",
       "3   book   ticket offer ticket reward card informa...   \n",
       "2   chase card report application submit identity ...   \n",
       "57  action company date   individual group contact...   \n",
       "24  purchase  payment   payment closing date  stat...   \n",
       "33  chase bank report credit bureau day payment ca...   \n",
       "7   summer month experience decline income employm...   \n",
       "70  occasion bank chase overdraft fee account way ...   \n",
       "\n",
       "                                      complaint_clean  Topic  \n",
       "0   morning name   chase bank cardmember service w...      0  \n",
       "4   grand son check deposit chase account fund cha...      0  \n",
       "10                      mishandle account chase auto       0  \n",
       "6   jp morgan chase restrict account debit card tu...      0  \n",
       "8    payment retailer chase pay  chase website sca...      0  \n",
       "22  roommate chase debit card driver license prete...      1  \n",
       "21  citizen company   time share company credit ca...      1  \n",
       "16    sofa love seat table chair debit card charge...      1  \n",
       "14  chase amazon card decline cater order place br...      1  \n",
       "1     card agent upgrade anniversary date agent in...      1  \n",
       "20  jp morgan chase bank follow question     jpmor...      2  \n",
       "23   loan modification chase runaround mo payment aen      2  \n",
       "30  wire chase branch   exact reinstatement amount...      2  \n",
       "32         loan but chase financial title contact ...      2  \n",
       "41  name   payment day past current time loan modi...      2  \n",
       "9   chase credit card data credit report company i...      3  \n",
       "5                                             inquiry      3  \n",
       "11   time attempt inquiry remove need call contact...      3  \n",
       "3   book   ticket offer ticket reward card informa...      3  \n",
       "2   chase card report application submit identity ...      3  \n",
       "57  action company date   individual group contact...      4  \n",
       "24  purchase  payment   payment closing date  stat...      4  \n",
       "33  chase bank report credit bureau day payment ca...      4  \n",
       "7   summer month experience decline income employm...      4  \n",
       "70  occasion bank chase overdraft fee account way ...      4  "
      ]
     },
     "execution_count": 59,
     "metadata": {},
     "output_type": "execute_result"
    }
   ],
   "source": [
    "#Print the first 5 Complaint for each of the Topics\n",
    "df_clean_topic = df_clean.groupby('Topic').head(5)\n",
    "df_clean_topic.sort_values('Topic')"
   ]
  },
  {
   "cell_type": "markdown",
   "metadata": {
    "id": "piyLxzj6v07j"
   },
   "source": [
    "#### After evaluating the mapping, if the topics assigned are correct then assign these names to the relevant topic:\n",
    "* Bank Account services\n",
    "* Credit card or prepaid card\n",
    "* Theft/Dispute Reporting\n",
    "* Mortgage/Loan\n",
    "* Others"
   ]
  },
  {
   "cell_type": "code",
   "execution_count": 60,
   "metadata": {
    "id": "TWpwDG4RJrGG"
   },
   "outputs": [
    {
     "name": "stderr",
     "output_type": "stream",
     "text": [
      "C:\\Users\\91973\\AppData\\Local\\Temp/ipykernel_17784/2076708187.py:11: SettingWithCopyWarning:\n",
      "\n",
      "\n",
      "A value is trying to be set on a copy of a slice from a DataFrame.\n",
      "Try using .loc[row_indexer,col_indexer] = value instead\n",
      "\n",
      "See the caveats in the documentation: https://pandas.pydata.org/pandas-docs/stable/user_guide/indexing.html#returning-a-view-versus-a-copy\n",
      "\n"
     ]
    }
   ],
   "source": [
    "#Create the dictionary of Topic names and Topics\n",
    "\n",
    "Topic_names = { \n",
    "                0 : \"Bank account services\",\n",
    "                1 : \"Credit Card/Prepaid Card\",\n",
    "                2 : \"Mortgages/loans\",\n",
    "                3 : \"Theft/Dispute reporting\",\n",
    "                4 : \"Others\"\n",
    "}\n",
    "#Replace Topics with Topic Names\n",
    "df_clean['Topic'] = df_clean['Topic'].map(Topic_names)"
   ]
  },
  {
   "cell_type": "code",
   "execution_count": 61,
   "metadata": {
    "id": "-2ULY5K6JrGG"
   },
   "outputs": [
    {
     "data": {
      "text/html": [
       "<div>\n",
       "<style scoped>\n",
       "    .dataframe tbody tr th:only-of-type {\n",
       "        vertical-align: middle;\n",
       "    }\n",
       "\n",
       "    .dataframe tbody tr th {\n",
       "        vertical-align: top;\n",
       "    }\n",
       "\n",
       "    .dataframe thead th {\n",
       "        text-align: right;\n",
       "    }\n",
       "</style>\n",
       "<table border=\"1\" class=\"dataframe\">\n",
       "  <thead>\n",
       "    <tr style=\"text-align: right;\">\n",
       "      <th></th>\n",
       "      <th>complaint</th>\n",
       "      <th>complaint_lemmatized</th>\n",
       "      <th>complaint_POS_removed</th>\n",
       "      <th>complaint_clean</th>\n",
       "      <th>Topic</th>\n",
       "    </tr>\n",
       "  </thead>\n",
       "  <tbody>\n",
       "    <tr>\n",
       "      <th>0</th>\n",
       "      <td>Good morning my name is XXXX XXXX and I apprec...</td>\n",
       "      <td>good morning name   appreciate could help put ...</td>\n",
       "      <td>morning name   chase bank cardmember service w...</td>\n",
       "      <td>morning name   chase bank cardmember service w...</td>\n",
       "      <td>Bank account services</td>\n",
       "    </tr>\n",
       "    <tr>\n",
       "      <th>1</th>\n",
       "      <td>I upgraded my XXXX XXXX card in XX/XX/2018 and...</td>\n",
       "      <td>upgraded   card tell agent upgrade anniversary...</td>\n",
       "      <td>card agent upgrade anniversary date agent in...</td>\n",
       "      <td>card agent upgrade anniversary date agent in...</td>\n",
       "      <td>Credit Card/Prepaid Card</td>\n",
       "    </tr>\n",
       "    <tr>\n",
       "      <th>2</th>\n",
       "      <td>Chase Card was reported on XX/XX/2019. However...</td>\n",
       "      <td>chase card report however fraudulent applicati...</td>\n",
       "      <td>chase card report application submit identity ...</td>\n",
       "      <td>chase card report application submit identity ...</td>\n",
       "      <td>Theft/Dispute reporting</td>\n",
       "    </tr>\n",
       "    <tr>\n",
       "      <th>3</th>\n",
       "      <td>On XX/XX/2018, while trying to book a XXXX  XX...</td>\n",
       "      <td>try book   ticket come across offer apply towa...</td>\n",
       "      <td>book   ticket offer ticket reward card informa...</td>\n",
       "      <td>book   ticket offer ticket reward card informa...</td>\n",
       "      <td>Theft/Dispute reporting</td>\n",
       "    </tr>\n",
       "    <tr>\n",
       "      <th>4</th>\n",
       "      <td>my grand son give me check for {$1600.00} i de...</td>\n",
       "      <td>grand son give check deposit chase account fun...</td>\n",
       "      <td>grand son check deposit chase account fund cha...</td>\n",
       "      <td>grand son check deposit chase account fund cha...</td>\n",
       "      <td>Bank account services</td>\n",
       "    </tr>\n",
       "    <tr>\n",
       "      <th>...</th>\n",
       "      <td>...</td>\n",
       "      <td>...</td>\n",
       "      <td>...</td>\n",
       "      <td>...</td>\n",
       "      <td>...</td>\n",
       "    </tr>\n",
       "    <tr>\n",
       "      <th>21067</th>\n",
       "      <td>After being a Chase Card customer for well ove...</td>\n",
       "      <td>chase card customer well decade offer multiple...</td>\n",
       "      <td>chase card customer decade solicitation credit...</td>\n",
       "      <td>chase card customer decade solicitation credit...</td>\n",
       "      <td>Credit Card/Prepaid Card</td>\n",
       "    </tr>\n",
       "    <tr>\n",
       "      <th>21068</th>\n",
       "      <td>On Wednesday, XX/XX/XXXX I called Chas, my XXX...</td>\n",
       "      <td>wednesday  call chas   visa credit card provid...</td>\n",
       "      <td>wednesday  call chas   visa credit card provid...</td>\n",
       "      <td>wednesday  call chas   visa credit card provid...</td>\n",
       "      <td>Credit Card/Prepaid Card</td>\n",
       "    </tr>\n",
       "    <tr>\n",
       "      <th>21069</th>\n",
       "      <td>I am not familiar with XXXX pay and did not un...</td>\n",
       "      <td>familiar  pay understand great risk provide co...</td>\n",
       "      <td>risk consumer chase bank app chase year trust...</td>\n",
       "      <td>risk consumer chase bank app chase year trust...</td>\n",
       "      <td>Bank account services</td>\n",
       "    </tr>\n",
       "    <tr>\n",
       "      <th>21070</th>\n",
       "      <td>I have had flawless credit for 30 yrs. I've ha...</td>\n",
       "      <td>flawless credit yrs ive chase credit card chas...</td>\n",
       "      <td>credit yrs chase credit card chase freedom  pr...</td>\n",
       "      <td>credit yrs chase credit card chase freedom  pr...</td>\n",
       "      <td>Others</td>\n",
       "    </tr>\n",
       "    <tr>\n",
       "      <th>21071</th>\n",
       "      <td>Roughly 10+ years ago I closed out my accounts...</td>\n",
       "      <td>roughly year ago close account jp morgan chase...</td>\n",
       "      <td>year account jp morgan chase bank  order line ...</td>\n",
       "      <td>year account jp morgan chase bank  order line ...</td>\n",
       "      <td>Others</td>\n",
       "    </tr>\n",
       "  </tbody>\n",
       "</table>\n",
       "<p>21072 rows × 5 columns</p>\n",
       "</div>"
      ],
      "text/plain": [
       "                                               complaint  \\\n",
       "0      Good morning my name is XXXX XXXX and I apprec...   \n",
       "1      I upgraded my XXXX XXXX card in XX/XX/2018 and...   \n",
       "2      Chase Card was reported on XX/XX/2019. However...   \n",
       "3      On XX/XX/2018, while trying to book a XXXX  XX...   \n",
       "4      my grand son give me check for {$1600.00} i de...   \n",
       "...                                                  ...   \n",
       "21067  After being a Chase Card customer for well ove...   \n",
       "21068  On Wednesday, XX/XX/XXXX I called Chas, my XXX...   \n",
       "21069  I am not familiar with XXXX pay and did not un...   \n",
       "21070  I have had flawless credit for 30 yrs. I've ha...   \n",
       "21071  Roughly 10+ years ago I closed out my accounts...   \n",
       "\n",
       "                                    complaint_lemmatized  \\\n",
       "0      good morning name   appreciate could help put ...   \n",
       "1      upgraded   card tell agent upgrade anniversary...   \n",
       "2      chase card report however fraudulent applicati...   \n",
       "3      try book   ticket come across offer apply towa...   \n",
       "4      grand son give check deposit chase account fun...   \n",
       "...                                                  ...   \n",
       "21067  chase card customer well decade offer multiple...   \n",
       "21068  wednesday  call chas   visa credit card provid...   \n",
       "21069  familiar  pay understand great risk provide co...   \n",
       "21070  flawless credit yrs ive chase credit card chas...   \n",
       "21071  roughly year ago close account jp morgan chase...   \n",
       "\n",
       "                                   complaint_POS_removed  \\\n",
       "0      morning name   chase bank cardmember service w...   \n",
       "1        card agent upgrade anniversary date agent in...   \n",
       "2      chase card report application submit identity ...   \n",
       "3      book   ticket offer ticket reward card informa...   \n",
       "4      grand son check deposit chase account fund cha...   \n",
       "...                                                  ...   \n",
       "21067  chase card customer decade solicitation credit...   \n",
       "21068  wednesday  call chas   visa credit card provid...   \n",
       "21069   risk consumer chase bank app chase year trust...   \n",
       "21070  credit yrs chase credit card chase freedom  pr...   \n",
       "21071  year account jp morgan chase bank  order line ...   \n",
       "\n",
       "                                         complaint_clean  \\\n",
       "0      morning name   chase bank cardmember service w...   \n",
       "1        card agent upgrade anniversary date agent in...   \n",
       "2      chase card report application submit identity ...   \n",
       "3      book   ticket offer ticket reward card informa...   \n",
       "4      grand son check deposit chase account fund cha...   \n",
       "...                                                  ...   \n",
       "21067  chase card customer decade solicitation credit...   \n",
       "21068  wednesday  call chas   visa credit card provid...   \n",
       "21069   risk consumer chase bank app chase year trust...   \n",
       "21070  credit yrs chase credit card chase freedom  pr...   \n",
       "21071  year account jp morgan chase bank  order line ...   \n",
       "\n",
       "                          Topic  \n",
       "0         Bank account services  \n",
       "1      Credit Card/Prepaid Card  \n",
       "2       Theft/Dispute reporting  \n",
       "3       Theft/Dispute reporting  \n",
       "4         Bank account services  \n",
       "...                         ...  \n",
       "21067  Credit Card/Prepaid Card  \n",
       "21068  Credit Card/Prepaid Card  \n",
       "21069     Bank account services  \n",
       "21070                    Others  \n",
       "21071                    Others  \n",
       "\n",
       "[21072 rows x 5 columns]"
      ]
     },
     "execution_count": 61,
     "metadata": {},
     "output_type": "execute_result"
    }
   ],
   "source": [
    "df_clean"
   ]
  },
  {
   "cell_type": "code",
   "execution_count": 62,
   "metadata": {},
   "outputs": [
    {
     "data": {
      "text/plain": [
       "(21072, 5)"
      ]
     },
     "execution_count": 62,
     "metadata": {},
     "output_type": "execute_result"
    }
   ],
   "source": [
    "#df_clean['Topic']\n",
    "df_clean.shape"
   ]
  },
  {
   "cell_type": "markdown",
   "metadata": {
    "id": "7Mu0QBOcJrGH"
   },
   "source": [
    "## Supervised model to predict any new complaints to the relevant Topics.\n",
    "\n",
    "You have now build the model to create the topics for each complaints.Now in the below section you will use them to classify any new complaints.\n",
    "\n",
    "Since you will be using supervised learning technique we have to convert the topic names to numbers(numpy arrays only understand numbers)"
   ]
  },
  {
   "cell_type": "code",
   "execution_count": 63,
   "metadata": {
    "id": "_U8J3J8wJrGH"
   },
   "outputs": [
    {
     "name": "stderr",
     "output_type": "stream",
     "text": [
      "C:\\Users\\91973\\AppData\\Local\\Temp/ipykernel_17784/3118291149.py:11: SettingWithCopyWarning:\n",
      "\n",
      "\n",
      "A value is trying to be set on a copy of a slice from a DataFrame.\n",
      "Try using .loc[row_indexer,col_indexer] = value instead\n",
      "\n",
      "See the caveats in the documentation: https://pandas.pydata.org/pandas-docs/stable/user_guide/indexing.html#returning-a-view-versus-a-copy\n",
      "\n"
     ]
    }
   ],
   "source": [
    "#Create the dictionary again of Topic names and Topics\n",
    "\n",
    "Topic_names = { \n",
    "    \"Bank account services\" : 0,\n",
    "    \"Credit Card/Prepaid Card\" : 1,\n",
    "    \"Mortgages/loans\" : 2,\n",
    "    \"Theft/Dispute reporting\" : 3,\n",
    "    \"Others\" : 4\n",
    "}\n",
    "#Replace Topics with Topic Names\n",
    "df_clean['Topic'] = df_clean['Topic'].map(Topic_names)"
   ]
  },
  {
   "cell_type": "code",
   "execution_count": 64,
   "metadata": {
    "id": "BWIgJUkQJrGH"
   },
   "outputs": [
    {
     "data": {
      "text/html": [
       "<div>\n",
       "<style scoped>\n",
       "    .dataframe tbody tr th:only-of-type {\n",
       "        vertical-align: middle;\n",
       "    }\n",
       "\n",
       "    .dataframe tbody tr th {\n",
       "        vertical-align: top;\n",
       "    }\n",
       "\n",
       "    .dataframe thead th {\n",
       "        text-align: right;\n",
       "    }\n",
       "</style>\n",
       "<table border=\"1\" class=\"dataframe\">\n",
       "  <thead>\n",
       "    <tr style=\"text-align: right;\">\n",
       "      <th></th>\n",
       "      <th>complaint</th>\n",
       "      <th>complaint_lemmatized</th>\n",
       "      <th>complaint_POS_removed</th>\n",
       "      <th>complaint_clean</th>\n",
       "      <th>Topic</th>\n",
       "    </tr>\n",
       "  </thead>\n",
       "  <tbody>\n",
       "    <tr>\n",
       "      <th>0</th>\n",
       "      <td>Good morning my name is XXXX XXXX and I apprec...</td>\n",
       "      <td>good morning name   appreciate could help put ...</td>\n",
       "      <td>morning name   chase bank cardmember service w...</td>\n",
       "      <td>morning name   chase bank cardmember service w...</td>\n",
       "      <td>0</td>\n",
       "    </tr>\n",
       "    <tr>\n",
       "      <th>1</th>\n",
       "      <td>I upgraded my XXXX XXXX card in XX/XX/2018 and...</td>\n",
       "      <td>upgraded   card tell agent upgrade anniversary...</td>\n",
       "      <td>card agent upgrade anniversary date agent in...</td>\n",
       "      <td>card agent upgrade anniversary date agent in...</td>\n",
       "      <td>1</td>\n",
       "    </tr>\n",
       "    <tr>\n",
       "      <th>2</th>\n",
       "      <td>Chase Card was reported on XX/XX/2019. However...</td>\n",
       "      <td>chase card report however fraudulent applicati...</td>\n",
       "      <td>chase card report application submit identity ...</td>\n",
       "      <td>chase card report application submit identity ...</td>\n",
       "      <td>3</td>\n",
       "    </tr>\n",
       "    <tr>\n",
       "      <th>3</th>\n",
       "      <td>On XX/XX/2018, while trying to book a XXXX  XX...</td>\n",
       "      <td>try book   ticket come across offer apply towa...</td>\n",
       "      <td>book   ticket offer ticket reward card informa...</td>\n",
       "      <td>book   ticket offer ticket reward card informa...</td>\n",
       "      <td>3</td>\n",
       "    </tr>\n",
       "    <tr>\n",
       "      <th>4</th>\n",
       "      <td>my grand son give me check for {$1600.00} i de...</td>\n",
       "      <td>grand son give check deposit chase account fun...</td>\n",
       "      <td>grand son check deposit chase account fund cha...</td>\n",
       "      <td>grand son check deposit chase account fund cha...</td>\n",
       "      <td>0</td>\n",
       "    </tr>\n",
       "    <tr>\n",
       "      <th>...</th>\n",
       "      <td>...</td>\n",
       "      <td>...</td>\n",
       "      <td>...</td>\n",
       "      <td>...</td>\n",
       "      <td>...</td>\n",
       "    </tr>\n",
       "    <tr>\n",
       "      <th>21067</th>\n",
       "      <td>After being a Chase Card customer for well ove...</td>\n",
       "      <td>chase card customer well decade offer multiple...</td>\n",
       "      <td>chase card customer decade solicitation credit...</td>\n",
       "      <td>chase card customer decade solicitation credit...</td>\n",
       "      <td>1</td>\n",
       "    </tr>\n",
       "    <tr>\n",
       "      <th>21068</th>\n",
       "      <td>On Wednesday, XX/XX/XXXX I called Chas, my XXX...</td>\n",
       "      <td>wednesday  call chas   visa credit card provid...</td>\n",
       "      <td>wednesday  call chas   visa credit card provid...</td>\n",
       "      <td>wednesday  call chas   visa credit card provid...</td>\n",
       "      <td>1</td>\n",
       "    </tr>\n",
       "    <tr>\n",
       "      <th>21069</th>\n",
       "      <td>I am not familiar with XXXX pay and did not un...</td>\n",
       "      <td>familiar  pay understand great risk provide co...</td>\n",
       "      <td>risk consumer chase bank app chase year trust...</td>\n",
       "      <td>risk consumer chase bank app chase year trust...</td>\n",
       "      <td>0</td>\n",
       "    </tr>\n",
       "    <tr>\n",
       "      <th>21070</th>\n",
       "      <td>I have had flawless credit for 30 yrs. I've ha...</td>\n",
       "      <td>flawless credit yrs ive chase credit card chas...</td>\n",
       "      <td>credit yrs chase credit card chase freedom  pr...</td>\n",
       "      <td>credit yrs chase credit card chase freedom  pr...</td>\n",
       "      <td>4</td>\n",
       "    </tr>\n",
       "    <tr>\n",
       "      <th>21071</th>\n",
       "      <td>Roughly 10+ years ago I closed out my accounts...</td>\n",
       "      <td>roughly year ago close account jp morgan chase...</td>\n",
       "      <td>year account jp morgan chase bank  order line ...</td>\n",
       "      <td>year account jp morgan chase bank  order line ...</td>\n",
       "      <td>4</td>\n",
       "    </tr>\n",
       "  </tbody>\n",
       "</table>\n",
       "<p>21072 rows × 5 columns</p>\n",
       "</div>"
      ],
      "text/plain": [
       "                                               complaint  \\\n",
       "0      Good morning my name is XXXX XXXX and I apprec...   \n",
       "1      I upgraded my XXXX XXXX card in XX/XX/2018 and...   \n",
       "2      Chase Card was reported on XX/XX/2019. However...   \n",
       "3      On XX/XX/2018, while trying to book a XXXX  XX...   \n",
       "4      my grand son give me check for {$1600.00} i de...   \n",
       "...                                                  ...   \n",
       "21067  After being a Chase Card customer for well ove...   \n",
       "21068  On Wednesday, XX/XX/XXXX I called Chas, my XXX...   \n",
       "21069  I am not familiar with XXXX pay and did not un...   \n",
       "21070  I have had flawless credit for 30 yrs. I've ha...   \n",
       "21071  Roughly 10+ years ago I closed out my accounts...   \n",
       "\n",
       "                                    complaint_lemmatized  \\\n",
       "0      good morning name   appreciate could help put ...   \n",
       "1      upgraded   card tell agent upgrade anniversary...   \n",
       "2      chase card report however fraudulent applicati...   \n",
       "3      try book   ticket come across offer apply towa...   \n",
       "4      grand son give check deposit chase account fun...   \n",
       "...                                                  ...   \n",
       "21067  chase card customer well decade offer multiple...   \n",
       "21068  wednesday  call chas   visa credit card provid...   \n",
       "21069  familiar  pay understand great risk provide co...   \n",
       "21070  flawless credit yrs ive chase credit card chas...   \n",
       "21071  roughly year ago close account jp morgan chase...   \n",
       "\n",
       "                                   complaint_POS_removed  \\\n",
       "0      morning name   chase bank cardmember service w...   \n",
       "1        card agent upgrade anniversary date agent in...   \n",
       "2      chase card report application submit identity ...   \n",
       "3      book   ticket offer ticket reward card informa...   \n",
       "4      grand son check deposit chase account fund cha...   \n",
       "...                                                  ...   \n",
       "21067  chase card customer decade solicitation credit...   \n",
       "21068  wednesday  call chas   visa credit card provid...   \n",
       "21069   risk consumer chase bank app chase year trust...   \n",
       "21070  credit yrs chase credit card chase freedom  pr...   \n",
       "21071  year account jp morgan chase bank  order line ...   \n",
       "\n",
       "                                         complaint_clean  Topic  \n",
       "0      morning name   chase bank cardmember service w...      0  \n",
       "1        card agent upgrade anniversary date agent in...      1  \n",
       "2      chase card report application submit identity ...      3  \n",
       "3      book   ticket offer ticket reward card informa...      3  \n",
       "4      grand son check deposit chase account fund cha...      0  \n",
       "...                                                  ...    ...  \n",
       "21067  chase card customer decade solicitation credit...      1  \n",
       "21068  wednesday  call chas   visa credit card provid...      1  \n",
       "21069   risk consumer chase bank app chase year trust...      0  \n",
       "21070  credit yrs chase credit card chase freedom  pr...      4  \n",
       "21071  year account jp morgan chase bank  order line ...      4  \n",
       "\n",
       "[21072 rows x 5 columns]"
      ]
     },
     "execution_count": 64,
     "metadata": {},
     "output_type": "execute_result"
    }
   ],
   "source": [
    "df_clean"
   ]
  },
  {
   "cell_type": "code",
   "execution_count": 65,
   "metadata": {
    "id": "Xx-FrbkWJrGH"
   },
   "outputs": [],
   "source": [
    "#Keep the columns\"complaint_what_happened\" & \"Topic\" only in the new dataframe --> training_data\n",
    "training_data = df_clean[[\"complaint\", \"Topic\"]]"
   ]
  },
  {
   "cell_type": "code",
   "execution_count": 66,
   "metadata": {
    "id": "lVg2pa12JrGI"
   },
   "outputs": [
    {
     "data": {
      "text/html": [
       "<div>\n",
       "<style scoped>\n",
       "    .dataframe tbody tr th:only-of-type {\n",
       "        vertical-align: middle;\n",
       "    }\n",
       "\n",
       "    .dataframe tbody tr th {\n",
       "        vertical-align: top;\n",
       "    }\n",
       "\n",
       "    .dataframe thead th {\n",
       "        text-align: right;\n",
       "    }\n",
       "</style>\n",
       "<table border=\"1\" class=\"dataframe\">\n",
       "  <thead>\n",
       "    <tr style=\"text-align: right;\">\n",
       "      <th></th>\n",
       "      <th>complaint</th>\n",
       "      <th>Topic</th>\n",
       "    </tr>\n",
       "  </thead>\n",
       "  <tbody>\n",
       "    <tr>\n",
       "      <th>0</th>\n",
       "      <td>Good morning my name is XXXX XXXX and I apprec...</td>\n",
       "      <td>0</td>\n",
       "    </tr>\n",
       "    <tr>\n",
       "      <th>1</th>\n",
       "      <td>I upgraded my XXXX XXXX card in XX/XX/2018 and...</td>\n",
       "      <td>1</td>\n",
       "    </tr>\n",
       "    <tr>\n",
       "      <th>2</th>\n",
       "      <td>Chase Card was reported on XX/XX/2019. However...</td>\n",
       "      <td>3</td>\n",
       "    </tr>\n",
       "    <tr>\n",
       "      <th>3</th>\n",
       "      <td>On XX/XX/2018, while trying to book a XXXX  XX...</td>\n",
       "      <td>3</td>\n",
       "    </tr>\n",
       "    <tr>\n",
       "      <th>4</th>\n",
       "      <td>my grand son give me check for {$1600.00} i de...</td>\n",
       "      <td>0</td>\n",
       "    </tr>\n",
       "    <tr>\n",
       "      <th>...</th>\n",
       "      <td>...</td>\n",
       "      <td>...</td>\n",
       "    </tr>\n",
       "    <tr>\n",
       "      <th>21067</th>\n",
       "      <td>After being a Chase Card customer for well ove...</td>\n",
       "      <td>1</td>\n",
       "    </tr>\n",
       "    <tr>\n",
       "      <th>21068</th>\n",
       "      <td>On Wednesday, XX/XX/XXXX I called Chas, my XXX...</td>\n",
       "      <td>1</td>\n",
       "    </tr>\n",
       "    <tr>\n",
       "      <th>21069</th>\n",
       "      <td>I am not familiar with XXXX pay and did not un...</td>\n",
       "      <td>0</td>\n",
       "    </tr>\n",
       "    <tr>\n",
       "      <th>21070</th>\n",
       "      <td>I have had flawless credit for 30 yrs. I've ha...</td>\n",
       "      <td>4</td>\n",
       "    </tr>\n",
       "    <tr>\n",
       "      <th>21071</th>\n",
       "      <td>Roughly 10+ years ago I closed out my accounts...</td>\n",
       "      <td>4</td>\n",
       "    </tr>\n",
       "  </tbody>\n",
       "</table>\n",
       "<p>21072 rows × 2 columns</p>\n",
       "</div>"
      ],
      "text/plain": [
       "                                               complaint  Topic\n",
       "0      Good morning my name is XXXX XXXX and I apprec...      0\n",
       "1      I upgraded my XXXX XXXX card in XX/XX/2018 and...      1\n",
       "2      Chase Card was reported on XX/XX/2019. However...      3\n",
       "3      On XX/XX/2018, while trying to book a XXXX  XX...      3\n",
       "4      my grand son give me check for {$1600.00} i de...      0\n",
       "...                                                  ...    ...\n",
       "21067  After being a Chase Card customer for well ove...      1\n",
       "21068  On Wednesday, XX/XX/XXXX I called Chas, my XXX...      1\n",
       "21069  I am not familiar with XXXX pay and did not un...      0\n",
       "21070  I have had flawless credit for 30 yrs. I've ha...      4\n",
       "21071  Roughly 10+ years ago I closed out my accounts...      4\n",
       "\n",
       "[21072 rows x 2 columns]"
      ]
     },
     "execution_count": 66,
     "metadata": {},
     "output_type": "execute_result"
    }
   ],
   "source": [
    "training_data"
   ]
  },
  {
   "cell_type": "code",
   "execution_count": 67,
   "metadata": {},
   "outputs": [
    {
     "name": "stdout",
     "output_type": "stream",
     "text": [
      "<class 'pandas.core.frame.DataFrame'>\n",
      "RangeIndex: 21072 entries, 0 to 21071\n",
      "Data columns (total 2 columns):\n",
      " #   Column     Non-Null Count  Dtype \n",
      "---  ------     --------------  ----- \n",
      " 0   complaint  21072 non-null  object\n",
      " 1   Topic      21072 non-null  int64 \n",
      "dtypes: int64(1), object(1)\n",
      "memory usage: 329.4+ KB\n"
     ]
    }
   ],
   "source": [
    "training_data.info()"
   ]
  },
  {
   "cell_type": "markdown",
   "metadata": {
    "id": "280Vbqk-7a8M"
   },
   "source": [
    "####Apply the supervised models on the training data created. In this process, you have to do the following:\n",
    "* Create the vector counts using Count Vectoriser\n",
    "* Transform the word vecotr to tf-idf\n",
    "* Create the train & test data using the train_test_split on the tf-idf & topics\n"
   ]
  },
  {
   "cell_type": "code",
   "execution_count": 68,
   "metadata": {
    "id": "oUlQpgkzJrGI"
   },
   "outputs": [
    {
     "name": "stdout",
     "output_type": "stream",
     "text": [
      "[[0 0 0 ... 0 0 0]\n",
      " [0 0 0 ... 0 0 0]\n",
      " [0 0 0 ... 0 0 0]\n",
      " ...\n",
      " [0 0 0 ... 1 0 0]\n",
      " [6 0 0 ... 1 1 0]\n",
      " [2 0 0 ... 3 1 0]]\n"
     ]
    }
   ],
   "source": [
    "#Write your code to get the Vector count\n",
    "vectorizer = CountVectorizer(ngram_range=(1,3), stop_words='english', max_df=0.95, min_df=0.02)\n",
    "vector = vectorizer.fit_transform(training_data['complaint'])\n",
    "\n",
    "print(vector.toarray())"
   ]
  },
  {
   "cell_type": "code",
   "execution_count": 69,
   "metadata": {},
   "outputs": [
    {
     "data": {
      "text/plain": [
       "(21072, 883)"
      ]
     },
     "execution_count": 69,
     "metadata": {},
     "output_type": "execute_result"
    }
   ],
   "source": [
    "#Write your code here to transform the word vector to tf-idf\n",
    "from sklearn.feature_extraction.text import TfidfTransformer\n",
    "\n",
    "tfidf_transformer =TfidfTransformer(use_idf=True).fit(vector)\n",
    "word_vect = tfidf_transformer.transform(vector)\n",
    "word_vect.shape"
   ]
  },
  {
   "cell_type": "markdown",
   "metadata": {
    "id": "uMU3vj6w-wqL"
   },
   "source": [
    "You have to try atleast 3 models on the train & test data from these options:\n",
    "* Logistic regression\n",
    "* Decision Tree\n",
    "* Random Forest\n",
    "* Naive Bayes (optional)\n",
    "\n",
    "**Using the required evaluation metrics judge the tried models and select the ones performing the best**"
   ]
  },
  {
   "cell_type": "markdown",
   "metadata": {
    "id": "udLHpPsZJrGI"
   },
   "source": [
    "##### Write your code here to build any 3 models and evaluate them using the required metrics\n",
    "### Model training and evaluation"
   ]
  },
  {
   "cell_type": "code",
   "execution_count": 70,
   "metadata": {
    "id": "N2OznsObJrGP"
   },
   "outputs": [
    {
     "name": "stdout",
     "output_type": "stream",
     "text": [
      "feature columns :: 883\n",
      "\n",
      " ['00', '00 account', '00 chase', '00 xx', '00 xx xx', '00 xxxx', '00 xxxx xxxx', '10', '10 days', '100', '100 00', '1000', '1000 00', '12', '15', '18', '19', '20', '200', '200 00', '2000', '2000 00', '2015', '2016', '2017', '2018', '2019', '2020', '24', '30', '30 days', '50', '500', '500 00', '60', '90', 'ability', 'able', 'absolutely', 'accept', 'accepted', 'access', 'according', 'account', 'account chase', 'account chase bank', 'account closed', 'account number', 'account xx', 'account xx xx', 'account xxxx', 'account xxxx xxxx', 'accounts', 'act', 'action', 'actions', 'activity', 'actually', 'add', 'added', 'addition', 'additional', 'address', 'advised', 'agencies', 'agency', 'agent', 'ago', 'agreed', 'agreement', 'alert', 'allow', 'allowed', 'amazon', 'amounts', 'annual', 'answer', 'app', 'apparently', 'appears', 'application', 'applied', 'apply', 'approval', 'approved', 'approximately', 'ask', 'asked', 'asking', 'assist', 'assistance', 'assured', 'atm', 'attached', 'attempt', 'attempted', 'attempts', 'attorney', 'authorization', 'authorize', 'authorized', 'auto', 'available', 'avoid', 'aware', 'away', 'bad', 'balance', 'bank', 'bank account', 'bank chase', 'bank xx', 'bank xx xx', 'bank xxxx', 'bank xxxx xxxx', 'banker', 'banking', 'bankruptcy', 'banks', 'based', 'began', 'beginning', 'behalf', 'believe', 'best', 'better', 'billing', 'bills', 'bonus', 'branch', 'branch manager', 'branch xxxx', 'bureau', 'bureaus', 'business', 'business days', 'buy', 'ca', 'called', 'called chase', 'called xxxx', 'called xxxx xxxx', 'calling', 'calls', 'came', 'cancel', 'cancelled', 'car', 'card', 'card account', 'card chase', 'card company', 'card xx', 'card xx xx', 'card xxxx', 'cards', 'care', 'case', 'cash', 'cause', 'caused', 'causing', 'cfpb', 'change', 'changed', 'charge', 'charged', 'charges', 'charging', 'chase', 'chase account', 'chase bank', 'chase bank xxxx', 'chase branch', 'chase card', 'chase chase', 'chase checking', 'chase closed', 'chase credit', 'chase credit card', 'chase customer', 'chase customer service', 'chase did', 'chase freedom', 'chase mortgage', 'chase representative', 'chase said', 'chase sent', 'chase told', 'chase xx', 'chase xx xx', 'chase xxxx', 'chase xxxx xxxx', 'check', 'check xxxx', 'checked', 'checking', 'checking account', 'checks', 'claim', 'claimed', 'claiming', 'claims', 'clear', 'cleared', 'clearly', 'close', 'close account', 'closed', 'closed account', 'closing', 'code', 'collect', 'collection', 'come', 'communication', 'companies', 'company', 'complaint', 'complaint chase', 'complaints', 'complete', 'completed', 'completely', 'concern', 'confirm', 'confirmation', 'confirmed', 'consumer', 'consumers', 'contact', 'contact chase', 'contacted', 'contacted chase', 'contacted xxxx', 'contacting', 'continue', 'continued', 'contract', 'conversation', 'copies', 'copy', 'correct', 'correspondence', 'cost', 'couple', 'course', 'court', 'cover', 'covid', 'credit', 'credit account', 'credit bureaus', 'credit card', 'credit card account', 'credit card chase', 'credit card company', 'credit cards', 'credit report', 'credit reporting', 'credit reports', 'credit score', 'credited', 'current', 'currently', 'customer', 'customer service', 'customers', 'date', 'date xx', 'date xx xx', 'dated', 'dated xx', 'dated xx xx', 'dates', 'day', 'days', 'days later', 'deal', 'debit', 'debit card', 'debt', 'decided', 'decision', 'declined', 'denied', 'department', 'deposit', 'deposited', 'deposits', 'dept', 'despite', 'details', 'did', 'did receive', 'didn', 'didnt', 'different', 'direct', 'directly', 'discovered', 'dispute', 'disputed', 'document', 'documentation', 'documents', 'does', 'doing', 'dollars', 'don', 'dont', 'early', 'email', 'emailed', 'emails', 'employee', 'employees', 'end', 'ended', 'ending', 'ending xxxx', 'entire', 'error', 'escrow', 'evidence', 'executive', 'executive office', 'explain', 'explained', 'explanation', 'extra', 'extremely', 'fact', 'failed', 'fair', 'false', 'family', 'far', 'fault', 'fax', 'federal', 'fee', 'feel', 'fees', 'file', 'filed', 'filing', 'final', 'finally', 'finance', 'financial', 'fine', 'fix', 'fixed', 'follow', 'followed', 'following', 'forced', 'foreclosure', 'form', 'forward', 'fraud', 'fraud department', 'fraudulent', 'free', 'freedom', 'friday', 'funds', 'future', 'gave', 'getting', 'given', 'giving', 'going', 'gone', 'good', 'got', 'government', 'happen', 'happened', 'hard', 'having', 'hear', 'heard', 'held', 'help', 'high', 'higher', 'history', 'hold', 'holder', 'holding', 'home', 'honor', 'hour', 'hours', 'house', 'husband', 'id', 'idea', 'identity', 'identity theft', 'illegal', 'im', 'immediately', 'included', 'including', 'income', 'incorrect', 'indicated', 'info', 'inform', 'information', 'informed', 'initial', 'initially', 'initiated', 'inquiries', 'inquiry', 'instead', 'institution', 'insurance', 'investigate', 'investigation', 'involved', 'issue', 'issued', 'issues', 'item', 'items', 'job', 'jp', 'jp morgan', 'jp morgan chase', 'jpmorgan', 'jpmorgan chase', 'just', 'kept', 'kind', 'knew', 'know', 'knowledge', 'lack', 'large', 'late', 'late fees', 'late payment', 'later', 'law', 'leave', 'left', 'legal', 'lender', 'let', 'let know', 'letter', 'letter chase', 'letters', 'life', 'like', 'limit', 'line', 'listed', 'little', 'live', 'loan', 'loan modification', 'loan xxxx', 'loans', 'local', 'located', 'location', 'long', 'longer', 'look', 'looked', 'looking', 'loss', 'lost', 'lot', 'lower', 'mail', 'mailed', 'make', 'make payment', 'makes', 'making', 'manager', 'matter', 'means', 'mentioned', 'merchant', 'message', 'messages', 'minimum', 'minutes', 'missed', 'missing', 'mistake', 'modification', 'monday', 'money', 'money account', 'month', 'monthly', 'months', 'morgan', 'morgan chase', 'morgan chase bank', 'morning', 'mortgage', 'multiple', 'multiple times', 'named', 'named xxxx', 'need', 'needed', 'needs', 'negative', 'new', 'night', 'non', 'note', 'notice', 'noticed', 'notification', 'notified', 'number', 'number xxxx', 'numbers', 'numerous', 'obtain', 'occasions', 'occurred', 'offer', 'offered', 'office', 'old', 'online', 'open', 'opened', 'opened account', 'opening', 'option', 'options', 'order', 'original', 'overdraft', 'owe', 'owed', 'paid', 'paid xxxx', 'paper', 'paperwork', 'party', 'passed', 'past', 'pay', 'paying', 'payment', 'payment xxxx', 'payments', 'pending', 'people', 'period', 'person', 'personal', 'phone', 'phone calls', 'phone number', 'place', 'placed', 'plan', 'plus', 'point', 'points', 'police', 'police report', 'policy', 'possible', 'post', 'posted', 'practice', 'practices', 'previous', 'previously', 'prior', 'problem', 'problems', 'process', 'processed', 'product', 'program', 'promised', 'proof', 'properly', 'property', 'protect', 'protection', 'prove', 'provide', 'provided', 'providing', 'purchase', 'purchased', 'purchases', 'question', 'questions', 'rate', 'reach', 'reached', 'read', 'real', 'realized', 'really', 'reason', 'reasons', 'receipt', 'receive', 'received', 'received email', 'received letter', 'received letter chase', 'received xxxx', 'receiving', 'recent', 'recently', 'record', 'recorded', 'records', 'refinance', 'refund', 'refunded', 'refuse', 'refused', 'refuses', 'refusing', 'regarding', 'regards', 'related', 'relationship', 'release', 'remaining', 'remove', 'removed', 'rep', 'repeatedly', 'report', 'reported', 'reporting', 'reports', 'representative', 'representatives', 'request', 'requested', 'requesting', 'requests', 'required', 'research', 'resolution', 'resolve', 'resolve issue', 'resolved', 'respond', 'responded', 'response', 'responsibility', 'responsible', 'result', 'return', 'returned', 'reverse', 'reversed', 'review', 'reviewed', 'rewards', 'right', 'rights', 'run', 'said', 'sale', 'sapphire', 'savings', 'savings account', 'saw', 'say', 'saying', 'says', 'scam', 'score', 'second', 'secure', 'security', 'send', 'sending', 'sent', 'sent letter', 'sent xxxx', 'separate', 'service', 'services', 'set', 'short', 'showed', 'showing', 'shows', 'sign', 'signature', 'signed', 'simply', 'single', 'situation', 'small', 'social', 'social security', 'sold', 'soon', 'speak', 'speaking', 'specific', 'spent', 'spoke', 'spoke xxxx', 'standing', 'start', 'started', 'state', 'stated', 'statement', 'statements', 'states', 'stating', 'status', 'stolen', 'stop', 'stopped', 'submit', 'submitted', 'supervisor', 'support', 'supposed', 'sure', 'taken', 'taking', 'talk', 'talked', 'talking', 'tax', 'taxes', 'team', 'telephone', 'tell', 'telling', 'temporary', 'terms', 'text', 'thank', 'theft', 'thing', 'things', 'think', 'thought', 'time', 'time xxxx', 'timely', 'times', 'today', 'today xx', 'today xx xx', 'told', 'told chase', 'told xxxx', 'took', 'total', 'transaction', 'transactions', 'transfer', 'transferred', 'travel', 'tried', 'true', 'try', 'trying', 'turned', 'twice', 'type', 'unable', 'unauthorized', 'understand', 'unfair', 'unfortunately', 'update', 'use', 'used', 'using', 'valid', 'value', 've', 'verification', 'verified', 'verify', 'victim', 'violation', 'visa', 'wait', 'waited', 'waiting', 'want', 'wanted', 'wasn', 'way', 'website', 'week', 'weeks', 'went', 'went chase', 'wife', 'willing', 'withdraw', 'work', 'worked', 'working', 'writing', 'written', 'wrong', 'wrote', 'xx', 'xx 2018', 'xx 2019', 'xx 2020', 'xx xx', 'xx xx 2018', 'xx xx 2019', 'xx xx 2020', 'xx xx xxxx', 'xx xxxx', 'xx xxxx called', 'xx xxxx chase', 'xx xxxx received', 'xx xxxx xx', 'xx xxxx xxxx', 'xxxx', 'xxxx 2015', 'xxxx 2016', 'xxxx account', 'xxxx asked', 'xxxx bank', 'xxxx called', 'xxxx called chase', 'xxxx card', 'xxxx chase', 'xxxx chase bank', 'xxxx contacted', 'xxxx credit', 'xxxx credit card', 'xxxx did', 'xxxx dollars', 'xxxx informed', 'xxxx paid', 'xxxx payment', 'xxxx received', 'xxxx said', 'xxxx sent', 'xxxx spoke', 'xxxx time', 'xxxx told', 'xxxx went', 'xxxx xx', 'xxxx xx xx', 'xxxx xxxx', 'xxxx xxxx account', 'xxxx xxxx called', 'xxxx xxxx chase', 'xxxx xxxx credit', 'xxxx xxxx received', 'xxxx xxxx told', 'xxxx xxxx xx', 'xxxx xxxx xxxx', 'xxxx years', 'year', 'years', 'years ago', 'yes']\n"
     ]
    }
   ],
   "source": [
    "# Check the dataframe columns\n",
    "columns = vectorizer.get_feature_names()\n",
    "print('feature columns ::', len(columns))\n",
    "print('\\n',columns)"
   ]
  },
  {
   "cell_type": "code",
   "execution_count": 71,
   "metadata": {},
   "outputs": [
    {
     "data": {
      "text/html": [
       "<div>\n",
       "<style scoped>\n",
       "    .dataframe tbody tr th:only-of-type {\n",
       "        vertical-align: middle;\n",
       "    }\n",
       "\n",
       "    .dataframe tbody tr th {\n",
       "        vertical-align: top;\n",
       "    }\n",
       "\n",
       "    .dataframe thead th {\n",
       "        text-align: right;\n",
       "    }\n",
       "</style>\n",
       "<table border=\"1\" class=\"dataframe\">\n",
       "  <thead>\n",
       "    <tr style=\"text-align: right;\">\n",
       "      <th></th>\n",
       "      <th>00</th>\n",
       "      <th>00 account</th>\n",
       "      <th>00 chase</th>\n",
       "      <th>00 xx</th>\n",
       "      <th>00 xx xx</th>\n",
       "      <th>00 xxxx</th>\n",
       "      <th>00 xxxx xxxx</th>\n",
       "      <th>10</th>\n",
       "      <th>10 days</th>\n",
       "      <th>100</th>\n",
       "      <th>...</th>\n",
       "      <th>xxxx xxxx credit</th>\n",
       "      <th>xxxx xxxx received</th>\n",
       "      <th>xxxx xxxx told</th>\n",
       "      <th>xxxx xxxx xx</th>\n",
       "      <th>xxxx xxxx xxxx</th>\n",
       "      <th>xxxx years</th>\n",
       "      <th>year</th>\n",
       "      <th>years</th>\n",
       "      <th>years ago</th>\n",
       "      <th>yes</th>\n",
       "    </tr>\n",
       "  </thead>\n",
       "  <tbody>\n",
       "    <tr>\n",
       "      <th>0</th>\n",
       "      <td>0.000000</td>\n",
       "      <td>0.0</td>\n",
       "      <td>0.0</td>\n",
       "      <td>0.0</td>\n",
       "      <td>0.0</td>\n",
       "      <td>0.0</td>\n",
       "      <td>0.0</td>\n",
       "      <td>0.0</td>\n",
       "      <td>0.0</td>\n",
       "      <td>0.0</td>\n",
       "      <td>...</td>\n",
       "      <td>0.0</td>\n",
       "      <td>0.0</td>\n",
       "      <td>0.0</td>\n",
       "      <td>0.0</td>\n",
       "      <td>0.160604</td>\n",
       "      <td>0.0</td>\n",
       "      <td>0.0</td>\n",
       "      <td>0.0</td>\n",
       "      <td>0.0</td>\n",
       "      <td>0.0</td>\n",
       "    </tr>\n",
       "    <tr>\n",
       "      <th>1</th>\n",
       "      <td>0.000000</td>\n",
       "      <td>0.0</td>\n",
       "      <td>0.0</td>\n",
       "      <td>0.0</td>\n",
       "      <td>0.0</td>\n",
       "      <td>0.0</td>\n",
       "      <td>0.0</td>\n",
       "      <td>0.0</td>\n",
       "      <td>0.0</td>\n",
       "      <td>0.0</td>\n",
       "      <td>...</td>\n",
       "      <td>0.0</td>\n",
       "      <td>0.0</td>\n",
       "      <td>0.0</td>\n",
       "      <td>0.0</td>\n",
       "      <td>0.000000</td>\n",
       "      <td>0.0</td>\n",
       "      <td>0.0</td>\n",
       "      <td>0.0</td>\n",
       "      <td>0.0</td>\n",
       "      <td>0.0</td>\n",
       "    </tr>\n",
       "    <tr>\n",
       "      <th>2</th>\n",
       "      <td>0.000000</td>\n",
       "      <td>0.0</td>\n",
       "      <td>0.0</td>\n",
       "      <td>0.0</td>\n",
       "      <td>0.0</td>\n",
       "      <td>0.0</td>\n",
       "      <td>0.0</td>\n",
       "      <td>0.0</td>\n",
       "      <td>0.0</td>\n",
       "      <td>0.0</td>\n",
       "      <td>...</td>\n",
       "      <td>0.0</td>\n",
       "      <td>0.0</td>\n",
       "      <td>0.0</td>\n",
       "      <td>0.0</td>\n",
       "      <td>0.000000</td>\n",
       "      <td>0.0</td>\n",
       "      <td>0.0</td>\n",
       "      <td>0.0</td>\n",
       "      <td>0.0</td>\n",
       "      <td>0.0</td>\n",
       "    </tr>\n",
       "    <tr>\n",
       "      <th>3</th>\n",
       "      <td>0.035616</td>\n",
       "      <td>0.0</td>\n",
       "      <td>0.0</td>\n",
       "      <td>0.0</td>\n",
       "      <td>0.0</td>\n",
       "      <td>0.0</td>\n",
       "      <td>0.0</td>\n",
       "      <td>0.0</td>\n",
       "      <td>0.0</td>\n",
       "      <td>0.0</td>\n",
       "      <td>...</td>\n",
       "      <td>0.0</td>\n",
       "      <td>0.0</td>\n",
       "      <td>0.0</td>\n",
       "      <td>0.0</td>\n",
       "      <td>0.000000</td>\n",
       "      <td>0.0</td>\n",
       "      <td>0.0</td>\n",
       "      <td>0.0</td>\n",
       "      <td>0.0</td>\n",
       "      <td>0.0</td>\n",
       "    </tr>\n",
       "    <tr>\n",
       "      <th>4</th>\n",
       "      <td>0.068232</td>\n",
       "      <td>0.0</td>\n",
       "      <td>0.0</td>\n",
       "      <td>0.0</td>\n",
       "      <td>0.0</td>\n",
       "      <td>0.0</td>\n",
       "      <td>0.0</td>\n",
       "      <td>0.0</td>\n",
       "      <td>0.0</td>\n",
       "      <td>0.0</td>\n",
       "      <td>...</td>\n",
       "      <td>0.0</td>\n",
       "      <td>0.0</td>\n",
       "      <td>0.0</td>\n",
       "      <td>0.0</td>\n",
       "      <td>0.000000</td>\n",
       "      <td>0.0</td>\n",
       "      <td>0.0</td>\n",
       "      <td>0.0</td>\n",
       "      <td>0.0</td>\n",
       "      <td>0.0</td>\n",
       "    </tr>\n",
       "  </tbody>\n",
       "</table>\n",
       "<p>5 rows × 883 columns</p>\n",
       "</div>"
      ],
      "text/plain": [
       "         00  00 account  00 chase  00 xx  00 xx xx  00 xxxx  00 xxxx xxxx  \\\n",
       "0  0.000000         0.0       0.0    0.0       0.0      0.0           0.0   \n",
       "1  0.000000         0.0       0.0    0.0       0.0      0.0           0.0   \n",
       "2  0.000000         0.0       0.0    0.0       0.0      0.0           0.0   \n",
       "3  0.035616         0.0       0.0    0.0       0.0      0.0           0.0   \n",
       "4  0.068232         0.0       0.0    0.0       0.0      0.0           0.0   \n",
       "\n",
       "    10  10 days  100  ...  xxxx xxxx credit  xxxx xxxx received  \\\n",
       "0  0.0      0.0  0.0  ...               0.0                 0.0   \n",
       "1  0.0      0.0  0.0  ...               0.0                 0.0   \n",
       "2  0.0      0.0  0.0  ...               0.0                 0.0   \n",
       "3  0.0      0.0  0.0  ...               0.0                 0.0   \n",
       "4  0.0      0.0  0.0  ...               0.0                 0.0   \n",
       "\n",
       "   xxxx xxxx told  xxxx xxxx xx  xxxx xxxx xxxx  xxxx years  year  years  \\\n",
       "0             0.0           0.0        0.160604         0.0   0.0    0.0   \n",
       "1             0.0           0.0        0.000000         0.0   0.0    0.0   \n",
       "2             0.0           0.0        0.000000         0.0   0.0    0.0   \n",
       "3             0.0           0.0        0.000000         0.0   0.0    0.0   \n",
       "4             0.0           0.0        0.000000         0.0   0.0    0.0   \n",
       "\n",
       "   years ago  yes  \n",
       "0        0.0  0.0  \n",
       "1        0.0  0.0  \n",
       "2        0.0  0.0  \n",
       "3        0.0  0.0  \n",
       "4        0.0  0.0  \n",
       "\n",
       "[5 rows x 883 columns]"
      ]
     },
     "execution_count": 71,
     "metadata": {},
     "output_type": "execute_result"
    }
   ],
   "source": [
    "## create a dataframe\n",
    "word_vect_df = pd.DataFrame(word_vect.toarray(),columns=vectorizer.get_feature_names(),index=training_data.index)\n",
    "word_vect_df.head()"
   ]
  },
  {
   "cell_type": "code",
   "execution_count": 72,
   "metadata": {},
   "outputs": [],
   "source": [
    "## assign the label to be matched\n",
    "word_vect_df[\"Topic\"] = training_data[\"Topic\"]"
   ]
  },
  {
   "cell_type": "code",
   "execution_count": 73,
   "metadata": {},
   "outputs": [],
   "source": [
    "# common function to evaluate the matrix\n",
    "from sklearn import metrics\n",
    "\n",
    "def evaluate_accuracy(y_actual,y_pred):\n",
    "       \n",
    "    # Confusion matrix\n",
    "    confusion = metrics.confusion_matrix(y_actual, y_pred)\n",
    "\n",
    "    # Metrics calculation\n",
    "    accuracy = metrics.accuracy_score(y_actual,y_pred)\n",
    "    clf_report = metrics.classification_report(y_actual,y_pred)   # Sklearn classification report\n",
    "    \n",
    "    print(\"Accuracy   : \" + str(accuracy))\n",
    "    print(\"\\nConfusion matrix:\\n\", confusion)\n",
    "    print(\"\\nClassificationReport:\")\n",
    "    print(clf_report)\n",
    "    \n",
    "    return accuracy"
   ]
  },
  {
   "cell_type": "markdown",
   "metadata": {},
   "source": [
    "### Train test split "
   ]
  },
  {
   "cell_type": "code",
   "execution_count": 74,
   "metadata": {},
   "outputs": [],
   "source": [
    "from sklearn.model_selection import train_test_split\n",
    "\n",
    "X= word_vect_df.drop(['Topic'], axis=1)\n",
    "y= word_vect_df['Topic']\n",
    "\n",
    "# Splitting the data into train and test\n",
    "X_train, X_test, y_train, y_test = train_test_split(X, y, train_size=0.70, test_size=0.30, random_state=40, stratify=y)"
   ]
  },
  {
   "cell_type": "markdown",
   "metadata": {},
   "source": [
    "### Logistic Regression"
   ]
  },
  {
   "cell_type": "code",
   "execution_count": 75,
   "metadata": {},
   "outputs": [],
   "source": [
    "from sklearn.linear_model import LogisticRegression\n",
    "logistic_regression = LogisticRegression(solver='lbfgs', max_iter=1000)\n",
    "logistic_regression.fit(X_train, y_train)\n",
    "\n",
    "y_train_pred = logistic_regression.predict(X_train)\n",
    "y_pred = logistic_regression.predict(X_test)"
   ]
  },
  {
   "cell_type": "code",
   "execution_count": 76,
   "metadata": {},
   "outputs": [
    {
     "name": "stdout",
     "output_type": "stream",
     "text": [
      "Accuracy   : 0.9646101694915254\n",
      "\n",
      "Confusion matrix:\n",
      " [[4130   56   26    8    6]\n",
      " [  37 4270   20   19    8]\n",
      " [  49   36 2615   15    7]\n",
      " [  26   44   26 1664   12]\n",
      " [  51   35   36    5 1549]]\n",
      "\n",
      "ClassificationReport:\n",
      "              precision    recall  f1-score   support\n",
      "\n",
      "           0       0.96      0.98      0.97      4226\n",
      "           1       0.96      0.98      0.97      4354\n",
      "           2       0.96      0.96      0.96      2722\n",
      "           3       0.97      0.94      0.96      1772\n",
      "           4       0.98      0.92      0.95      1676\n",
      "\n",
      "    accuracy                           0.96     14750\n",
      "   macro avg       0.97      0.96      0.96     14750\n",
      "weighted avg       0.96      0.96      0.96     14750\n",
      "\n"
     ]
    }
   ],
   "source": [
    "lr_training_accuracy = evaluate_accuracy(y_train.values,y_train_pred)"
   ]
  },
  {
   "cell_type": "markdown",
   "metadata": {},
   "source": [
    "lr_test_acc = evaluate_accuracy(y_test.values,y_pred)"
   ]
  },
  {
   "cell_type": "markdown",
   "metadata": {},
   "source": [
    "#### Observation (Logistic Regression)\n",
    "Both train and test accuracy seems to be very close \n",
    "- Training accuracy= 96.30 %\n",
    "- Testing accuracy = 93.89%"
   ]
  },
  {
   "cell_type": "markdown",
   "metadata": {},
   "source": [
    "### Evaluate model with Decision Tree Classifier"
   ]
  },
  {
   "cell_type": "code",
   "execution_count": 77,
   "metadata": {},
   "outputs": [
    {
     "name": "stdout",
     "output_type": "stream",
     "text": [
      "Accuracy   : 0.820677966101695\n",
      "\n",
      "Confusion matrix:\n",
      " [[3377  239  307  172  131]\n",
      " [ 242 3501  244  270   97]\n",
      " [ 222   75 2203  101  121]\n",
      " [  53   58   88 1544   29]\n",
      " [  41   33   89   33 1480]]\n",
      "\n",
      "ClassificationReport:\n",
      "              precision    recall  f1-score   support\n",
      "\n",
      "           0       0.86      0.80      0.83      4226\n",
      "           1       0.90      0.80      0.85      4354\n",
      "           2       0.75      0.81      0.78      2722\n",
      "           3       0.73      0.87      0.79      1772\n",
      "           4       0.80      0.88      0.84      1676\n",
      "\n",
      "    accuracy                           0.82     14750\n",
      "   macro avg       0.81      0.83      0.82     14750\n",
      "weighted avg       0.83      0.82      0.82     14750\n",
      "\n"
     ]
    }
   ],
   "source": [
    "from sklearn.tree import DecisionTreeClassifier\n",
    "\n",
    "# Checking initial tree with standard params\n",
    "dt = DecisionTreeClassifier(random_state=40, max_depth=10, min_samples_leaf = 10, class_weight=\"balanced\")\n",
    "dt.fit(X_train,y_train)\n",
    "\n",
    "# predict the train and test\n",
    "y_train_pred_dt  = dt.predict(X_train)\n",
    "y_test_pred_dt = dt.predict(X_test)\n",
    "\n",
    "# check for model accuracy\n",
    "train_accuracy_dt = evaluate_accuracy(y_train.values, y_train_pred_dt)"
   ]
  },
  {
   "cell_type": "code",
   "execution_count": 78,
   "metadata": {},
   "outputs": [
    {
     "name": "stdout",
     "output_type": "stream",
     "text": [
      "Accuracy   : 0.7821891806390383\n",
      "\n",
      "Confusion matrix:\n",
      " [[1408  110  141   80   73]\n",
      " [ 123 1422  125  135   61]\n",
      " [ 112   32  890   56   77]\n",
      " [  28   43   44  622   22]\n",
      " [  30   17   48   20  603]]\n",
      "\n",
      "ClassificationReport:\n",
      "              precision    recall  f1-score   support\n",
      "\n",
      "           0       0.83      0.78      0.80      1812\n",
      "           1       0.88      0.76      0.81      1866\n",
      "           2       0.71      0.76      0.74      1167\n",
      "           3       0.68      0.82      0.74       759\n",
      "           4       0.72      0.84      0.78       718\n",
      "\n",
      "    accuracy                           0.78      6322\n",
      "   macro avg       0.76      0.79      0.77      6322\n",
      "weighted avg       0.79      0.78      0.78      6322\n",
      "\n"
     ]
    }
   ],
   "source": [
    "# check for test data accuracy\n",
    "test_accuracy_dt = evaluate_accuracy(y_test.values,y_test_pred_dt)"
   ]
  },
  {
   "cell_type": "markdown",
   "metadata": {},
   "source": [
    "#### Observation (Decision tree classifier)\n",
    "Both train and test accuracy are lower compared to logistic regression\n",
    "- Training accuracy= 82.40 %\n",
    "- Testing accuracy = 76.55 %"
   ]
  },
  {
   "cell_type": "markdown",
   "metadata": {},
   "source": [
    "#### Hyper parameter tuning for decision tree classifier"
   ]
  },
  {
   "cell_type": "code",
   "execution_count": 79,
   "metadata": {},
   "outputs": [],
   "source": [
    "from sklearn.model_selection import GridSearchCV\n",
    "\n",
    "dt = DecisionTreeClassifier(random_state = 40, class_weight=\"balanced\")\n",
    "\n",
    "# Create the parameter grid based on the results of random search \n",
    "params = {\n",
    "    'max_depth': [5, 10, 15, 20],\n",
    "    'min_samples_leaf': [5, 10, 20, 50],\n",
    "    'criterion': [\"entropy\", \"gini\"]\n",
    "}\n",
    "\n",
    "grid_search = GridSearchCV(estimator = dt,param_grid = params,cv = 5, n_jobs=-1, verbose=1, scoring=\"accuracy\", return_train_score=True)"
   ]
  },
  {
   "cell_type": "code",
   "execution_count": 80,
   "metadata": {},
   "outputs": [
    {
     "name": "stdout",
     "output_type": "stream",
     "text": [
      "Fitting 5 folds for each of 32 candidates, totalling 160 fits\n",
      "Wall time: 3min 18s\n"
     ]
    },
    {
     "data": {
      "text/plain": [
       "GridSearchCV(cv=5,\n",
       "             estimator=DecisionTreeClassifier(class_weight='balanced',\n",
       "                                              random_state=40),\n",
       "             n_jobs=-1,\n",
       "             param_grid={'criterion': ['entropy', 'gini'],\n",
       "                         'max_depth': [5, 10, 15, 20],\n",
       "                         'min_samples_leaf': [5, 10, 20, 50]},\n",
       "             return_train_score=True, scoring='accuracy', verbose=1)"
      ]
     },
     "execution_count": 80,
     "metadata": {},
     "output_type": "execute_result"
    }
   ],
   "source": [
    "%%time\n",
    "grid_search.fit(X_train, y_train)"
   ]
  },
  {
   "cell_type": "code",
   "execution_count": 81,
   "metadata": {},
   "outputs": [
    {
     "data": {
      "text/html": [
       "<div>\n",
       "<style scoped>\n",
       "    .dataframe tbody tr th:only-of-type {\n",
       "        vertical-align: middle;\n",
       "    }\n",
       "\n",
       "    .dataframe tbody tr th {\n",
       "        vertical-align: top;\n",
       "    }\n",
       "\n",
       "    .dataframe thead th {\n",
       "        text-align: right;\n",
       "    }\n",
       "</style>\n",
       "<table border=\"1\" class=\"dataframe\">\n",
       "  <thead>\n",
       "    <tr style=\"text-align: right;\">\n",
       "      <th></th>\n",
       "      <th>mean_fit_time</th>\n",
       "      <th>std_fit_time</th>\n",
       "      <th>mean_score_time</th>\n",
       "      <th>std_score_time</th>\n",
       "      <th>param_criterion</th>\n",
       "      <th>param_max_depth</th>\n",
       "      <th>param_min_samples_leaf</th>\n",
       "      <th>params</th>\n",
       "      <th>split0_test_score</th>\n",
       "      <th>split1_test_score</th>\n",
       "      <th>...</th>\n",
       "      <th>mean_test_score</th>\n",
       "      <th>std_test_score</th>\n",
       "      <th>rank_test_score</th>\n",
       "      <th>split0_train_score</th>\n",
       "      <th>split1_train_score</th>\n",
       "      <th>split2_train_score</th>\n",
       "      <th>split3_train_score</th>\n",
       "      <th>split4_train_score</th>\n",
       "      <th>mean_train_score</th>\n",
       "      <th>std_train_score</th>\n",
       "    </tr>\n",
       "  </thead>\n",
       "  <tbody>\n",
       "    <tr>\n",
       "      <th>0</th>\n",
       "      <td>8.539542</td>\n",
       "      <td>0.611343</td>\n",
       "      <td>0.059500</td>\n",
       "      <td>0.014748</td>\n",
       "      <td>entropy</td>\n",
       "      <td>5</td>\n",
       "      <td>5</td>\n",
       "      <td>{'criterion': 'entropy', 'max_depth': 5, 'min_...</td>\n",
       "      <td>0.711525</td>\n",
       "      <td>0.698305</td>\n",
       "      <td>...</td>\n",
       "      <td>0.700475</td>\n",
       "      <td>0.010218</td>\n",
       "      <td>29</td>\n",
       "      <td>0.710593</td>\n",
       "      <td>0.710678</td>\n",
       "      <td>0.708475</td>\n",
       "      <td>0.706102</td>\n",
       "      <td>0.712203</td>\n",
       "      <td>0.709610</td>\n",
       "      <td>0.002118</td>\n",
       "    </tr>\n",
       "    <tr>\n",
       "      <th>1</th>\n",
       "      <td>7.867695</td>\n",
       "      <td>1.431525</td>\n",
       "      <td>0.054196</td>\n",
       "      <td>0.012673</td>\n",
       "      <td>entropy</td>\n",
       "      <td>5</td>\n",
       "      <td>10</td>\n",
       "      <td>{'criterion': 'entropy', 'max_depth': 5, 'min_...</td>\n",
       "      <td>0.710847</td>\n",
       "      <td>0.698305</td>\n",
       "      <td>...</td>\n",
       "      <td>0.700339</td>\n",
       "      <td>0.010074</td>\n",
       "      <td>30</td>\n",
       "      <td>0.710763</td>\n",
       "      <td>0.710678</td>\n",
       "      <td>0.708390</td>\n",
       "      <td>0.706102</td>\n",
       "      <td>0.712203</td>\n",
       "      <td>0.709627</td>\n",
       "      <td>0.002144</td>\n",
       "    </tr>\n",
       "    <tr>\n",
       "      <th>2</th>\n",
       "      <td>6.103955</td>\n",
       "      <td>0.499112</td>\n",
       "      <td>0.059039</td>\n",
       "      <td>0.007406</td>\n",
       "      <td>entropy</td>\n",
       "      <td>5</td>\n",
       "      <td>20</td>\n",
       "      <td>{'criterion': 'entropy', 'max_depth': 5, 'min_...</td>\n",
       "      <td>0.710508</td>\n",
       "      <td>0.698305</td>\n",
       "      <td>...</td>\n",
       "      <td>0.700000</td>\n",
       "      <td>0.009671</td>\n",
       "      <td>31</td>\n",
       "      <td>0.710424</td>\n",
       "      <td>0.710254</td>\n",
       "      <td>0.708475</td>\n",
       "      <td>0.706102</td>\n",
       "      <td>0.712203</td>\n",
       "      <td>0.709492</td>\n",
       "      <td>0.002065</td>\n",
       "    </tr>\n",
       "    <tr>\n",
       "      <th>3</th>\n",
       "      <td>5.794456</td>\n",
       "      <td>0.418961</td>\n",
       "      <td>0.045780</td>\n",
       "      <td>0.004137</td>\n",
       "      <td>entropy</td>\n",
       "      <td>5</td>\n",
       "      <td>50</td>\n",
       "      <td>{'criterion': 'entropy', 'max_depth': 5, 'min_...</td>\n",
       "      <td>0.713559</td>\n",
       "      <td>0.701695</td>\n",
       "      <td>...</td>\n",
       "      <td>0.699932</td>\n",
       "      <td>0.010537</td>\n",
       "      <td>32</td>\n",
       "      <td>0.706949</td>\n",
       "      <td>0.710508</td>\n",
       "      <td>0.706102</td>\n",
       "      <td>0.703136</td>\n",
       "      <td>0.710254</td>\n",
       "      <td>0.707390</td>\n",
       "      <td>0.002753</td>\n",
       "    </tr>\n",
       "    <tr>\n",
       "      <th>4</th>\n",
       "      <td>10.081157</td>\n",
       "      <td>0.652843</td>\n",
       "      <td>0.050558</td>\n",
       "      <td>0.006510</td>\n",
       "      <td>entropy</td>\n",
       "      <td>10</td>\n",
       "      <td>5</td>\n",
       "      <td>{'criterion': 'entropy', 'max_depth': 10, 'min...</td>\n",
       "      <td>0.792542</td>\n",
       "      <td>0.763729</td>\n",
       "      <td>...</td>\n",
       "      <td>0.777017</td>\n",
       "      <td>0.011019</td>\n",
       "      <td>17</td>\n",
       "      <td>0.845085</td>\n",
       "      <td>0.838220</td>\n",
       "      <td>0.839831</td>\n",
       "      <td>0.844407</td>\n",
       "      <td>0.845085</td>\n",
       "      <td>0.842525</td>\n",
       "      <td>0.002913</td>\n",
       "    </tr>\n",
       "  </tbody>\n",
       "</table>\n",
       "<p>5 rows × 23 columns</p>\n",
       "</div>"
      ],
      "text/plain": [
       "   mean_fit_time  std_fit_time  mean_score_time  std_score_time  \\\n",
       "0       8.539542      0.611343         0.059500        0.014748   \n",
       "1       7.867695      1.431525         0.054196        0.012673   \n",
       "2       6.103955      0.499112         0.059039        0.007406   \n",
       "3       5.794456      0.418961         0.045780        0.004137   \n",
       "4      10.081157      0.652843         0.050558        0.006510   \n",
       "\n",
       "  param_criterion param_max_depth param_min_samples_leaf  \\\n",
       "0         entropy               5                      5   \n",
       "1         entropy               5                     10   \n",
       "2         entropy               5                     20   \n",
       "3         entropy               5                     50   \n",
       "4         entropy              10                      5   \n",
       "\n",
       "                                              params  split0_test_score  \\\n",
       "0  {'criterion': 'entropy', 'max_depth': 5, 'min_...           0.711525   \n",
       "1  {'criterion': 'entropy', 'max_depth': 5, 'min_...           0.710847   \n",
       "2  {'criterion': 'entropy', 'max_depth': 5, 'min_...           0.710508   \n",
       "3  {'criterion': 'entropy', 'max_depth': 5, 'min_...           0.713559   \n",
       "4  {'criterion': 'entropy', 'max_depth': 10, 'min...           0.792542   \n",
       "\n",
       "   split1_test_score  ...  mean_test_score  std_test_score  rank_test_score  \\\n",
       "0           0.698305  ...         0.700475        0.010218               29   \n",
       "1           0.698305  ...         0.700339        0.010074               30   \n",
       "2           0.698305  ...         0.700000        0.009671               31   \n",
       "3           0.701695  ...         0.699932        0.010537               32   \n",
       "4           0.763729  ...         0.777017        0.011019               17   \n",
       "\n",
       "   split0_train_score  split1_train_score  split2_train_score  \\\n",
       "0            0.710593            0.710678            0.708475   \n",
       "1            0.710763            0.710678            0.708390   \n",
       "2            0.710424            0.710254            0.708475   \n",
       "3            0.706949            0.710508            0.706102   \n",
       "4            0.845085            0.838220            0.839831   \n",
       "\n",
       "   split3_train_score  split4_train_score  mean_train_score  std_train_score  \n",
       "0            0.706102            0.712203          0.709610         0.002118  \n",
       "1            0.706102            0.712203          0.709627         0.002144  \n",
       "2            0.706102            0.712203          0.709492         0.002065  \n",
       "3            0.703136            0.710254          0.707390         0.002753  \n",
       "4            0.844407            0.845085          0.842525         0.002913  \n",
       "\n",
       "[5 rows x 23 columns]"
      ]
     },
     "execution_count": 81,
     "metadata": {},
     "output_type": "execute_result"
    }
   ],
   "source": [
    "# Get the results in tabular format\n",
    "scores = grid_search.cv_results_\n",
    "pd.DataFrame(scores).head()"
   ]
  },
  {
   "cell_type": "code",
   "execution_count": 82,
   "metadata": {},
   "outputs": [
    {
     "data": {
      "text/plain": [
       "{'criterion': 'gini', 'max_depth': 20, 'min_samples_leaf': 10}"
      ]
     },
     "execution_count": 82,
     "metadata": {},
     "output_type": "execute_result"
    }
   ],
   "source": [
    "grid_search.best_params_"
   ]
  },
  {
   "cell_type": "code",
   "execution_count": 83,
   "metadata": {},
   "outputs": [],
   "source": [
    "dt_best = DecisionTreeClassifier(random_state=40, max_depth = 20, min_samples_leaf = 10, class_weight=\"balanced\")\n",
    "dt_best.fit(X_train,y_train)\n",
    "\n",
    "y_train_pred_dt = dt_best.predict(X_train)\n",
    "y_test_pred_dt = dt_best.predict(X_test)"
   ]
  },
  {
   "cell_type": "code",
   "execution_count": 84,
   "metadata": {},
   "outputs": [
    {
     "name": "stdout",
     "output_type": "stream",
     "text": [
      "Accuracy   : 0.868\n",
      "\n",
      "Confusion matrix:\n",
      " [[3663  150  182  105  126]\n",
      " [ 219 3698  114  204  119]\n",
      " [ 124   48 2334   96  120]\n",
      " [  47   44   49 1601   31]\n",
      " [  38   28   73   30 1507]]\n",
      "\n",
      "ClassificationReport:\n",
      "              precision    recall  f1-score   support\n",
      "\n",
      "           0       0.90      0.87      0.88      4226\n",
      "           1       0.93      0.85      0.89      4354\n",
      "           2       0.85      0.86      0.85      2722\n",
      "           3       0.79      0.90      0.84      1772\n",
      "           4       0.79      0.90      0.84      1676\n",
      "\n",
      "    accuracy                           0.87     14750\n",
      "   macro avg       0.85      0.88      0.86     14750\n",
      "weighted avg       0.87      0.87      0.87     14750\n",
      "\n"
     ]
    }
   ],
   "source": [
    "train_accuracy_dt = evaluate_accuracy(y_train.values,y_train_pred_dt)"
   ]
  },
  {
   "cell_type": "code",
   "execution_count": 85,
   "metadata": {},
   "outputs": [
    {
     "name": "stdout",
     "output_type": "stream",
     "text": [
      "Accuracy   : 0.7968997152799747\n",
      "\n",
      "Confusion matrix:\n",
      " [[1466  108  108   57   73]\n",
      " [ 170 1430   61  128   77]\n",
      " [  86   38  915   47   81]\n",
      " [  25   55   33  623   23]\n",
      " [  35   21   39   19  604]]\n",
      "\n",
      "ClassificationReport:\n",
      "              precision    recall  f1-score   support\n",
      "\n",
      "           0       0.82      0.81      0.82      1812\n",
      "           1       0.87      0.77      0.81      1866\n",
      "           2       0.79      0.78      0.79      1167\n",
      "           3       0.71      0.82      0.76       759\n",
      "           4       0.70      0.84      0.77       718\n",
      "\n",
      "    accuracy                           0.80      6322\n",
      "   macro avg       0.78      0.80      0.79      6322\n",
      "weighted avg       0.80      0.80      0.80      6322\n",
      "\n"
     ]
    }
   ],
   "source": [
    "train_accuracy_dt = evaluate_accuracy(y_test.values, y_test_pred_dt)"
   ]
  },
  {
   "cell_type": "markdown",
   "metadata": {},
   "source": [
    "#### Observation (Decision Tree with hyper parameter tuning)\n",
    "Train and test accuracy did not seem to be close to logistic regression and model performed poorly compared to logistic regression\n",
    "- Training accuracy= 86.50 %\n",
    "- Testing accuracy = 78.31%"
   ]
  },
  {
   "cell_type": "markdown",
   "metadata": {},
   "source": [
    "### Random forest classifier"
   ]
  },
  {
   "cell_type": "code",
   "execution_count": 86,
   "metadata": {},
   "outputs": [],
   "source": [
    "from sklearn.ensemble import RandomForestClassifier\n",
    "from sklearn.model_selection import StratifiedKFold"
   ]
  },
  {
   "cell_type": "code",
   "execution_count": 87,
   "metadata": {},
   "outputs": [],
   "source": [
    "rf = RandomForestClassifier(random_state=42, class_weight=\"balanced\")\n",
    "\n",
    "folds = StratifiedKFold(n_splits=4, shuffle = True, random_state=40)\n",
    "\n",
    "param_grid = {\n",
    "     'max_depth': [5, 10, 20],\n",
    "     'min_samples_leaf': [10, 20, 50, 100],\n",
    "     'n_estimators': [15, 20, 25, 30],\n",
    "     'min_samples_split': range(10, 30, 50),\n",
    "     'max_features': [5, 10, 15],\n",
    "     'criterion': [\"gini\"]\n",
    "}\n",
    "\n",
    "# Instantiate the grid search model\n",
    "grid_search = GridSearchCV(estimator = rf, param_grid = param_grid, cv = folds, verbose = 1, scoring=\"accuracy\", return_train_score=True)"
   ]
  },
  {
   "cell_type": "code",
   "execution_count": 88,
   "metadata": {},
   "outputs": [
    {
     "name": "stdout",
     "output_type": "stream",
     "text": [
      "Fitting 4 folds for each of 144 candidates, totalling 576 fits\n"
     ]
    },
    {
     "data": {
      "text/plain": [
       "GridSearchCV(cv=StratifiedKFold(n_splits=4, random_state=40, shuffle=True),\n",
       "             estimator=RandomForestClassifier(class_weight='balanced',\n",
       "                                              random_state=42),\n",
       "             param_grid={'criterion': ['gini'], 'max_depth': [5, 10, 20],\n",
       "                         'max_features': [5, 10, 15],\n",
       "                         'min_samples_leaf': [10, 20, 50, 100],\n",
       "                         'min_samples_split': range(10, 30, 50),\n",
       "                         'n_estimators': [15, 20, 25, 30]},\n",
       "             return_train_score=True, scoring='accuracy', verbose=1)"
      ]
     },
     "execution_count": 88,
     "metadata": {},
     "output_type": "execute_result"
    }
   ],
   "source": [
    "# Fit the grid search to the data, This step may take a lot of time\n",
    "grid_search.fit(X_train, y_train)"
   ]
  },
  {
   "cell_type": "code",
   "execution_count": 89,
   "metadata": {},
   "outputs": [
    {
     "data": {
      "text/plain": [
       "0.8559316951392211"
      ]
     },
     "execution_count": 89,
     "metadata": {},
     "output_type": "execute_result"
    }
   ],
   "source": [
    "grid_search.best_score_"
   ]
  },
  {
   "cell_type": "code",
   "execution_count": 90,
   "metadata": {},
   "outputs": [
    {
     "data": {
      "text/plain": [
       "RandomForestClassifier(class_weight='balanced', max_depth=20, max_features=15,\n",
       "                       min_samples_leaf=10, min_samples_split=10,\n",
       "                       n_estimators=30, random_state=42)"
      ]
     },
     "execution_count": 90,
     "metadata": {},
     "output_type": "execute_result"
    }
   ],
   "source": [
    "rf_best = grid_search.best_estimator_\n",
    "rf_best"
   ]
  },
  {
   "cell_type": "code",
   "execution_count": 91,
   "metadata": {},
   "outputs": [
    {
     "data": {
      "text/plain": [
       "RandomForestClassifier(class_weight='balanced', max_depth=20, max_features=15,\n",
       "                       min_samples_leaf=10, min_samples_split=10,\n",
       "                       n_estimators=30, random_state=42)"
      ]
     },
     "execution_count": 91,
     "metadata": {},
     "output_type": "execute_result"
    }
   ],
   "source": [
    "rf_best.fit(X_train,y_train)"
   ]
  },
  {
   "cell_type": "code",
   "execution_count": 92,
   "metadata": {},
   "outputs": [],
   "source": [
    "y_train_pred_rf = rf_best.predict(X_train)\n",
    "y_test_pred_rf = rf_best.predict(X_test)"
   ]
  },
  {
   "cell_type": "code",
   "execution_count": 93,
   "metadata": {},
   "outputs": [
    {
     "name": "stdout",
     "output_type": "stream",
     "text": [
      "Accuracy   : 0.9033220338983051\n",
      "\n",
      "Confusion matrix:\n",
      " [[3909  113  102   52   50]\n",
      " [ 203 3871   64  133   83]\n",
      " [ 129   68 2404   63   58]\n",
      " [  21   27   21 1682   21]\n",
      " [  59   32  100   27 1458]]\n",
      "\n",
      "ClassificationReport:\n",
      "              precision    recall  f1-score   support\n",
      "\n",
      "           0       0.90      0.92      0.91      4226\n",
      "           1       0.94      0.89      0.91      4354\n",
      "           2       0.89      0.88      0.89      2722\n",
      "           3       0.86      0.95      0.90      1772\n",
      "           4       0.87      0.87      0.87      1676\n",
      "\n",
      "    accuracy                           0.90     14750\n",
      "   macro avg       0.89      0.90      0.90     14750\n",
      "weighted avg       0.90      0.90      0.90     14750\n",
      "\n"
     ]
    }
   ],
   "source": [
    "train_accuracy_rf = evaluate_accuracy(y_train.values,y_train_pred_rf)"
   ]
  },
  {
   "cell_type": "code",
   "execution_count": 94,
   "metadata": {},
   "outputs": [
    {
     "name": "stdout",
     "output_type": "stream",
     "text": [
      "Accuracy   : 0.8587472318886429\n",
      "\n",
      "Confusion matrix:\n",
      " [[1656   65   42   17   32]\n",
      " [ 139 1556   47   68   56]\n",
      " [  69   37  985   30   46]\n",
      " [  10   29   19  678   23]\n",
      " [  48   43   52   21  554]]\n",
      "\n",
      "ClassificationReport:\n",
      "              precision    recall  f1-score   support\n",
      "\n",
      "           0       0.86      0.91      0.89      1812\n",
      "           1       0.90      0.83      0.87      1866\n",
      "           2       0.86      0.84      0.85      1167\n",
      "           3       0.83      0.89      0.86       759\n",
      "           4       0.78      0.77      0.78       718\n",
      "\n",
      "    accuracy                           0.86      6322\n",
      "   macro avg       0.85      0.85      0.85      6322\n",
      "weighted avg       0.86      0.86      0.86      6322\n",
      "\n"
     ]
    }
   ],
   "source": [
    "train_accuracy_rf = evaluate_accuracy(y_test.values, y_test_pred_rf)"
   ]
  },
  {
   "cell_type": "markdown",
   "metadata": {},
   "source": [
    "#### Observation (Random forest Tree with hyper parameter tuning)\n",
    "Train and test accuracy seem to be close but performed poorly compared to logistic regression\n",
    "- Training accuracy= 89.79 %\n",
    "- Testing accuracy = 85.00 %"
   ]
  },
  {
   "cell_type": "markdown",
   "metadata": {},
   "source": [
    "### We can infer that from all the models logistic regression model seems to be best with training and testing accuracy close to 95%\n",
    "\n",
    "- Training accuracy= 96.30 %\n",
    "- Testing accuracy = 93.89%"
   ]
  },
  {
   "cell_type": "markdown",
   "metadata": {},
   "source": [
    "## Model inference"
   ]
  },
  {
   "cell_type": "code",
   "execution_count": 95,
   "metadata": {},
   "outputs": [
    {
     "name": "stdout",
     "output_type": "stream",
     "text": [
      "{'Bank account services': 0, 'Credit Card/Prepaid Card': 1, 'Mortgages/loans': 2, 'Theft/Dispute reporting': 3, 'Others': 4}\n"
     ]
    }
   ],
   "source": [
    "print(Topic_names)"
   ]
  },
  {
   "cell_type": "code",
   "execution_count": 96,
   "metadata": {},
   "outputs": [
    {
     "name": "stdout",
     "output_type": "stream",
     "text": [
      "{0: 'Bank account services', 1: 'Credit Card/Prepaid Card', 2: 'Mortgages/loans', 3: 'Theft/Dispute reporting', 4: 'Others'}\n"
     ]
    }
   ],
   "source": [
    "# Re-arrange the key and value to lookup the index\n",
    "Topic_names_index = {}\n",
    "for key in Topic_names:\n",
    "    Topic_names_index[Topic_names[key]] = key\n",
    "print(Topic_names_index)"
   ]
  },
  {
   "cell_type": "code",
   "execution_count": 97,
   "metadata": {},
   "outputs": [],
   "source": [
    "# To predict any custome text, sentence needs to be converted to vector form folloed by creating word vector from vocab. \n",
    "\n",
    "def predict_complaint(sentence, model = logistic_regression):\n",
    "    vect_custom = vectorizer.transform(pd.Series(sentence))\n",
    "    word_vect_custom = tfidf_transformer.transform(vect_custom)\n",
    "\n",
    "    word_vect_custom_df = pd.DataFrame(word_vect_custom.toarray(),columns=vectorizer.get_feature_names()) #Convert to data frame\n",
    "    custom_pred = model.predict(word_vect_custom_df) # Make predictions\n",
    "     \n",
    "    print(\"The text can be classified under topic number [{0}], which belongs to the following category: [{1}]\".format(custom_pred[0],Topic_names_index[custom_pred[0]]))"
   ]
  },
  {
   "cell_type": "code",
   "execution_count": 98,
   "metadata": {},
   "outputs": [
    {
     "name": "stdout",
     "output_type": "stream",
     "text": [
      "The text can be classified under topic number [1], which belongs to the following category: [Credit Card/Prepaid Card]\n"
     ]
    }
   ],
   "source": [
    "# Custom text 1\n",
    "text1 = \"This letter is to dispute an incorrectly charged amount on my credit card. My credit card number is XCXCXXC and it has a constant record of all bills cleared at the appropriate time.\"\n",
    "predict_complaint(text1)"
   ]
  },
  {
   "cell_type": "code",
   "execution_count": 99,
   "metadata": {},
   "outputs": [
    {
     "name": "stdout",
     "output_type": "stream",
     "text": [
      "The text can be classified under topic number [3], which belongs to the following category: [Theft/Dispute reporting]\n"
     ]
    }
   ],
   "source": [
    "# Custom text 2 \n",
    "predict_complaint(\"I want to report an incident of theft of my credit card.\")"
   ]
  },
  {
   "cell_type": "code",
   "execution_count": 100,
   "metadata": {},
   "outputs": [
    {
     "name": "stdout",
     "output_type": "stream",
     "text": [
      "The text can be classified under topic number [0], which belongs to the following category: [Bank account services]\n"
     ]
    }
   ],
   "source": [
    "# Custom text 3\n",
    "predict_complaint(\"I would like to convert my account into premium account to avail latest benefits.\")"
   ]
  },
  {
   "cell_type": "code",
   "execution_count": 101,
   "metadata": {},
   "outputs": [
    {
     "name": "stdout",
     "output_type": "stream",
     "text": [
      "The text can be classified under topic number [2], which belongs to the following category: [Mortgages/loans]\n"
     ]
    }
   ],
   "source": [
    "# Custom text 4\n",
    "predict_complaint(\"I am buying a new house, based on my current salary I should get a good loan.\")"
   ]
  },
  {
   "cell_type": "markdown",
   "metadata": {},
   "source": [
    "### Conclusion:\n",
    "- Thus we can see that built model performs correct given existing complaints in banking sector."
   ]
  },
  {
   "cell_type": "code",
   "execution_count": null,
   "metadata": {},
   "outputs": [],
   "source": []
  }
 ],
 "metadata": {
  "colab": {
   "collapsed_sections": [
    "T9jD_6SeJrF3",
    "5DfCSbbmJrF4",
    "yYzD85nTJrGA",
    "piyLxzj6v07j",
    "280Vbqk-7a8M"
   ],
   "name": "Automatic_Ticket_Classification_Assignment.ipynb",
   "provenance": []
  },
  "kernelspec": {
   "display_name": "Python 3 (ipykernel)",
   "language": "python",
   "name": "python3"
  },
  "language_info": {
   "codemirror_mode": {
    "name": "ipython",
    "version": 3
   },
   "file_extension": ".py",
   "mimetype": "text/x-python",
   "name": "python",
   "nbconvert_exporter": "python",
   "pygments_lexer": "ipython3",
   "version": "3.9.7"
  }
 },
 "nbformat": 4,
 "nbformat_minor": 4
}
